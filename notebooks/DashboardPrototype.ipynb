{
 "cells": [
  {
   "cell_type": "markdown",
   "id": "2efd4ebc-0971-47d0-8768-a634869bac98",
   "metadata": {},
   "source": [
    "---\n",
    "# **PHARMACY DASHBOARD PREREQUISITES**\n",
    "---"
   ]
  },
  {
   "cell_type": "markdown",
   "id": "0e6a2452-9635-4a29-9406-31e698160631",
   "metadata": {},
   "source": [
    "---\n",
    "#### IMPORT LIBRARIES\n"
   ]
  },
  {
   "cell_type": "code",
   "execution_count": 1,
   "id": "eea0c317-916a-4cea-9457-6a61cc80df19",
   "metadata": {},
   "outputs": [],
   "source": [
    "import pandas as pd\n",
    "import numpy as np\n",
    "import plotly.express as px\n",
    "import plotly.graph_objects as go\n",
    "\n",
    "from sklearn.preprocessing import StandardScaler\n",
    "from sklearn.pipeline import Pipeline\n",
    "from sklearn.compose import ColumnTransformer\n",
    "from sklearn.impute import SimpleImputer\n",
    "from sklearn.preprocessing import OneHotEncoder\n",
    "from sklearn.model_selection import train_test_split\n",
    "from sklearn.linear_model import LinearRegression"
   ]
  },
  {
   "cell_type": "markdown",
   "id": "568ac439-8ebf-4d1e-889f-dd41631cacdb",
   "metadata": {},
   "source": [
    "---\n",
    "#### LOAD DATASET\n"
   ]
  },
  {
   "cell_type": "code",
   "execution_count": 2,
   "id": "57ab9049-01e6-4a6d-a9f2-bfd801741290",
   "metadata": {},
   "outputs": [],
   "source": [
    "customer_df = pd.read_csv(\"customer_data.csv\")\n",
    "product_df = pd.read_csv(\"product_master.csv\")\n",
    "transaction_df = pd.read_csv(\"transaction_data.csv\")"
   ]
  },
  {
   "cell_type": "code",
   "execution_count": 3,
   "id": "9c2bd907-6259-4e11-afda-3e51dd747e68",
   "metadata": {},
   "outputs": [
    {
     "data": {
      "text/html": [
       "<div>\n",
       "<style scoped>\n",
       "    .dataframe tbody tr th:only-of-type {\n",
       "        vertical-align: middle;\n",
       "    }\n",
       "\n",
       "    .dataframe tbody tr th {\n",
       "        vertical-align: top;\n",
       "    }\n",
       "\n",
       "    .dataframe thead th {\n",
       "        text-align: right;\n",
       "    }\n",
       "</style>\n",
       "<table border=\"1\" class=\"dataframe\">\n",
       "  <thead>\n",
       "    <tr style=\"text-align: right;\">\n",
       "      <th></th>\n",
       "      <th>CustomerID</th>\n",
       "      <th>CustomerType</th>\n",
       "      <th>AgeGroup</th>\n",
       "      <th>Gender</th>\n",
       "      <th>Location</th>\n",
       "      <th>DateOfFirstPurchase</th>\n",
       "      <th>LastPurchaseDate</th>\n",
       "    </tr>\n",
       "  </thead>\n",
       "  <tbody>\n",
       "    <tr>\n",
       "      <th>0</th>\n",
       "      <td>C00000</td>\n",
       "      <td>Returning</td>\n",
       "      <td>18-25</td>\n",
       "      <td>Male</td>\n",
       "      <td>Lake Richardberg</td>\n",
       "      <td>2024-02-14</td>\n",
       "      <td>2024-06-07</td>\n",
       "    </tr>\n",
       "    <tr>\n",
       "      <th>1</th>\n",
       "      <td>C00001</td>\n",
       "      <td>Returning</td>\n",
       "      <td>18-25</td>\n",
       "      <td>Other</td>\n",
       "      <td>Kellychester</td>\n",
       "      <td>2023-08-02</td>\n",
       "      <td>2024-07-12</td>\n",
       "    </tr>\n",
       "    <tr>\n",
       "      <th>2</th>\n",
       "      <td>C00002</td>\n",
       "      <td>New</td>\n",
       "      <td>18-25</td>\n",
       "      <td>Female</td>\n",
       "      <td>Longbury</td>\n",
       "      <td>2024-03-29</td>\n",
       "      <td>2024-08-04</td>\n",
       "    </tr>\n",
       "    <tr>\n",
       "      <th>3</th>\n",
       "      <td>C00003</td>\n",
       "      <td>Returning</td>\n",
       "      <td>&lt;18</td>\n",
       "      <td>Other</td>\n",
       "      <td>Kellychester</td>\n",
       "      <td>2024-03-22</td>\n",
       "      <td>2024-04-08</td>\n",
       "    </tr>\n",
       "    <tr>\n",
       "      <th>4</th>\n",
       "      <td>C00004</td>\n",
       "      <td>Returning</td>\n",
       "      <td>26-40</td>\n",
       "      <td>Other</td>\n",
       "      <td>Brownberg</td>\n",
       "      <td>2024-01-05</td>\n",
       "      <td>2025-02-16</td>\n",
       "    </tr>\n",
       "  </tbody>\n",
       "</table>\n",
       "</div>"
      ],
      "text/plain": [
       "  CustomerID CustomerType AgeGroup  Gender          Location  \\\n",
       "0     C00000    Returning    18-25    Male  Lake Richardberg   \n",
       "1     C00001    Returning    18-25   Other      Kellychester   \n",
       "2     C00002          New    18-25  Female          Longbury   \n",
       "3     C00003    Returning      <18   Other      Kellychester   \n",
       "4     C00004    Returning    26-40   Other         Brownberg   \n",
       "\n",
       "  DateOfFirstPurchase LastPurchaseDate  \n",
       "0          2024-02-14       2024-06-07  \n",
       "1          2023-08-02       2024-07-12  \n",
       "2          2024-03-29       2024-08-04  \n",
       "3          2024-03-22       2024-04-08  \n",
       "4          2024-01-05       2025-02-16  "
      ]
     },
     "execution_count": 3,
     "metadata": {},
     "output_type": "execute_result"
    }
   ],
   "source": [
    "# customer data\n",
    "customer_df.head()"
   ]
  },
  {
   "cell_type": "code",
   "execution_count": 4,
   "id": "9d503ce2-ab41-4699-8d5d-fcf5e5174973",
   "metadata": {},
   "outputs": [
    {
     "data": {
      "text/html": [
       "<div>\n",
       "<style scoped>\n",
       "    .dataframe tbody tr th:only-of-type {\n",
       "        vertical-align: middle;\n",
       "    }\n",
       "\n",
       "    .dataframe tbody tr th {\n",
       "        vertical-align: top;\n",
       "    }\n",
       "\n",
       "    .dataframe thead th {\n",
       "        text-align: right;\n",
       "    }\n",
       "</style>\n",
       "<table border=\"1\" class=\"dataframe\">\n",
       "  <thead>\n",
       "    <tr style=\"text-align: right;\">\n",
       "      <th></th>\n",
       "      <th>ProductID</th>\n",
       "      <th>ProductName</th>\n",
       "      <th>Category</th>\n",
       "      <th>CostPrice</th>\n",
       "      <th>StockQuantity</th>\n",
       "      <th>ReorderLevel</th>\n",
       "      <th>ExpiryDate</th>\n",
       "      <th>SellingPrice</th>\n",
       "    </tr>\n",
       "  </thead>\n",
       "  <tbody>\n",
       "    <tr>\n",
       "      <th>0</th>\n",
       "      <td>P0000</td>\n",
       "      <td>Product rwHC</td>\n",
       "      <td>Wellness</td>\n",
       "      <td>352.10</td>\n",
       "      <td>313</td>\n",
       "      <td>19</td>\n",
       "      <td>2027-12-14</td>\n",
       "      <td>462.06</td>\n",
       "    </tr>\n",
       "    <tr>\n",
       "      <th>1</th>\n",
       "      <td>P0001</td>\n",
       "      <td>Product FUtF</td>\n",
       "      <td>Equipment</td>\n",
       "      <td>272.69</td>\n",
       "      <td>459</td>\n",
       "      <td>11</td>\n",
       "      <td>2026-06-10</td>\n",
       "      <td>370.96</td>\n",
       "    </tr>\n",
       "    <tr>\n",
       "      <th>2</th>\n",
       "      <td>P0002</td>\n",
       "      <td>Product KRjS</td>\n",
       "      <td>Prescription</td>\n",
       "      <td>161.67</td>\n",
       "      <td>463</td>\n",
       "      <td>25</td>\n",
       "      <td>2027-06-11</td>\n",
       "      <td>219.52</td>\n",
       "    </tr>\n",
       "    <tr>\n",
       "      <th>3</th>\n",
       "      <td>P0003</td>\n",
       "      <td>Product Ixmd</td>\n",
       "      <td>Wellness</td>\n",
       "      <td>408.76</td>\n",
       "      <td>421</td>\n",
       "      <td>46</td>\n",
       "      <td>2027-04-12</td>\n",
       "      <td>541.41</td>\n",
       "    </tr>\n",
       "    <tr>\n",
       "      <th>4</th>\n",
       "      <td>P0004</td>\n",
       "      <td>Product jnwE</td>\n",
       "      <td>Wellness</td>\n",
       "      <td>345.52</td>\n",
       "      <td>126</td>\n",
       "      <td>30</td>\n",
       "      <td>2026-11-22</td>\n",
       "      <td>487.45</td>\n",
       "    </tr>\n",
       "  </tbody>\n",
       "</table>\n",
       "</div>"
      ],
      "text/plain": [
       "  ProductID   ProductName      Category  CostPrice  StockQuantity  \\\n",
       "0     P0000  Product rwHC      Wellness     352.10            313   \n",
       "1     P0001  Product FUtF     Equipment     272.69            459   \n",
       "2     P0002  Product KRjS  Prescription     161.67            463   \n",
       "3     P0003  Product Ixmd      Wellness     408.76            421   \n",
       "4     P0004  Product jnwE      Wellness     345.52            126   \n",
       "\n",
       "   ReorderLevel  ExpiryDate  SellingPrice  \n",
       "0            19  2027-12-14        462.06  \n",
       "1            11  2026-06-10        370.96  \n",
       "2            25  2027-06-11        219.52  \n",
       "3            46  2027-04-12        541.41  \n",
       "4            30  2026-11-22        487.45  "
      ]
     },
     "execution_count": 4,
     "metadata": {},
     "output_type": "execute_result"
    }
   ],
   "source": [
    "# product master\n",
    "product_df.head()\n",
    "# NOTE: Reorder Level = Average Daily Usage × Lead Time (in days)"
   ]
  },
  {
   "cell_type": "code",
   "execution_count": 5,
   "id": "e4da52d5-a79f-4f4c-a6a6-ac6820b05697",
   "metadata": {},
   "outputs": [
    {
     "data": {
      "text/html": [
       "<div>\n",
       "<style scoped>\n",
       "    .dataframe tbody tr th:only-of-type {\n",
       "        vertical-align: middle;\n",
       "    }\n",
       "\n",
       "    .dataframe tbody tr th {\n",
       "        vertical-align: top;\n",
       "    }\n",
       "\n",
       "    .dataframe thead th {\n",
       "        text-align: right;\n",
       "    }\n",
       "</style>\n",
       "<table border=\"1\" class=\"dataframe\">\n",
       "  <thead>\n",
       "    <tr style=\"text-align: right;\">\n",
       "      <th></th>\n",
       "      <th>TransactionID</th>\n",
       "      <th>Date</th>\n",
       "      <th>ProductID</th>\n",
       "      <th>Quantity</th>\n",
       "      <th>DiscountPercent</th>\n",
       "      <th>PaymentMethod</th>\n",
       "      <th>UnitPrice</th>\n",
       "      <th>TotalAmount</th>\n",
       "      <th>FinalAmount</th>\n",
       "      <th>CustomerID</th>\n",
       "    </tr>\n",
       "  </thead>\n",
       "  <tbody>\n",
       "    <tr>\n",
       "      <th>0</th>\n",
       "      <td>T0000000</td>\n",
       "      <td>2023-11-09</td>\n",
       "      <td>P0927</td>\n",
       "      <td>8</td>\n",
       "      <td>15</td>\n",
       "      <td>UPI</td>\n",
       "      <td>643.38</td>\n",
       "      <td>5147.04</td>\n",
       "      <td>4374.98</td>\n",
       "      <td>C28772</td>\n",
       "    </tr>\n",
       "    <tr>\n",
       "      <th>1</th>\n",
       "      <td>T0000001</td>\n",
       "      <td>2024-02-14</td>\n",
       "      <td>P0615</td>\n",
       "      <td>8</td>\n",
       "      <td>30</td>\n",
       "      <td>Card</td>\n",
       "      <td>425.06</td>\n",
       "      <td>3400.48</td>\n",
       "      <td>2380.34</td>\n",
       "      <td>NaN</td>\n",
       "    </tr>\n",
       "    <tr>\n",
       "      <th>2</th>\n",
       "      <td>T0000002</td>\n",
       "      <td>2023-10-24</td>\n",
       "      <td>P0910</td>\n",
       "      <td>4</td>\n",
       "      <td>0</td>\n",
       "      <td>UPI</td>\n",
       "      <td>149.23</td>\n",
       "      <td>596.92</td>\n",
       "      <td>596.92</td>\n",
       "      <td>C39200</td>\n",
       "    </tr>\n",
       "    <tr>\n",
       "      <th>3</th>\n",
       "      <td>T0000003</td>\n",
       "      <td>2024-10-20</td>\n",
       "      <td>P0753</td>\n",
       "      <td>1</td>\n",
       "      <td>10</td>\n",
       "      <td>Cash</td>\n",
       "      <td>80.37</td>\n",
       "      <td>80.37</td>\n",
       "      <td>72.33</td>\n",
       "      <td>C11128</td>\n",
       "    </tr>\n",
       "    <tr>\n",
       "      <th>4</th>\n",
       "      <td>T0000004</td>\n",
       "      <td>2025-02-04</td>\n",
       "      <td>P0333</td>\n",
       "      <td>9</td>\n",
       "      <td>30</td>\n",
       "      <td>Card</td>\n",
       "      <td>127.81</td>\n",
       "      <td>1150.29</td>\n",
       "      <td>805.20</td>\n",
       "      <td>C37550</td>\n",
       "    </tr>\n",
       "  </tbody>\n",
       "</table>\n",
       "</div>"
      ],
      "text/plain": [
       "  TransactionID        Date ProductID  Quantity  DiscountPercent  \\\n",
       "0      T0000000  2023-11-09     P0927         8               15   \n",
       "1      T0000001  2024-02-14     P0615         8               30   \n",
       "2      T0000002  2023-10-24     P0910         4                0   \n",
       "3      T0000003  2024-10-20     P0753         1               10   \n",
       "4      T0000004  2025-02-04     P0333         9               30   \n",
       "\n",
       "  PaymentMethod  UnitPrice  TotalAmount  FinalAmount CustomerID  \n",
       "0           UPI     643.38      5147.04      4374.98     C28772  \n",
       "1          Card     425.06      3400.48      2380.34        NaN  \n",
       "2           UPI     149.23       596.92       596.92     C39200  \n",
       "3          Cash      80.37        80.37        72.33     C11128  \n",
       "4          Card     127.81      1150.29       805.20     C37550  "
      ]
     },
     "execution_count": 5,
     "metadata": {},
     "output_type": "execute_result"
    }
   ],
   "source": [
    "# transaction data\n",
    "transaction_df.head()"
   ]
  },
  {
   "cell_type": "markdown",
   "id": "76ee804a-0eb0-4513-991f-b086f713466f",
   "metadata": {},
   "source": [
    "Merging datasets"
   ]
  },
  {
   "cell_type": "code",
   "execution_count": 6,
   "id": "a22c454b-f89a-47f6-95aa-30f5aa582673",
   "metadata": {},
   "outputs": [
    {
     "data": {
      "text/html": [
       "<div>\n",
       "<style scoped>\n",
       "    .dataframe tbody tr th:only-of-type {\n",
       "        vertical-align: middle;\n",
       "    }\n",
       "\n",
       "    .dataframe tbody tr th {\n",
       "        vertical-align: top;\n",
       "    }\n",
       "\n",
       "    .dataframe thead th {\n",
       "        text-align: right;\n",
       "    }\n",
       "</style>\n",
       "<table border=\"1\" class=\"dataframe\">\n",
       "  <thead>\n",
       "    <tr style=\"text-align: right;\">\n",
       "      <th></th>\n",
       "      <th>CustomerID</th>\n",
       "      <th>CustomerType</th>\n",
       "      <th>AgeGroup</th>\n",
       "      <th>Gender</th>\n",
       "      <th>Location</th>\n",
       "      <th>DateOfFirstPurchase</th>\n",
       "      <th>LastPurchaseDate</th>\n",
       "      <th>TransactionID</th>\n",
       "      <th>Date</th>\n",
       "      <th>ProductID</th>\n",
       "      <th>...</th>\n",
       "      <th>UnitPrice</th>\n",
       "      <th>TotalAmount</th>\n",
       "      <th>FinalAmount</th>\n",
       "      <th>ProductName</th>\n",
       "      <th>Category</th>\n",
       "      <th>CostPrice</th>\n",
       "      <th>StockQuantity</th>\n",
       "      <th>ReorderLevel</th>\n",
       "      <th>ExpiryDate</th>\n",
       "      <th>SellingPrice</th>\n",
       "    </tr>\n",
       "  </thead>\n",
       "  <tbody>\n",
       "    <tr>\n",
       "      <th>0</th>\n",
       "      <td>C00000</td>\n",
       "      <td>Returning</td>\n",
       "      <td>18-25</td>\n",
       "      <td>Male</td>\n",
       "      <td>Lake Richardberg</td>\n",
       "      <td>2024-02-14</td>\n",
       "      <td>2024-06-07</td>\n",
       "      <td>T0020173</td>\n",
       "      <td>2025-02-14</td>\n",
       "      <td>P0064</td>\n",
       "      <td>...</td>\n",
       "      <td>260.28</td>\n",
       "      <td>780.84</td>\n",
       "      <td>780.84</td>\n",
       "      <td>Product Cohk</td>\n",
       "      <td>Wellness</td>\n",
       "      <td>181.79</td>\n",
       "      <td>99</td>\n",
       "      <td>26</td>\n",
       "      <td>2026-11-20</td>\n",
       "      <td>260.28</td>\n",
       "    </tr>\n",
       "    <tr>\n",
       "      <th>1</th>\n",
       "      <td>C00001</td>\n",
       "      <td>Returning</td>\n",
       "      <td>18-25</td>\n",
       "      <td>Other</td>\n",
       "      <td>Kellychester</td>\n",
       "      <td>2023-08-02</td>\n",
       "      <td>2024-07-12</td>\n",
       "      <td>T0022207</td>\n",
       "      <td>2025-05-05</td>\n",
       "      <td>P0805</td>\n",
       "      <td>...</td>\n",
       "      <td>510.17</td>\n",
       "      <td>4081.36</td>\n",
       "      <td>3469.16</td>\n",
       "      <td>Product jMJW</td>\n",
       "      <td>Equipment</td>\n",
       "      <td>436.77</td>\n",
       "      <td>319</td>\n",
       "      <td>42</td>\n",
       "      <td>2026-08-11</td>\n",
       "      <td>510.17</td>\n",
       "    </tr>\n",
       "    <tr>\n",
       "      <th>2</th>\n",
       "      <td>C00001</td>\n",
       "      <td>Returning</td>\n",
       "      <td>18-25</td>\n",
       "      <td>Other</td>\n",
       "      <td>Kellychester</td>\n",
       "      <td>2023-08-02</td>\n",
       "      <td>2024-07-12</td>\n",
       "      <td>T0033667</td>\n",
       "      <td>2024-11-08</td>\n",
       "      <td>P0394</td>\n",
       "      <td>...</td>\n",
       "      <td>490.52</td>\n",
       "      <td>4905.20</td>\n",
       "      <td>3678.90</td>\n",
       "      <td>Product zsBG</td>\n",
       "      <td>Wellness</td>\n",
       "      <td>337.36</td>\n",
       "      <td>343</td>\n",
       "      <td>43</td>\n",
       "      <td>2026-06-28</td>\n",
       "      <td>490.52</td>\n",
       "    </tr>\n",
       "    <tr>\n",
       "      <th>3</th>\n",
       "      <td>C00002</td>\n",
       "      <td>New</td>\n",
       "      <td>18-25</td>\n",
       "      <td>Female</td>\n",
       "      <td>Longbury</td>\n",
       "      <td>2024-03-29</td>\n",
       "      <td>2024-08-04</td>\n",
       "      <td>T0019925</td>\n",
       "      <td>2024-12-01</td>\n",
       "      <td>P0237</td>\n",
       "      <td>...</td>\n",
       "      <td>514.67</td>\n",
       "      <td>5146.70</td>\n",
       "      <td>4374.70</td>\n",
       "      <td>Product ipVZ</td>\n",
       "      <td>OTC</td>\n",
       "      <td>410.13</td>\n",
       "      <td>451</td>\n",
       "      <td>31</td>\n",
       "      <td>2026-04-03</td>\n",
       "      <td>514.67</td>\n",
       "    </tr>\n",
       "    <tr>\n",
       "      <th>4</th>\n",
       "      <td>C00002</td>\n",
       "      <td>New</td>\n",
       "      <td>18-25</td>\n",
       "      <td>Female</td>\n",
       "      <td>Longbury</td>\n",
       "      <td>2024-03-29</td>\n",
       "      <td>2024-08-04</td>\n",
       "      <td>T0025197</td>\n",
       "      <td>2024-08-04</td>\n",
       "      <td>P0663</td>\n",
       "      <td>...</td>\n",
       "      <td>533.44</td>\n",
       "      <td>2667.20</td>\n",
       "      <td>2533.84</td>\n",
       "      <td>Product usEA</td>\n",
       "      <td>OTC</td>\n",
       "      <td>374.32</td>\n",
       "      <td>423</td>\n",
       "      <td>36</td>\n",
       "      <td>2028-02-28</td>\n",
       "      <td>533.44</td>\n",
       "    </tr>\n",
       "  </tbody>\n",
       "</table>\n",
       "<p>5 rows × 23 columns</p>\n",
       "</div>"
      ],
      "text/plain": [
       "  CustomerID CustomerType AgeGroup  Gender          Location  \\\n",
       "0     C00000    Returning    18-25    Male  Lake Richardberg   \n",
       "1     C00001    Returning    18-25   Other      Kellychester   \n",
       "2     C00001    Returning    18-25   Other      Kellychester   \n",
       "3     C00002          New    18-25  Female          Longbury   \n",
       "4     C00002          New    18-25  Female          Longbury   \n",
       "\n",
       "  DateOfFirstPurchase LastPurchaseDate TransactionID        Date ProductID  \\\n",
       "0          2024-02-14       2024-06-07      T0020173  2025-02-14     P0064   \n",
       "1          2023-08-02       2024-07-12      T0022207  2025-05-05     P0805   \n",
       "2          2023-08-02       2024-07-12      T0033667  2024-11-08     P0394   \n",
       "3          2024-03-29       2024-08-04      T0019925  2024-12-01     P0237   \n",
       "4          2024-03-29       2024-08-04      T0025197  2024-08-04     P0663   \n",
       "\n",
       "   ...  UnitPrice  TotalAmount FinalAmount   ProductName   Category  \\\n",
       "0  ...     260.28       780.84      780.84  Product Cohk   Wellness   \n",
       "1  ...     510.17      4081.36     3469.16  Product jMJW  Equipment   \n",
       "2  ...     490.52      4905.20     3678.90  Product zsBG   Wellness   \n",
       "3  ...     514.67      5146.70     4374.70  Product ipVZ        OTC   \n",
       "4  ...     533.44      2667.20     2533.84  Product usEA        OTC   \n",
       "\n",
       "   CostPrice StockQuantity ReorderLevel  ExpiryDate  SellingPrice  \n",
       "0     181.79            99           26  2026-11-20        260.28  \n",
       "1     436.77           319           42  2026-08-11        510.17  \n",
       "2     337.36           343           43  2026-06-28        490.52  \n",
       "3     410.13           451           31  2026-04-03        514.67  \n",
       "4     374.32           423           36  2028-02-28        533.44  \n",
       "\n",
       "[5 rows x 23 columns]"
      ]
     },
     "execution_count": 6,
     "metadata": {},
     "output_type": "execute_result"
    }
   ],
   "source": [
    "c_t_df = pd.merge(customer_df, transaction_df, on=\"CustomerID\")\n",
    "final_df = pd.merge(c_t_df, product_df, on=\"ProductID\")\n",
    "final_df.head()"
   ]
  },
  {
   "cell_type": "code",
   "execution_count": 7,
   "id": "01981b3f",
   "metadata": {},
   "outputs": [],
   "source": [
    "# create a copy of dataset\n",
    "ml_df = final_df.copy()"
   ]
  },
  {
   "cell_type": "code",
   "execution_count": 8,
   "id": "ad59adcf-aa23-491b-9d7c-3054a015b46b",
   "metadata": {},
   "outputs": [
    {
     "data": {
      "text/plain": [
       "(90000, 23)"
      ]
     },
     "execution_count": 8,
     "metadata": {},
     "output_type": "execute_result"
    }
   ],
   "source": [
    "final_df.shape"
   ]
  },
  {
   "cell_type": "code",
   "execution_count": 9,
   "id": "227ed446-2ba5-47e5-8b72-442a1690ae33",
   "metadata": {},
   "outputs": [
    {
     "name": "stdout",
     "output_type": "stream",
     "text": [
      "<class 'pandas.core.frame.DataFrame'>\n",
      "RangeIndex: 90000 entries, 0 to 89999\n",
      "Data columns (total 23 columns):\n",
      " #   Column               Non-Null Count  Dtype  \n",
      "---  ------               --------------  -----  \n",
      " 0   CustomerID           90000 non-null  object \n",
      " 1   CustomerType         90000 non-null  object \n",
      " 2   AgeGroup             90000 non-null  object \n",
      " 3   Gender               90000 non-null  object \n",
      " 4   Location             90000 non-null  object \n",
      " 5   DateOfFirstPurchase  90000 non-null  object \n",
      " 6   LastPurchaseDate     90000 non-null  object \n",
      " 7   TransactionID        90000 non-null  object \n",
      " 8   Date                 90000 non-null  object \n",
      " 9   ProductID            90000 non-null  object \n",
      " 10  Quantity             90000 non-null  int64  \n",
      " 11  DiscountPercent      90000 non-null  int64  \n",
      " 12  PaymentMethod        90000 non-null  object \n",
      " 13  UnitPrice            90000 non-null  float64\n",
      " 14  TotalAmount          90000 non-null  float64\n",
      " 15  FinalAmount          90000 non-null  float64\n",
      " 16  ProductName          90000 non-null  object \n",
      " 17  Category             90000 non-null  object \n",
      " 18  CostPrice            90000 non-null  float64\n",
      " 19  StockQuantity        90000 non-null  int64  \n",
      " 20  ReorderLevel         90000 non-null  int64  \n",
      " 21  ExpiryDate           90000 non-null  object \n",
      " 22  SellingPrice         90000 non-null  float64\n",
      "dtypes: float64(5), int64(4), object(14)\n",
      "memory usage: 15.8+ MB\n"
     ]
    }
   ],
   "source": [
    "final_df.info()"
   ]
  },
  {
   "cell_type": "markdown",
   "id": "0bfa9a99-8a6a-463f-b82e-5c591ed58509",
   "metadata": {},
   "source": [
    "#### Automated cleaning"
   ]
  },
  {
   "cell_type": "code",
   "execution_count": 10,
   "id": "8e798e77-48ac-4228-9292-4adc8cee9d33",
   "metadata": {},
   "outputs": [
    {
     "data": {
      "text/plain": [
       "['DateOfFirstPurchase', 'LastPurchaseDate', 'Date', 'ExpiryDate']"
      ]
     },
     "execution_count": 10,
     "metadata": {},
     "output_type": "execute_result"
    }
   ],
   "source": [
    "# GET datetime columns\n",
    "datetime_list = []\n",
    "\n",
    "# take each column\n",
    "for col in final_df.columns:\n",
    "    # Drop nulls and convert to string\n",
    "    non_null_data = final_df[col].dropna().astype(str)\n",
    "    \n",
    "    # Sample min(20, available rows)\n",
    "    sample_size = min(20, len(non_null_data))\n",
    "    sample_rows = non_null_data.sample(sample_size)\n",
    "    \n",
    "    count = 0\n",
    "\n",
    "    if pd.api.types.is_object_dtype(final_df[col]):\n",
    "        for item in sample_rows:\n",
    "            try:\n",
    "                pd.to_datetime(item)\n",
    "                count += 1\n",
    "            except Exception:\n",
    "                continue\n",
    "\n",
    "        if count / sample_size >= 0.8:\n",
    "            datetime_list.append(col)\n",
    "\n",
    "datetime_list\n"
   ]
  },
  {
   "cell_type": "code",
   "execution_count": 11,
   "id": "9b206610-5bd9-42a7-8ef5-edaffcab2eab",
   "metadata": {},
   "outputs": [
    {
     "name": "stdout",
     "output_type": "stream",
     "text": [
      "<class 'pandas.core.frame.DataFrame'>\n",
      "RangeIndex: 90000 entries, 0 to 89999\n",
      "Data columns (total 23 columns):\n",
      " #   Column               Non-Null Count  Dtype         \n",
      "---  ------               --------------  -----         \n",
      " 0   CustomerID           90000 non-null  object        \n",
      " 1   CustomerType         90000 non-null  object        \n",
      " 2   AgeGroup             90000 non-null  object        \n",
      " 3   Gender               90000 non-null  object        \n",
      " 4   Location             90000 non-null  object        \n",
      " 5   DateOfFirstPurchase  90000 non-null  datetime64[ns]\n",
      " 6   LastPurchaseDate     90000 non-null  datetime64[ns]\n",
      " 7   TransactionID        90000 non-null  object        \n",
      " 8   Date                 90000 non-null  datetime64[ns]\n",
      " 9   ProductID            90000 non-null  object        \n",
      " 10  Quantity             90000 non-null  int64         \n",
      " 11  DiscountPercent      90000 non-null  int64         \n",
      " 12  PaymentMethod        90000 non-null  object        \n",
      " 13  UnitPrice            90000 non-null  float64       \n",
      " 14  TotalAmount          90000 non-null  float64       \n",
      " 15  FinalAmount          90000 non-null  float64       \n",
      " 16  ProductName          90000 non-null  object        \n",
      " 17  Category             90000 non-null  object        \n",
      " 18  CostPrice            90000 non-null  float64       \n",
      " 19  StockQuantity        90000 non-null  int64         \n",
      " 20  ReorderLevel         90000 non-null  int64         \n",
      " 21  ExpiryDate           90000 non-null  datetime64[ns]\n",
      " 22  SellingPrice         90000 non-null  float64       \n",
      "dtypes: datetime64[ns](4), float64(5), int64(4), object(10)\n",
      "memory usage: 15.8+ MB\n"
     ]
    }
   ],
   "source": [
    "# convert datetime_list to datetime\n",
    "for dt in datetime_list:\n",
    "    final_df[dt] = pd.to_datetime(final_df[dt])\n",
    "\n",
    "final_df.info()"
   ]
  },
  {
   "cell_type": "code",
   "execution_count": 12,
   "id": "a9097fe6",
   "metadata": {},
   "outputs": [
    {
     "data": {
      "text/plain": [
       "['CustomerID', 'TransactionID', 'ProductID']"
      ]
     },
     "execution_count": 12,
     "metadata": {},
     "output_type": "execute_result"
    }
   ],
   "source": [
    "# id column\n",
    "id_col = [col for col in final_df.columns if \"ID\" in col]\n",
    "id_col"
   ]
  },
  {
   "cell_type": "code",
   "execution_count": 13,
   "id": "174d36f2-65b4-4a1b-b0b9-cc3d75ce66cc",
   "metadata": {},
   "outputs": [
    {
     "data": {
      "text/plain": [
       "['CustomerType',\n",
       " 'AgeGroup',\n",
       " 'Gender',\n",
       " 'Location',\n",
       " 'DateOfFirstPurchase',\n",
       " 'LastPurchaseDate',\n",
       " 'Date',\n",
       " 'Quantity',\n",
       " 'DiscountPercent',\n",
       " 'PaymentMethod',\n",
       " 'UnitPrice',\n",
       " 'TotalAmount',\n",
       " 'FinalAmount',\n",
       " 'ProductName',\n",
       " 'Category',\n",
       " 'CostPrice',\n",
       " 'StockQuantity',\n",
       " 'ReorderLevel',\n",
       " 'ExpiryDate',\n",
       " 'SellingPrice']"
      ]
     },
     "execution_count": 13,
     "metadata": {},
     "output_type": "execute_result"
    }
   ],
   "source": [
    "# filter out the id column\n",
    "num_cat_col = [col for col in final_df.columns if 'ID' not in col]\n",
    "num_cat_col"
   ]
  },
  {
   "cell_type": "code",
   "execution_count": 14,
   "id": "56fb9334-b2c1-4695-afe5-ef241dd9323c",
   "metadata": {},
   "outputs": [
    {
     "data": {
      "text/plain": [
       "['Quantity',\n",
       " 'DiscountPercent',\n",
       " 'UnitPrice',\n",
       " 'TotalAmount',\n",
       " 'FinalAmount',\n",
       " 'CostPrice',\n",
       " 'StockQuantity',\n",
       " 'ReorderLevel',\n",
       " 'SellingPrice']"
      ]
     },
     "execution_count": 14,
     "metadata": {},
     "output_type": "execute_result"
    }
   ],
   "source": [
    "# cleaning the data (imputing the null values)\n",
    "num_col = final_df[num_cat_col].select_dtypes(include=['number']).columns.tolist()\n",
    "num_col"
   ]
  },
  {
   "cell_type": "code",
   "execution_count": 15,
   "id": "6f7dc6f8-ec44-4999-9e8f-e53be4deeada",
   "metadata": {},
   "outputs": [
    {
     "data": {
      "text/plain": [
       "['CustomerType',\n",
       " 'AgeGroup',\n",
       " 'Gender',\n",
       " 'Location',\n",
       " 'PaymentMethod',\n",
       " 'ProductName',\n",
       " 'Category']"
      ]
     },
     "execution_count": 15,
     "metadata": {},
     "output_type": "execute_result"
    }
   ],
   "source": [
    "# categorical column\n",
    "cat_col = final_df[num_cat_col].select_dtypes(include=['object', 'category']).columns.tolist()\n",
    "cat_col"
   ]
  },
  {
   "cell_type": "code",
   "execution_count": 16,
   "id": "19938ac8-9a54-4342-9c6d-df82a097d6d3",
   "metadata": {},
   "outputs": [
    {
     "name": "stdout",
     "output_type": "stream",
     "text": [
      "['CustomerType', 'AgeGroup', 'Gender', 'Location', 'PaymentMethod', 'ProductName', 'Category', 'DiscountPercent']\n",
      "['Quantity', 'UnitPrice', 'TotalAmount', 'FinalAmount', 'CostPrice', 'StockQuantity', 'ReorderLevel', 'SellingPrice']\n"
     ]
    }
   ],
   "source": [
    "# numerical\n",
    "numeric_but_cat = [col for col in num_col if final_df[col].nunique() < 10]\n",
    "numeric_but_cat\n",
    "\n",
    "# extend the list\n",
    "for col in numeric_but_cat:\n",
    "    final_df[col] = final_df[col].astype('object')\n",
    "    cat_col.append(col)\n",
    "    num_col.remove(col)\n",
    "\n",
    "print(cat_col)\n",
    "print(num_col)"
   ]
  },
  {
   "cell_type": "markdown",
   "id": "24c9f02b",
   "metadata": {},
   "source": [
    "#### Data cleaning for KPI analysis"
   ]
  },
  {
   "cell_type": "code",
   "execution_count": 17,
   "id": "66b5dbea-d72f-476e-9d93-740daeb1fe38",
   "metadata": {},
   "outputs": [
    {
     "name": "stdout",
     "output_type": "stream",
     "text": [
      "['Quantity', 'UnitPrice', 'TotalAmount', 'FinalAmount', 'CostPrice', 'StockQuantity', 'ReorderLevel', 'SellingPrice']\n",
      "['CustomerType', 'AgeGroup', 'Gender', 'Location', 'PaymentMethod', 'ProductName', 'Category', 'DiscountPercent']\n"
     ]
    }
   ],
   "source": [
    "# impute for kpi\n",
    "# impute for numerical columns\n",
    "print(num_col)\n",
    "print(cat_col)\n"
   ]
  },
  {
   "cell_type": "code",
   "execution_count": 18,
   "id": "241a4af9",
   "metadata": {},
   "outputs": [
    {
     "data": {
      "text/html": [
       "<style>#sk-container-id-1 {\n",
       "  /* Definition of color scheme common for light and dark mode */\n",
       "  --sklearn-color-text: #000;\n",
       "  --sklearn-color-text-muted: #666;\n",
       "  --sklearn-color-line: gray;\n",
       "  /* Definition of color scheme for unfitted estimators */\n",
       "  --sklearn-color-unfitted-level-0: #fff5e6;\n",
       "  --sklearn-color-unfitted-level-1: #f6e4d2;\n",
       "  --sklearn-color-unfitted-level-2: #ffe0b3;\n",
       "  --sklearn-color-unfitted-level-3: chocolate;\n",
       "  /* Definition of color scheme for fitted estimators */\n",
       "  --sklearn-color-fitted-level-0: #f0f8ff;\n",
       "  --sklearn-color-fitted-level-1: #d4ebff;\n",
       "  --sklearn-color-fitted-level-2: #b3dbfd;\n",
       "  --sklearn-color-fitted-level-3: cornflowerblue;\n",
       "\n",
       "  /* Specific color for light theme */\n",
       "  --sklearn-color-text-on-default-background: var(--sg-text-color, var(--theme-code-foreground, var(--jp-content-font-color1, black)));\n",
       "  --sklearn-color-background: var(--sg-background-color, var(--theme-background, var(--jp-layout-color0, white)));\n",
       "  --sklearn-color-border-box: var(--sg-text-color, var(--theme-code-foreground, var(--jp-content-font-color1, black)));\n",
       "  --sklearn-color-icon: #696969;\n",
       "\n",
       "  @media (prefers-color-scheme: dark) {\n",
       "    /* Redefinition of color scheme for dark theme */\n",
       "    --sklearn-color-text-on-default-background: var(--sg-text-color, var(--theme-code-foreground, var(--jp-content-font-color1, white)));\n",
       "    --sklearn-color-background: var(--sg-background-color, var(--theme-background, var(--jp-layout-color0, #111)));\n",
       "    --sklearn-color-border-box: var(--sg-text-color, var(--theme-code-foreground, var(--jp-content-font-color1, white)));\n",
       "    --sklearn-color-icon: #878787;\n",
       "  }\n",
       "}\n",
       "\n",
       "#sk-container-id-1 {\n",
       "  color: var(--sklearn-color-text);\n",
       "}\n",
       "\n",
       "#sk-container-id-1 pre {\n",
       "  padding: 0;\n",
       "}\n",
       "\n",
       "#sk-container-id-1 input.sk-hidden--visually {\n",
       "  border: 0;\n",
       "  clip: rect(1px 1px 1px 1px);\n",
       "  clip: rect(1px, 1px, 1px, 1px);\n",
       "  height: 1px;\n",
       "  margin: -1px;\n",
       "  overflow: hidden;\n",
       "  padding: 0;\n",
       "  position: absolute;\n",
       "  width: 1px;\n",
       "}\n",
       "\n",
       "#sk-container-id-1 div.sk-dashed-wrapped {\n",
       "  border: 1px dashed var(--sklearn-color-line);\n",
       "  margin: 0 0.4em 0.5em 0.4em;\n",
       "  box-sizing: border-box;\n",
       "  padding-bottom: 0.4em;\n",
       "  background-color: var(--sklearn-color-background);\n",
       "}\n",
       "\n",
       "#sk-container-id-1 div.sk-container {\n",
       "  /* jupyter's `normalize.less` sets `[hidden] { display: none; }`\n",
       "     but bootstrap.min.css set `[hidden] { display: none !important; }`\n",
       "     so we also need the `!important` here to be able to override the\n",
       "     default hidden behavior on the sphinx rendered scikit-learn.org.\n",
       "     See: https://github.com/scikit-learn/scikit-learn/issues/21755 */\n",
       "  display: inline-block !important;\n",
       "  position: relative;\n",
       "}\n",
       "\n",
       "#sk-container-id-1 div.sk-text-repr-fallback {\n",
       "  display: none;\n",
       "}\n",
       "\n",
       "div.sk-parallel-item,\n",
       "div.sk-serial,\n",
       "div.sk-item {\n",
       "  /* draw centered vertical line to link estimators */\n",
       "  background-image: linear-gradient(var(--sklearn-color-text-on-default-background), var(--sklearn-color-text-on-default-background));\n",
       "  background-size: 2px 100%;\n",
       "  background-repeat: no-repeat;\n",
       "  background-position: center center;\n",
       "}\n",
       "\n",
       "/* Parallel-specific style estimator block */\n",
       "\n",
       "#sk-container-id-1 div.sk-parallel-item::after {\n",
       "  content: \"\";\n",
       "  width: 100%;\n",
       "  border-bottom: 2px solid var(--sklearn-color-text-on-default-background);\n",
       "  flex-grow: 1;\n",
       "}\n",
       "\n",
       "#sk-container-id-1 div.sk-parallel {\n",
       "  display: flex;\n",
       "  align-items: stretch;\n",
       "  justify-content: center;\n",
       "  background-color: var(--sklearn-color-background);\n",
       "  position: relative;\n",
       "}\n",
       "\n",
       "#sk-container-id-1 div.sk-parallel-item {\n",
       "  display: flex;\n",
       "  flex-direction: column;\n",
       "}\n",
       "\n",
       "#sk-container-id-1 div.sk-parallel-item:first-child::after {\n",
       "  align-self: flex-end;\n",
       "  width: 50%;\n",
       "}\n",
       "\n",
       "#sk-container-id-1 div.sk-parallel-item:last-child::after {\n",
       "  align-self: flex-start;\n",
       "  width: 50%;\n",
       "}\n",
       "\n",
       "#sk-container-id-1 div.sk-parallel-item:only-child::after {\n",
       "  width: 0;\n",
       "}\n",
       "\n",
       "/* Serial-specific style estimator block */\n",
       "\n",
       "#sk-container-id-1 div.sk-serial {\n",
       "  display: flex;\n",
       "  flex-direction: column;\n",
       "  align-items: center;\n",
       "  background-color: var(--sklearn-color-background);\n",
       "  padding-right: 1em;\n",
       "  padding-left: 1em;\n",
       "}\n",
       "\n",
       "\n",
       "/* Toggleable style: style used for estimator/Pipeline/ColumnTransformer box that is\n",
       "clickable and can be expanded/collapsed.\n",
       "- Pipeline and ColumnTransformer use this feature and define the default style\n",
       "- Estimators will overwrite some part of the style using the `sk-estimator` class\n",
       "*/\n",
       "\n",
       "/* Pipeline and ColumnTransformer style (default) */\n",
       "\n",
       "#sk-container-id-1 div.sk-toggleable {\n",
       "  /* Default theme specific background. It is overwritten whether we have a\n",
       "  specific estimator or a Pipeline/ColumnTransformer */\n",
       "  background-color: var(--sklearn-color-background);\n",
       "}\n",
       "\n",
       "/* Toggleable label */\n",
       "#sk-container-id-1 label.sk-toggleable__label {\n",
       "  cursor: pointer;\n",
       "  display: flex;\n",
       "  width: 100%;\n",
       "  margin-bottom: 0;\n",
       "  padding: 0.5em;\n",
       "  box-sizing: border-box;\n",
       "  text-align: center;\n",
       "  align-items: start;\n",
       "  justify-content: space-between;\n",
       "  gap: 0.5em;\n",
       "}\n",
       "\n",
       "#sk-container-id-1 label.sk-toggleable__label .caption {\n",
       "  font-size: 0.6rem;\n",
       "  font-weight: lighter;\n",
       "  color: var(--sklearn-color-text-muted);\n",
       "}\n",
       "\n",
       "#sk-container-id-1 label.sk-toggleable__label-arrow:before {\n",
       "  /* Arrow on the left of the label */\n",
       "  content: \"▸\";\n",
       "  float: left;\n",
       "  margin-right: 0.25em;\n",
       "  color: var(--sklearn-color-icon);\n",
       "}\n",
       "\n",
       "#sk-container-id-1 label.sk-toggleable__label-arrow:hover:before {\n",
       "  color: var(--sklearn-color-text);\n",
       "}\n",
       "\n",
       "/* Toggleable content - dropdown */\n",
       "\n",
       "#sk-container-id-1 div.sk-toggleable__content {\n",
       "  max-height: 0;\n",
       "  max-width: 0;\n",
       "  overflow: hidden;\n",
       "  text-align: left;\n",
       "  /* unfitted */\n",
       "  background-color: var(--sklearn-color-unfitted-level-0);\n",
       "}\n",
       "\n",
       "#sk-container-id-1 div.sk-toggleable__content.fitted {\n",
       "  /* fitted */\n",
       "  background-color: var(--sklearn-color-fitted-level-0);\n",
       "}\n",
       "\n",
       "#sk-container-id-1 div.sk-toggleable__content pre {\n",
       "  margin: 0.2em;\n",
       "  border-radius: 0.25em;\n",
       "  color: var(--sklearn-color-text);\n",
       "  /* unfitted */\n",
       "  background-color: var(--sklearn-color-unfitted-level-0);\n",
       "}\n",
       "\n",
       "#sk-container-id-1 div.sk-toggleable__content.fitted pre {\n",
       "  /* unfitted */\n",
       "  background-color: var(--sklearn-color-fitted-level-0);\n",
       "}\n",
       "\n",
       "#sk-container-id-1 input.sk-toggleable__control:checked~div.sk-toggleable__content {\n",
       "  /* Expand drop-down */\n",
       "  max-height: 200px;\n",
       "  max-width: 100%;\n",
       "  overflow: auto;\n",
       "}\n",
       "\n",
       "#sk-container-id-1 input.sk-toggleable__control:checked~label.sk-toggleable__label-arrow:before {\n",
       "  content: \"▾\";\n",
       "}\n",
       "\n",
       "/* Pipeline/ColumnTransformer-specific style */\n",
       "\n",
       "#sk-container-id-1 div.sk-label input.sk-toggleable__control:checked~label.sk-toggleable__label {\n",
       "  color: var(--sklearn-color-text);\n",
       "  background-color: var(--sklearn-color-unfitted-level-2);\n",
       "}\n",
       "\n",
       "#sk-container-id-1 div.sk-label.fitted input.sk-toggleable__control:checked~label.sk-toggleable__label {\n",
       "  background-color: var(--sklearn-color-fitted-level-2);\n",
       "}\n",
       "\n",
       "/* Estimator-specific style */\n",
       "\n",
       "/* Colorize estimator box */\n",
       "#sk-container-id-1 div.sk-estimator input.sk-toggleable__control:checked~label.sk-toggleable__label {\n",
       "  /* unfitted */\n",
       "  background-color: var(--sklearn-color-unfitted-level-2);\n",
       "}\n",
       "\n",
       "#sk-container-id-1 div.sk-estimator.fitted input.sk-toggleable__control:checked~label.sk-toggleable__label {\n",
       "  /* fitted */\n",
       "  background-color: var(--sklearn-color-fitted-level-2);\n",
       "}\n",
       "\n",
       "#sk-container-id-1 div.sk-label label.sk-toggleable__label,\n",
       "#sk-container-id-1 div.sk-label label {\n",
       "  /* The background is the default theme color */\n",
       "  color: var(--sklearn-color-text-on-default-background);\n",
       "}\n",
       "\n",
       "/* On hover, darken the color of the background */\n",
       "#sk-container-id-1 div.sk-label:hover label.sk-toggleable__label {\n",
       "  color: var(--sklearn-color-text);\n",
       "  background-color: var(--sklearn-color-unfitted-level-2);\n",
       "}\n",
       "\n",
       "/* Label box, darken color on hover, fitted */\n",
       "#sk-container-id-1 div.sk-label.fitted:hover label.sk-toggleable__label.fitted {\n",
       "  color: var(--sklearn-color-text);\n",
       "  background-color: var(--sklearn-color-fitted-level-2);\n",
       "}\n",
       "\n",
       "/* Estimator label */\n",
       "\n",
       "#sk-container-id-1 div.sk-label label {\n",
       "  font-family: monospace;\n",
       "  font-weight: bold;\n",
       "  display: inline-block;\n",
       "  line-height: 1.2em;\n",
       "}\n",
       "\n",
       "#sk-container-id-1 div.sk-label-container {\n",
       "  text-align: center;\n",
       "}\n",
       "\n",
       "/* Estimator-specific */\n",
       "#sk-container-id-1 div.sk-estimator {\n",
       "  font-family: monospace;\n",
       "  border: 1px dotted var(--sklearn-color-border-box);\n",
       "  border-radius: 0.25em;\n",
       "  box-sizing: border-box;\n",
       "  margin-bottom: 0.5em;\n",
       "  /* unfitted */\n",
       "  background-color: var(--sklearn-color-unfitted-level-0);\n",
       "}\n",
       "\n",
       "#sk-container-id-1 div.sk-estimator.fitted {\n",
       "  /* fitted */\n",
       "  background-color: var(--sklearn-color-fitted-level-0);\n",
       "}\n",
       "\n",
       "/* on hover */\n",
       "#sk-container-id-1 div.sk-estimator:hover {\n",
       "  /* unfitted */\n",
       "  background-color: var(--sklearn-color-unfitted-level-2);\n",
       "}\n",
       "\n",
       "#sk-container-id-1 div.sk-estimator.fitted:hover {\n",
       "  /* fitted */\n",
       "  background-color: var(--sklearn-color-fitted-level-2);\n",
       "}\n",
       "\n",
       "/* Specification for estimator info (e.g. \"i\" and \"?\") */\n",
       "\n",
       "/* Common style for \"i\" and \"?\" */\n",
       "\n",
       ".sk-estimator-doc-link,\n",
       "a:link.sk-estimator-doc-link,\n",
       "a:visited.sk-estimator-doc-link {\n",
       "  float: right;\n",
       "  font-size: smaller;\n",
       "  line-height: 1em;\n",
       "  font-family: monospace;\n",
       "  background-color: var(--sklearn-color-background);\n",
       "  border-radius: 1em;\n",
       "  height: 1em;\n",
       "  width: 1em;\n",
       "  text-decoration: none !important;\n",
       "  margin-left: 0.5em;\n",
       "  text-align: center;\n",
       "  /* unfitted */\n",
       "  border: var(--sklearn-color-unfitted-level-1) 1pt solid;\n",
       "  color: var(--sklearn-color-unfitted-level-1);\n",
       "}\n",
       "\n",
       ".sk-estimator-doc-link.fitted,\n",
       "a:link.sk-estimator-doc-link.fitted,\n",
       "a:visited.sk-estimator-doc-link.fitted {\n",
       "  /* fitted */\n",
       "  border: var(--sklearn-color-fitted-level-1) 1pt solid;\n",
       "  color: var(--sklearn-color-fitted-level-1);\n",
       "}\n",
       "\n",
       "/* On hover */\n",
       "div.sk-estimator:hover .sk-estimator-doc-link:hover,\n",
       ".sk-estimator-doc-link:hover,\n",
       "div.sk-label-container:hover .sk-estimator-doc-link:hover,\n",
       ".sk-estimator-doc-link:hover {\n",
       "  /* unfitted */\n",
       "  background-color: var(--sklearn-color-unfitted-level-3);\n",
       "  color: var(--sklearn-color-background);\n",
       "  text-decoration: none;\n",
       "}\n",
       "\n",
       "div.sk-estimator.fitted:hover .sk-estimator-doc-link.fitted:hover,\n",
       ".sk-estimator-doc-link.fitted:hover,\n",
       "div.sk-label-container:hover .sk-estimator-doc-link.fitted:hover,\n",
       ".sk-estimator-doc-link.fitted:hover {\n",
       "  /* fitted */\n",
       "  background-color: var(--sklearn-color-fitted-level-3);\n",
       "  color: var(--sklearn-color-background);\n",
       "  text-decoration: none;\n",
       "}\n",
       "\n",
       "/* Span, style for the box shown on hovering the info icon */\n",
       ".sk-estimator-doc-link span {\n",
       "  display: none;\n",
       "  z-index: 9999;\n",
       "  position: relative;\n",
       "  font-weight: normal;\n",
       "  right: .2ex;\n",
       "  padding: .5ex;\n",
       "  margin: .5ex;\n",
       "  width: min-content;\n",
       "  min-width: 20ex;\n",
       "  max-width: 50ex;\n",
       "  color: var(--sklearn-color-text);\n",
       "  box-shadow: 2pt 2pt 4pt #999;\n",
       "  /* unfitted */\n",
       "  background: var(--sklearn-color-unfitted-level-0);\n",
       "  border: .5pt solid var(--sklearn-color-unfitted-level-3);\n",
       "}\n",
       "\n",
       ".sk-estimator-doc-link.fitted span {\n",
       "  /* fitted */\n",
       "  background: var(--sklearn-color-fitted-level-0);\n",
       "  border: var(--sklearn-color-fitted-level-3);\n",
       "}\n",
       "\n",
       ".sk-estimator-doc-link:hover span {\n",
       "  display: block;\n",
       "}\n",
       "\n",
       "/* \"?\"-specific style due to the `<a>` HTML tag */\n",
       "\n",
       "#sk-container-id-1 a.estimator_doc_link {\n",
       "  float: right;\n",
       "  font-size: 1rem;\n",
       "  line-height: 1em;\n",
       "  font-family: monospace;\n",
       "  background-color: var(--sklearn-color-background);\n",
       "  border-radius: 1rem;\n",
       "  height: 1rem;\n",
       "  width: 1rem;\n",
       "  text-decoration: none;\n",
       "  /* unfitted */\n",
       "  color: var(--sklearn-color-unfitted-level-1);\n",
       "  border: var(--sklearn-color-unfitted-level-1) 1pt solid;\n",
       "}\n",
       "\n",
       "#sk-container-id-1 a.estimator_doc_link.fitted {\n",
       "  /* fitted */\n",
       "  border: var(--sklearn-color-fitted-level-1) 1pt solid;\n",
       "  color: var(--sklearn-color-fitted-level-1);\n",
       "}\n",
       "\n",
       "/* On hover */\n",
       "#sk-container-id-1 a.estimator_doc_link:hover {\n",
       "  /* unfitted */\n",
       "  background-color: var(--sklearn-color-unfitted-level-3);\n",
       "  color: var(--sklearn-color-background);\n",
       "  text-decoration: none;\n",
       "}\n",
       "\n",
       "#sk-container-id-1 a.estimator_doc_link.fitted:hover {\n",
       "  /* fitted */\n",
       "  background-color: var(--sklearn-color-fitted-level-3);\n",
       "}\n",
       "</style><div id=\"sk-container-id-1\" class=\"sk-top-container\"><div class=\"sk-text-repr-fallback\"><pre>Pipeline(steps=[(&#x27;imputer&#x27;, SimpleImputer())])</pre><b>In a Jupyter environment, please rerun this cell to show the HTML representation or trust the notebook. <br />On GitHub, the HTML representation is unable to render, please try loading this page with nbviewer.org.</b></div><div class=\"sk-container\" hidden><div class=\"sk-item sk-dashed-wrapped\"><div class=\"sk-label-container\"><div class=\"sk-label  sk-toggleable\"><input class=\"sk-toggleable__control sk-hidden--visually\" id=\"sk-estimator-id-1\" type=\"checkbox\" ><label for=\"sk-estimator-id-1\" class=\"sk-toggleable__label  sk-toggleable__label-arrow\"><div><div>Pipeline</div></div><div><a class=\"sk-estimator-doc-link \" rel=\"noreferrer\" target=\"_blank\" href=\"https://scikit-learn.org/1.6/modules/generated/sklearn.pipeline.Pipeline.html\">?<span>Documentation for Pipeline</span></a><span class=\"sk-estimator-doc-link \">i<span>Not fitted</span></span></div></label><div class=\"sk-toggleable__content \"><pre>Pipeline(steps=[(&#x27;imputer&#x27;, SimpleImputer())])</pre></div> </div></div><div class=\"sk-serial\"><div class=\"sk-item\"><div class=\"sk-estimator  sk-toggleable\"><input class=\"sk-toggleable__control sk-hidden--visually\" id=\"sk-estimator-id-2\" type=\"checkbox\" ><label for=\"sk-estimator-id-2\" class=\"sk-toggleable__label  sk-toggleable__label-arrow\"><div><div>SimpleImputer</div></div><div><a class=\"sk-estimator-doc-link \" rel=\"noreferrer\" target=\"_blank\" href=\"https://scikit-learn.org/1.6/modules/generated/sklearn.impute.SimpleImputer.html\">?<span>Documentation for SimpleImputer</span></a></div></label><div class=\"sk-toggleable__content \"><pre>SimpleImputer()</pre></div> </div></div></div></div></div></div>"
      ],
      "text/plain": [
       "Pipeline(steps=[('imputer', SimpleImputer())])"
      ]
     },
     "execution_count": 18,
     "metadata": {},
     "output_type": "execute_result"
    }
   ],
   "source": [
    "# numerical transformation\n",
    "numerical_transformer = Pipeline(steps=[\n",
    "    ('imputer', SimpleImputer(strategy='mean'))\n",
    "])\n",
    "\n",
    "numerical_transformer"
   ]
  },
  {
   "cell_type": "code",
   "execution_count": 19,
   "id": "ffde4e9e",
   "metadata": {},
   "outputs": [
    {
     "data": {
      "text/html": [
       "<style>#sk-container-id-2 {\n",
       "  /* Definition of color scheme common for light and dark mode */\n",
       "  --sklearn-color-text: #000;\n",
       "  --sklearn-color-text-muted: #666;\n",
       "  --sklearn-color-line: gray;\n",
       "  /* Definition of color scheme for unfitted estimators */\n",
       "  --sklearn-color-unfitted-level-0: #fff5e6;\n",
       "  --sklearn-color-unfitted-level-1: #f6e4d2;\n",
       "  --sklearn-color-unfitted-level-2: #ffe0b3;\n",
       "  --sklearn-color-unfitted-level-3: chocolate;\n",
       "  /* Definition of color scheme for fitted estimators */\n",
       "  --sklearn-color-fitted-level-0: #f0f8ff;\n",
       "  --sklearn-color-fitted-level-1: #d4ebff;\n",
       "  --sklearn-color-fitted-level-2: #b3dbfd;\n",
       "  --sklearn-color-fitted-level-3: cornflowerblue;\n",
       "\n",
       "  /* Specific color for light theme */\n",
       "  --sklearn-color-text-on-default-background: var(--sg-text-color, var(--theme-code-foreground, var(--jp-content-font-color1, black)));\n",
       "  --sklearn-color-background: var(--sg-background-color, var(--theme-background, var(--jp-layout-color0, white)));\n",
       "  --sklearn-color-border-box: var(--sg-text-color, var(--theme-code-foreground, var(--jp-content-font-color1, black)));\n",
       "  --sklearn-color-icon: #696969;\n",
       "\n",
       "  @media (prefers-color-scheme: dark) {\n",
       "    /* Redefinition of color scheme for dark theme */\n",
       "    --sklearn-color-text-on-default-background: var(--sg-text-color, var(--theme-code-foreground, var(--jp-content-font-color1, white)));\n",
       "    --sklearn-color-background: var(--sg-background-color, var(--theme-background, var(--jp-layout-color0, #111)));\n",
       "    --sklearn-color-border-box: var(--sg-text-color, var(--theme-code-foreground, var(--jp-content-font-color1, white)));\n",
       "    --sklearn-color-icon: #878787;\n",
       "  }\n",
       "}\n",
       "\n",
       "#sk-container-id-2 {\n",
       "  color: var(--sklearn-color-text);\n",
       "}\n",
       "\n",
       "#sk-container-id-2 pre {\n",
       "  padding: 0;\n",
       "}\n",
       "\n",
       "#sk-container-id-2 input.sk-hidden--visually {\n",
       "  border: 0;\n",
       "  clip: rect(1px 1px 1px 1px);\n",
       "  clip: rect(1px, 1px, 1px, 1px);\n",
       "  height: 1px;\n",
       "  margin: -1px;\n",
       "  overflow: hidden;\n",
       "  padding: 0;\n",
       "  position: absolute;\n",
       "  width: 1px;\n",
       "}\n",
       "\n",
       "#sk-container-id-2 div.sk-dashed-wrapped {\n",
       "  border: 1px dashed var(--sklearn-color-line);\n",
       "  margin: 0 0.4em 0.5em 0.4em;\n",
       "  box-sizing: border-box;\n",
       "  padding-bottom: 0.4em;\n",
       "  background-color: var(--sklearn-color-background);\n",
       "}\n",
       "\n",
       "#sk-container-id-2 div.sk-container {\n",
       "  /* jupyter's `normalize.less` sets `[hidden] { display: none; }`\n",
       "     but bootstrap.min.css set `[hidden] { display: none !important; }`\n",
       "     so we also need the `!important` here to be able to override the\n",
       "     default hidden behavior on the sphinx rendered scikit-learn.org.\n",
       "     See: https://github.com/scikit-learn/scikit-learn/issues/21755 */\n",
       "  display: inline-block !important;\n",
       "  position: relative;\n",
       "}\n",
       "\n",
       "#sk-container-id-2 div.sk-text-repr-fallback {\n",
       "  display: none;\n",
       "}\n",
       "\n",
       "div.sk-parallel-item,\n",
       "div.sk-serial,\n",
       "div.sk-item {\n",
       "  /* draw centered vertical line to link estimators */\n",
       "  background-image: linear-gradient(var(--sklearn-color-text-on-default-background), var(--sklearn-color-text-on-default-background));\n",
       "  background-size: 2px 100%;\n",
       "  background-repeat: no-repeat;\n",
       "  background-position: center center;\n",
       "}\n",
       "\n",
       "/* Parallel-specific style estimator block */\n",
       "\n",
       "#sk-container-id-2 div.sk-parallel-item::after {\n",
       "  content: \"\";\n",
       "  width: 100%;\n",
       "  border-bottom: 2px solid var(--sklearn-color-text-on-default-background);\n",
       "  flex-grow: 1;\n",
       "}\n",
       "\n",
       "#sk-container-id-2 div.sk-parallel {\n",
       "  display: flex;\n",
       "  align-items: stretch;\n",
       "  justify-content: center;\n",
       "  background-color: var(--sklearn-color-background);\n",
       "  position: relative;\n",
       "}\n",
       "\n",
       "#sk-container-id-2 div.sk-parallel-item {\n",
       "  display: flex;\n",
       "  flex-direction: column;\n",
       "}\n",
       "\n",
       "#sk-container-id-2 div.sk-parallel-item:first-child::after {\n",
       "  align-self: flex-end;\n",
       "  width: 50%;\n",
       "}\n",
       "\n",
       "#sk-container-id-2 div.sk-parallel-item:last-child::after {\n",
       "  align-self: flex-start;\n",
       "  width: 50%;\n",
       "}\n",
       "\n",
       "#sk-container-id-2 div.sk-parallel-item:only-child::after {\n",
       "  width: 0;\n",
       "}\n",
       "\n",
       "/* Serial-specific style estimator block */\n",
       "\n",
       "#sk-container-id-2 div.sk-serial {\n",
       "  display: flex;\n",
       "  flex-direction: column;\n",
       "  align-items: center;\n",
       "  background-color: var(--sklearn-color-background);\n",
       "  padding-right: 1em;\n",
       "  padding-left: 1em;\n",
       "}\n",
       "\n",
       "\n",
       "/* Toggleable style: style used for estimator/Pipeline/ColumnTransformer box that is\n",
       "clickable and can be expanded/collapsed.\n",
       "- Pipeline and ColumnTransformer use this feature and define the default style\n",
       "- Estimators will overwrite some part of the style using the `sk-estimator` class\n",
       "*/\n",
       "\n",
       "/* Pipeline and ColumnTransformer style (default) */\n",
       "\n",
       "#sk-container-id-2 div.sk-toggleable {\n",
       "  /* Default theme specific background. It is overwritten whether we have a\n",
       "  specific estimator or a Pipeline/ColumnTransformer */\n",
       "  background-color: var(--sklearn-color-background);\n",
       "}\n",
       "\n",
       "/* Toggleable label */\n",
       "#sk-container-id-2 label.sk-toggleable__label {\n",
       "  cursor: pointer;\n",
       "  display: flex;\n",
       "  width: 100%;\n",
       "  margin-bottom: 0;\n",
       "  padding: 0.5em;\n",
       "  box-sizing: border-box;\n",
       "  text-align: center;\n",
       "  align-items: start;\n",
       "  justify-content: space-between;\n",
       "  gap: 0.5em;\n",
       "}\n",
       "\n",
       "#sk-container-id-2 label.sk-toggleable__label .caption {\n",
       "  font-size: 0.6rem;\n",
       "  font-weight: lighter;\n",
       "  color: var(--sklearn-color-text-muted);\n",
       "}\n",
       "\n",
       "#sk-container-id-2 label.sk-toggleable__label-arrow:before {\n",
       "  /* Arrow on the left of the label */\n",
       "  content: \"▸\";\n",
       "  float: left;\n",
       "  margin-right: 0.25em;\n",
       "  color: var(--sklearn-color-icon);\n",
       "}\n",
       "\n",
       "#sk-container-id-2 label.sk-toggleable__label-arrow:hover:before {\n",
       "  color: var(--sklearn-color-text);\n",
       "}\n",
       "\n",
       "/* Toggleable content - dropdown */\n",
       "\n",
       "#sk-container-id-2 div.sk-toggleable__content {\n",
       "  max-height: 0;\n",
       "  max-width: 0;\n",
       "  overflow: hidden;\n",
       "  text-align: left;\n",
       "  /* unfitted */\n",
       "  background-color: var(--sklearn-color-unfitted-level-0);\n",
       "}\n",
       "\n",
       "#sk-container-id-2 div.sk-toggleable__content.fitted {\n",
       "  /* fitted */\n",
       "  background-color: var(--sklearn-color-fitted-level-0);\n",
       "}\n",
       "\n",
       "#sk-container-id-2 div.sk-toggleable__content pre {\n",
       "  margin: 0.2em;\n",
       "  border-radius: 0.25em;\n",
       "  color: var(--sklearn-color-text);\n",
       "  /* unfitted */\n",
       "  background-color: var(--sklearn-color-unfitted-level-0);\n",
       "}\n",
       "\n",
       "#sk-container-id-2 div.sk-toggleable__content.fitted pre {\n",
       "  /* unfitted */\n",
       "  background-color: var(--sklearn-color-fitted-level-0);\n",
       "}\n",
       "\n",
       "#sk-container-id-2 input.sk-toggleable__control:checked~div.sk-toggleable__content {\n",
       "  /* Expand drop-down */\n",
       "  max-height: 200px;\n",
       "  max-width: 100%;\n",
       "  overflow: auto;\n",
       "}\n",
       "\n",
       "#sk-container-id-2 input.sk-toggleable__control:checked~label.sk-toggleable__label-arrow:before {\n",
       "  content: \"▾\";\n",
       "}\n",
       "\n",
       "/* Pipeline/ColumnTransformer-specific style */\n",
       "\n",
       "#sk-container-id-2 div.sk-label input.sk-toggleable__control:checked~label.sk-toggleable__label {\n",
       "  color: var(--sklearn-color-text);\n",
       "  background-color: var(--sklearn-color-unfitted-level-2);\n",
       "}\n",
       "\n",
       "#sk-container-id-2 div.sk-label.fitted input.sk-toggleable__control:checked~label.sk-toggleable__label {\n",
       "  background-color: var(--sklearn-color-fitted-level-2);\n",
       "}\n",
       "\n",
       "/* Estimator-specific style */\n",
       "\n",
       "/* Colorize estimator box */\n",
       "#sk-container-id-2 div.sk-estimator input.sk-toggleable__control:checked~label.sk-toggleable__label {\n",
       "  /* unfitted */\n",
       "  background-color: var(--sklearn-color-unfitted-level-2);\n",
       "}\n",
       "\n",
       "#sk-container-id-2 div.sk-estimator.fitted input.sk-toggleable__control:checked~label.sk-toggleable__label {\n",
       "  /* fitted */\n",
       "  background-color: var(--sklearn-color-fitted-level-2);\n",
       "}\n",
       "\n",
       "#sk-container-id-2 div.sk-label label.sk-toggleable__label,\n",
       "#sk-container-id-2 div.sk-label label {\n",
       "  /* The background is the default theme color */\n",
       "  color: var(--sklearn-color-text-on-default-background);\n",
       "}\n",
       "\n",
       "/* On hover, darken the color of the background */\n",
       "#sk-container-id-2 div.sk-label:hover label.sk-toggleable__label {\n",
       "  color: var(--sklearn-color-text);\n",
       "  background-color: var(--sklearn-color-unfitted-level-2);\n",
       "}\n",
       "\n",
       "/* Label box, darken color on hover, fitted */\n",
       "#sk-container-id-2 div.sk-label.fitted:hover label.sk-toggleable__label.fitted {\n",
       "  color: var(--sklearn-color-text);\n",
       "  background-color: var(--sklearn-color-fitted-level-2);\n",
       "}\n",
       "\n",
       "/* Estimator label */\n",
       "\n",
       "#sk-container-id-2 div.sk-label label {\n",
       "  font-family: monospace;\n",
       "  font-weight: bold;\n",
       "  display: inline-block;\n",
       "  line-height: 1.2em;\n",
       "}\n",
       "\n",
       "#sk-container-id-2 div.sk-label-container {\n",
       "  text-align: center;\n",
       "}\n",
       "\n",
       "/* Estimator-specific */\n",
       "#sk-container-id-2 div.sk-estimator {\n",
       "  font-family: monospace;\n",
       "  border: 1px dotted var(--sklearn-color-border-box);\n",
       "  border-radius: 0.25em;\n",
       "  box-sizing: border-box;\n",
       "  margin-bottom: 0.5em;\n",
       "  /* unfitted */\n",
       "  background-color: var(--sklearn-color-unfitted-level-0);\n",
       "}\n",
       "\n",
       "#sk-container-id-2 div.sk-estimator.fitted {\n",
       "  /* fitted */\n",
       "  background-color: var(--sklearn-color-fitted-level-0);\n",
       "}\n",
       "\n",
       "/* on hover */\n",
       "#sk-container-id-2 div.sk-estimator:hover {\n",
       "  /* unfitted */\n",
       "  background-color: var(--sklearn-color-unfitted-level-2);\n",
       "}\n",
       "\n",
       "#sk-container-id-2 div.sk-estimator.fitted:hover {\n",
       "  /* fitted */\n",
       "  background-color: var(--sklearn-color-fitted-level-2);\n",
       "}\n",
       "\n",
       "/* Specification for estimator info (e.g. \"i\" and \"?\") */\n",
       "\n",
       "/* Common style for \"i\" and \"?\" */\n",
       "\n",
       ".sk-estimator-doc-link,\n",
       "a:link.sk-estimator-doc-link,\n",
       "a:visited.sk-estimator-doc-link {\n",
       "  float: right;\n",
       "  font-size: smaller;\n",
       "  line-height: 1em;\n",
       "  font-family: monospace;\n",
       "  background-color: var(--sklearn-color-background);\n",
       "  border-radius: 1em;\n",
       "  height: 1em;\n",
       "  width: 1em;\n",
       "  text-decoration: none !important;\n",
       "  margin-left: 0.5em;\n",
       "  text-align: center;\n",
       "  /* unfitted */\n",
       "  border: var(--sklearn-color-unfitted-level-1) 1pt solid;\n",
       "  color: var(--sklearn-color-unfitted-level-1);\n",
       "}\n",
       "\n",
       ".sk-estimator-doc-link.fitted,\n",
       "a:link.sk-estimator-doc-link.fitted,\n",
       "a:visited.sk-estimator-doc-link.fitted {\n",
       "  /* fitted */\n",
       "  border: var(--sklearn-color-fitted-level-1) 1pt solid;\n",
       "  color: var(--sklearn-color-fitted-level-1);\n",
       "}\n",
       "\n",
       "/* On hover */\n",
       "div.sk-estimator:hover .sk-estimator-doc-link:hover,\n",
       ".sk-estimator-doc-link:hover,\n",
       "div.sk-label-container:hover .sk-estimator-doc-link:hover,\n",
       ".sk-estimator-doc-link:hover {\n",
       "  /* unfitted */\n",
       "  background-color: var(--sklearn-color-unfitted-level-3);\n",
       "  color: var(--sklearn-color-background);\n",
       "  text-decoration: none;\n",
       "}\n",
       "\n",
       "div.sk-estimator.fitted:hover .sk-estimator-doc-link.fitted:hover,\n",
       ".sk-estimator-doc-link.fitted:hover,\n",
       "div.sk-label-container:hover .sk-estimator-doc-link.fitted:hover,\n",
       ".sk-estimator-doc-link.fitted:hover {\n",
       "  /* fitted */\n",
       "  background-color: var(--sklearn-color-fitted-level-3);\n",
       "  color: var(--sklearn-color-background);\n",
       "  text-decoration: none;\n",
       "}\n",
       "\n",
       "/* Span, style for the box shown on hovering the info icon */\n",
       ".sk-estimator-doc-link span {\n",
       "  display: none;\n",
       "  z-index: 9999;\n",
       "  position: relative;\n",
       "  font-weight: normal;\n",
       "  right: .2ex;\n",
       "  padding: .5ex;\n",
       "  margin: .5ex;\n",
       "  width: min-content;\n",
       "  min-width: 20ex;\n",
       "  max-width: 50ex;\n",
       "  color: var(--sklearn-color-text);\n",
       "  box-shadow: 2pt 2pt 4pt #999;\n",
       "  /* unfitted */\n",
       "  background: var(--sklearn-color-unfitted-level-0);\n",
       "  border: .5pt solid var(--sklearn-color-unfitted-level-3);\n",
       "}\n",
       "\n",
       ".sk-estimator-doc-link.fitted span {\n",
       "  /* fitted */\n",
       "  background: var(--sklearn-color-fitted-level-0);\n",
       "  border: var(--sklearn-color-fitted-level-3);\n",
       "}\n",
       "\n",
       ".sk-estimator-doc-link:hover span {\n",
       "  display: block;\n",
       "}\n",
       "\n",
       "/* \"?\"-specific style due to the `<a>` HTML tag */\n",
       "\n",
       "#sk-container-id-2 a.estimator_doc_link {\n",
       "  float: right;\n",
       "  font-size: 1rem;\n",
       "  line-height: 1em;\n",
       "  font-family: monospace;\n",
       "  background-color: var(--sklearn-color-background);\n",
       "  border-radius: 1rem;\n",
       "  height: 1rem;\n",
       "  width: 1rem;\n",
       "  text-decoration: none;\n",
       "  /* unfitted */\n",
       "  color: var(--sklearn-color-unfitted-level-1);\n",
       "  border: var(--sklearn-color-unfitted-level-1) 1pt solid;\n",
       "}\n",
       "\n",
       "#sk-container-id-2 a.estimator_doc_link.fitted {\n",
       "  /* fitted */\n",
       "  border: var(--sklearn-color-fitted-level-1) 1pt solid;\n",
       "  color: var(--sklearn-color-fitted-level-1);\n",
       "}\n",
       "\n",
       "/* On hover */\n",
       "#sk-container-id-2 a.estimator_doc_link:hover {\n",
       "  /* unfitted */\n",
       "  background-color: var(--sklearn-color-unfitted-level-3);\n",
       "  color: var(--sklearn-color-background);\n",
       "  text-decoration: none;\n",
       "}\n",
       "\n",
       "#sk-container-id-2 a.estimator_doc_link.fitted:hover {\n",
       "  /* fitted */\n",
       "  background-color: var(--sklearn-color-fitted-level-3);\n",
       "}\n",
       "</style><div id=\"sk-container-id-2\" class=\"sk-top-container\"><div class=\"sk-text-repr-fallback\"><pre>Pipeline(steps=[(&#x27;imputer&#x27;, SimpleImputer(strategy=&#x27;most_frequent&#x27;))])</pre><b>In a Jupyter environment, please rerun this cell to show the HTML representation or trust the notebook. <br />On GitHub, the HTML representation is unable to render, please try loading this page with nbviewer.org.</b></div><div class=\"sk-container\" hidden><div class=\"sk-item sk-dashed-wrapped\"><div class=\"sk-label-container\"><div class=\"sk-label  sk-toggleable\"><input class=\"sk-toggleable__control sk-hidden--visually\" id=\"sk-estimator-id-3\" type=\"checkbox\" ><label for=\"sk-estimator-id-3\" class=\"sk-toggleable__label  sk-toggleable__label-arrow\"><div><div>Pipeline</div></div><div><a class=\"sk-estimator-doc-link \" rel=\"noreferrer\" target=\"_blank\" href=\"https://scikit-learn.org/1.6/modules/generated/sklearn.pipeline.Pipeline.html\">?<span>Documentation for Pipeline</span></a><span class=\"sk-estimator-doc-link \">i<span>Not fitted</span></span></div></label><div class=\"sk-toggleable__content \"><pre>Pipeline(steps=[(&#x27;imputer&#x27;, SimpleImputer(strategy=&#x27;most_frequent&#x27;))])</pre></div> </div></div><div class=\"sk-serial\"><div class=\"sk-item\"><div class=\"sk-estimator  sk-toggleable\"><input class=\"sk-toggleable__control sk-hidden--visually\" id=\"sk-estimator-id-4\" type=\"checkbox\" ><label for=\"sk-estimator-id-4\" class=\"sk-toggleable__label  sk-toggleable__label-arrow\"><div><div>SimpleImputer</div></div><div><a class=\"sk-estimator-doc-link \" rel=\"noreferrer\" target=\"_blank\" href=\"https://scikit-learn.org/1.6/modules/generated/sklearn.impute.SimpleImputer.html\">?<span>Documentation for SimpleImputer</span></a></div></label><div class=\"sk-toggleable__content \"><pre>SimpleImputer(strategy=&#x27;most_frequent&#x27;)</pre></div> </div></div></div></div></div></div>"
      ],
      "text/plain": [
       "Pipeline(steps=[('imputer', SimpleImputer(strategy='most_frequent'))])"
      ]
     },
     "execution_count": 19,
     "metadata": {},
     "output_type": "execute_result"
    }
   ],
   "source": [
    "# categorical transformation\n",
    "categorical_transformer = Pipeline(steps=[\n",
    "    ('imputer', SimpleImputer(strategy='most_frequent'))\n",
    "])\n",
    "\n",
    "categorical_transformer"
   ]
  },
  {
   "cell_type": "code",
   "execution_count": 20,
   "id": "df25ca8d",
   "metadata": {},
   "outputs": [
    {
     "data": {
      "text/html": [
       "<style>#sk-container-id-3 {\n",
       "  /* Definition of color scheme common for light and dark mode */\n",
       "  --sklearn-color-text: #000;\n",
       "  --sklearn-color-text-muted: #666;\n",
       "  --sklearn-color-line: gray;\n",
       "  /* Definition of color scheme for unfitted estimators */\n",
       "  --sklearn-color-unfitted-level-0: #fff5e6;\n",
       "  --sklearn-color-unfitted-level-1: #f6e4d2;\n",
       "  --sklearn-color-unfitted-level-2: #ffe0b3;\n",
       "  --sklearn-color-unfitted-level-3: chocolate;\n",
       "  /* Definition of color scheme for fitted estimators */\n",
       "  --sklearn-color-fitted-level-0: #f0f8ff;\n",
       "  --sklearn-color-fitted-level-1: #d4ebff;\n",
       "  --sklearn-color-fitted-level-2: #b3dbfd;\n",
       "  --sklearn-color-fitted-level-3: cornflowerblue;\n",
       "\n",
       "  /* Specific color for light theme */\n",
       "  --sklearn-color-text-on-default-background: var(--sg-text-color, var(--theme-code-foreground, var(--jp-content-font-color1, black)));\n",
       "  --sklearn-color-background: var(--sg-background-color, var(--theme-background, var(--jp-layout-color0, white)));\n",
       "  --sklearn-color-border-box: var(--sg-text-color, var(--theme-code-foreground, var(--jp-content-font-color1, black)));\n",
       "  --sklearn-color-icon: #696969;\n",
       "\n",
       "  @media (prefers-color-scheme: dark) {\n",
       "    /* Redefinition of color scheme for dark theme */\n",
       "    --sklearn-color-text-on-default-background: var(--sg-text-color, var(--theme-code-foreground, var(--jp-content-font-color1, white)));\n",
       "    --sklearn-color-background: var(--sg-background-color, var(--theme-background, var(--jp-layout-color0, #111)));\n",
       "    --sklearn-color-border-box: var(--sg-text-color, var(--theme-code-foreground, var(--jp-content-font-color1, white)));\n",
       "    --sklearn-color-icon: #878787;\n",
       "  }\n",
       "}\n",
       "\n",
       "#sk-container-id-3 {\n",
       "  color: var(--sklearn-color-text);\n",
       "}\n",
       "\n",
       "#sk-container-id-3 pre {\n",
       "  padding: 0;\n",
       "}\n",
       "\n",
       "#sk-container-id-3 input.sk-hidden--visually {\n",
       "  border: 0;\n",
       "  clip: rect(1px 1px 1px 1px);\n",
       "  clip: rect(1px, 1px, 1px, 1px);\n",
       "  height: 1px;\n",
       "  margin: -1px;\n",
       "  overflow: hidden;\n",
       "  padding: 0;\n",
       "  position: absolute;\n",
       "  width: 1px;\n",
       "}\n",
       "\n",
       "#sk-container-id-3 div.sk-dashed-wrapped {\n",
       "  border: 1px dashed var(--sklearn-color-line);\n",
       "  margin: 0 0.4em 0.5em 0.4em;\n",
       "  box-sizing: border-box;\n",
       "  padding-bottom: 0.4em;\n",
       "  background-color: var(--sklearn-color-background);\n",
       "}\n",
       "\n",
       "#sk-container-id-3 div.sk-container {\n",
       "  /* jupyter's `normalize.less` sets `[hidden] { display: none; }`\n",
       "     but bootstrap.min.css set `[hidden] { display: none !important; }`\n",
       "     so we also need the `!important` here to be able to override the\n",
       "     default hidden behavior on the sphinx rendered scikit-learn.org.\n",
       "     See: https://github.com/scikit-learn/scikit-learn/issues/21755 */\n",
       "  display: inline-block !important;\n",
       "  position: relative;\n",
       "}\n",
       "\n",
       "#sk-container-id-3 div.sk-text-repr-fallback {\n",
       "  display: none;\n",
       "}\n",
       "\n",
       "div.sk-parallel-item,\n",
       "div.sk-serial,\n",
       "div.sk-item {\n",
       "  /* draw centered vertical line to link estimators */\n",
       "  background-image: linear-gradient(var(--sklearn-color-text-on-default-background), var(--sklearn-color-text-on-default-background));\n",
       "  background-size: 2px 100%;\n",
       "  background-repeat: no-repeat;\n",
       "  background-position: center center;\n",
       "}\n",
       "\n",
       "/* Parallel-specific style estimator block */\n",
       "\n",
       "#sk-container-id-3 div.sk-parallel-item::after {\n",
       "  content: \"\";\n",
       "  width: 100%;\n",
       "  border-bottom: 2px solid var(--sklearn-color-text-on-default-background);\n",
       "  flex-grow: 1;\n",
       "}\n",
       "\n",
       "#sk-container-id-3 div.sk-parallel {\n",
       "  display: flex;\n",
       "  align-items: stretch;\n",
       "  justify-content: center;\n",
       "  background-color: var(--sklearn-color-background);\n",
       "  position: relative;\n",
       "}\n",
       "\n",
       "#sk-container-id-3 div.sk-parallel-item {\n",
       "  display: flex;\n",
       "  flex-direction: column;\n",
       "}\n",
       "\n",
       "#sk-container-id-3 div.sk-parallel-item:first-child::after {\n",
       "  align-self: flex-end;\n",
       "  width: 50%;\n",
       "}\n",
       "\n",
       "#sk-container-id-3 div.sk-parallel-item:last-child::after {\n",
       "  align-self: flex-start;\n",
       "  width: 50%;\n",
       "}\n",
       "\n",
       "#sk-container-id-3 div.sk-parallel-item:only-child::after {\n",
       "  width: 0;\n",
       "}\n",
       "\n",
       "/* Serial-specific style estimator block */\n",
       "\n",
       "#sk-container-id-3 div.sk-serial {\n",
       "  display: flex;\n",
       "  flex-direction: column;\n",
       "  align-items: center;\n",
       "  background-color: var(--sklearn-color-background);\n",
       "  padding-right: 1em;\n",
       "  padding-left: 1em;\n",
       "}\n",
       "\n",
       "\n",
       "/* Toggleable style: style used for estimator/Pipeline/ColumnTransformer box that is\n",
       "clickable and can be expanded/collapsed.\n",
       "- Pipeline and ColumnTransformer use this feature and define the default style\n",
       "- Estimators will overwrite some part of the style using the `sk-estimator` class\n",
       "*/\n",
       "\n",
       "/* Pipeline and ColumnTransformer style (default) */\n",
       "\n",
       "#sk-container-id-3 div.sk-toggleable {\n",
       "  /* Default theme specific background. It is overwritten whether we have a\n",
       "  specific estimator or a Pipeline/ColumnTransformer */\n",
       "  background-color: var(--sklearn-color-background);\n",
       "}\n",
       "\n",
       "/* Toggleable label */\n",
       "#sk-container-id-3 label.sk-toggleable__label {\n",
       "  cursor: pointer;\n",
       "  display: flex;\n",
       "  width: 100%;\n",
       "  margin-bottom: 0;\n",
       "  padding: 0.5em;\n",
       "  box-sizing: border-box;\n",
       "  text-align: center;\n",
       "  align-items: start;\n",
       "  justify-content: space-between;\n",
       "  gap: 0.5em;\n",
       "}\n",
       "\n",
       "#sk-container-id-3 label.sk-toggleable__label .caption {\n",
       "  font-size: 0.6rem;\n",
       "  font-weight: lighter;\n",
       "  color: var(--sklearn-color-text-muted);\n",
       "}\n",
       "\n",
       "#sk-container-id-3 label.sk-toggleable__label-arrow:before {\n",
       "  /* Arrow on the left of the label */\n",
       "  content: \"▸\";\n",
       "  float: left;\n",
       "  margin-right: 0.25em;\n",
       "  color: var(--sklearn-color-icon);\n",
       "}\n",
       "\n",
       "#sk-container-id-3 label.sk-toggleable__label-arrow:hover:before {\n",
       "  color: var(--sklearn-color-text);\n",
       "}\n",
       "\n",
       "/* Toggleable content - dropdown */\n",
       "\n",
       "#sk-container-id-3 div.sk-toggleable__content {\n",
       "  max-height: 0;\n",
       "  max-width: 0;\n",
       "  overflow: hidden;\n",
       "  text-align: left;\n",
       "  /* unfitted */\n",
       "  background-color: var(--sklearn-color-unfitted-level-0);\n",
       "}\n",
       "\n",
       "#sk-container-id-3 div.sk-toggleable__content.fitted {\n",
       "  /* fitted */\n",
       "  background-color: var(--sklearn-color-fitted-level-0);\n",
       "}\n",
       "\n",
       "#sk-container-id-3 div.sk-toggleable__content pre {\n",
       "  margin: 0.2em;\n",
       "  border-radius: 0.25em;\n",
       "  color: var(--sklearn-color-text);\n",
       "  /* unfitted */\n",
       "  background-color: var(--sklearn-color-unfitted-level-0);\n",
       "}\n",
       "\n",
       "#sk-container-id-3 div.sk-toggleable__content.fitted pre {\n",
       "  /* unfitted */\n",
       "  background-color: var(--sklearn-color-fitted-level-0);\n",
       "}\n",
       "\n",
       "#sk-container-id-3 input.sk-toggleable__control:checked~div.sk-toggleable__content {\n",
       "  /* Expand drop-down */\n",
       "  max-height: 200px;\n",
       "  max-width: 100%;\n",
       "  overflow: auto;\n",
       "}\n",
       "\n",
       "#sk-container-id-3 input.sk-toggleable__control:checked~label.sk-toggleable__label-arrow:before {\n",
       "  content: \"▾\";\n",
       "}\n",
       "\n",
       "/* Pipeline/ColumnTransformer-specific style */\n",
       "\n",
       "#sk-container-id-3 div.sk-label input.sk-toggleable__control:checked~label.sk-toggleable__label {\n",
       "  color: var(--sklearn-color-text);\n",
       "  background-color: var(--sklearn-color-unfitted-level-2);\n",
       "}\n",
       "\n",
       "#sk-container-id-3 div.sk-label.fitted input.sk-toggleable__control:checked~label.sk-toggleable__label {\n",
       "  background-color: var(--sklearn-color-fitted-level-2);\n",
       "}\n",
       "\n",
       "/* Estimator-specific style */\n",
       "\n",
       "/* Colorize estimator box */\n",
       "#sk-container-id-3 div.sk-estimator input.sk-toggleable__control:checked~label.sk-toggleable__label {\n",
       "  /* unfitted */\n",
       "  background-color: var(--sklearn-color-unfitted-level-2);\n",
       "}\n",
       "\n",
       "#sk-container-id-3 div.sk-estimator.fitted input.sk-toggleable__control:checked~label.sk-toggleable__label {\n",
       "  /* fitted */\n",
       "  background-color: var(--sklearn-color-fitted-level-2);\n",
       "}\n",
       "\n",
       "#sk-container-id-3 div.sk-label label.sk-toggleable__label,\n",
       "#sk-container-id-3 div.sk-label label {\n",
       "  /* The background is the default theme color */\n",
       "  color: var(--sklearn-color-text-on-default-background);\n",
       "}\n",
       "\n",
       "/* On hover, darken the color of the background */\n",
       "#sk-container-id-3 div.sk-label:hover label.sk-toggleable__label {\n",
       "  color: var(--sklearn-color-text);\n",
       "  background-color: var(--sklearn-color-unfitted-level-2);\n",
       "}\n",
       "\n",
       "/* Label box, darken color on hover, fitted */\n",
       "#sk-container-id-3 div.sk-label.fitted:hover label.sk-toggleable__label.fitted {\n",
       "  color: var(--sklearn-color-text);\n",
       "  background-color: var(--sklearn-color-fitted-level-2);\n",
       "}\n",
       "\n",
       "/* Estimator label */\n",
       "\n",
       "#sk-container-id-3 div.sk-label label {\n",
       "  font-family: monospace;\n",
       "  font-weight: bold;\n",
       "  display: inline-block;\n",
       "  line-height: 1.2em;\n",
       "}\n",
       "\n",
       "#sk-container-id-3 div.sk-label-container {\n",
       "  text-align: center;\n",
       "}\n",
       "\n",
       "/* Estimator-specific */\n",
       "#sk-container-id-3 div.sk-estimator {\n",
       "  font-family: monospace;\n",
       "  border: 1px dotted var(--sklearn-color-border-box);\n",
       "  border-radius: 0.25em;\n",
       "  box-sizing: border-box;\n",
       "  margin-bottom: 0.5em;\n",
       "  /* unfitted */\n",
       "  background-color: var(--sklearn-color-unfitted-level-0);\n",
       "}\n",
       "\n",
       "#sk-container-id-3 div.sk-estimator.fitted {\n",
       "  /* fitted */\n",
       "  background-color: var(--sklearn-color-fitted-level-0);\n",
       "}\n",
       "\n",
       "/* on hover */\n",
       "#sk-container-id-3 div.sk-estimator:hover {\n",
       "  /* unfitted */\n",
       "  background-color: var(--sklearn-color-unfitted-level-2);\n",
       "}\n",
       "\n",
       "#sk-container-id-3 div.sk-estimator.fitted:hover {\n",
       "  /* fitted */\n",
       "  background-color: var(--sklearn-color-fitted-level-2);\n",
       "}\n",
       "\n",
       "/* Specification for estimator info (e.g. \"i\" and \"?\") */\n",
       "\n",
       "/* Common style for \"i\" and \"?\" */\n",
       "\n",
       ".sk-estimator-doc-link,\n",
       "a:link.sk-estimator-doc-link,\n",
       "a:visited.sk-estimator-doc-link {\n",
       "  float: right;\n",
       "  font-size: smaller;\n",
       "  line-height: 1em;\n",
       "  font-family: monospace;\n",
       "  background-color: var(--sklearn-color-background);\n",
       "  border-radius: 1em;\n",
       "  height: 1em;\n",
       "  width: 1em;\n",
       "  text-decoration: none !important;\n",
       "  margin-left: 0.5em;\n",
       "  text-align: center;\n",
       "  /* unfitted */\n",
       "  border: var(--sklearn-color-unfitted-level-1) 1pt solid;\n",
       "  color: var(--sklearn-color-unfitted-level-1);\n",
       "}\n",
       "\n",
       ".sk-estimator-doc-link.fitted,\n",
       "a:link.sk-estimator-doc-link.fitted,\n",
       "a:visited.sk-estimator-doc-link.fitted {\n",
       "  /* fitted */\n",
       "  border: var(--sklearn-color-fitted-level-1) 1pt solid;\n",
       "  color: var(--sklearn-color-fitted-level-1);\n",
       "}\n",
       "\n",
       "/* On hover */\n",
       "div.sk-estimator:hover .sk-estimator-doc-link:hover,\n",
       ".sk-estimator-doc-link:hover,\n",
       "div.sk-label-container:hover .sk-estimator-doc-link:hover,\n",
       ".sk-estimator-doc-link:hover {\n",
       "  /* unfitted */\n",
       "  background-color: var(--sklearn-color-unfitted-level-3);\n",
       "  color: var(--sklearn-color-background);\n",
       "  text-decoration: none;\n",
       "}\n",
       "\n",
       "div.sk-estimator.fitted:hover .sk-estimator-doc-link.fitted:hover,\n",
       ".sk-estimator-doc-link.fitted:hover,\n",
       "div.sk-label-container:hover .sk-estimator-doc-link.fitted:hover,\n",
       ".sk-estimator-doc-link.fitted:hover {\n",
       "  /* fitted */\n",
       "  background-color: var(--sklearn-color-fitted-level-3);\n",
       "  color: var(--sklearn-color-background);\n",
       "  text-decoration: none;\n",
       "}\n",
       "\n",
       "/* Span, style for the box shown on hovering the info icon */\n",
       ".sk-estimator-doc-link span {\n",
       "  display: none;\n",
       "  z-index: 9999;\n",
       "  position: relative;\n",
       "  font-weight: normal;\n",
       "  right: .2ex;\n",
       "  padding: .5ex;\n",
       "  margin: .5ex;\n",
       "  width: min-content;\n",
       "  min-width: 20ex;\n",
       "  max-width: 50ex;\n",
       "  color: var(--sklearn-color-text);\n",
       "  box-shadow: 2pt 2pt 4pt #999;\n",
       "  /* unfitted */\n",
       "  background: var(--sklearn-color-unfitted-level-0);\n",
       "  border: .5pt solid var(--sklearn-color-unfitted-level-3);\n",
       "}\n",
       "\n",
       ".sk-estimator-doc-link.fitted span {\n",
       "  /* fitted */\n",
       "  background: var(--sklearn-color-fitted-level-0);\n",
       "  border: var(--sklearn-color-fitted-level-3);\n",
       "}\n",
       "\n",
       ".sk-estimator-doc-link:hover span {\n",
       "  display: block;\n",
       "}\n",
       "\n",
       "/* \"?\"-specific style due to the `<a>` HTML tag */\n",
       "\n",
       "#sk-container-id-3 a.estimator_doc_link {\n",
       "  float: right;\n",
       "  font-size: 1rem;\n",
       "  line-height: 1em;\n",
       "  font-family: monospace;\n",
       "  background-color: var(--sklearn-color-background);\n",
       "  border-radius: 1rem;\n",
       "  height: 1rem;\n",
       "  width: 1rem;\n",
       "  text-decoration: none;\n",
       "  /* unfitted */\n",
       "  color: var(--sklearn-color-unfitted-level-1);\n",
       "  border: var(--sklearn-color-unfitted-level-1) 1pt solid;\n",
       "}\n",
       "\n",
       "#sk-container-id-3 a.estimator_doc_link.fitted {\n",
       "  /* fitted */\n",
       "  border: var(--sklearn-color-fitted-level-1) 1pt solid;\n",
       "  color: var(--sklearn-color-fitted-level-1);\n",
       "}\n",
       "\n",
       "/* On hover */\n",
       "#sk-container-id-3 a.estimator_doc_link:hover {\n",
       "  /* unfitted */\n",
       "  background-color: var(--sklearn-color-unfitted-level-3);\n",
       "  color: var(--sklearn-color-background);\n",
       "  text-decoration: none;\n",
       "}\n",
       "\n",
       "#sk-container-id-3 a.estimator_doc_link.fitted:hover {\n",
       "  /* fitted */\n",
       "  background-color: var(--sklearn-color-fitted-level-3);\n",
       "}\n",
       "</style><div id=\"sk-container-id-3\" class=\"sk-top-container\"><div class=\"sk-text-repr-fallback\"><pre>ColumnTransformer(transformers=[(&#x27;num&#x27;,\n",
       "                                 Pipeline(steps=[(&#x27;imputer&#x27;, SimpleImputer())]),\n",
       "                                 [&#x27;Quantity&#x27;, &#x27;UnitPrice&#x27;, &#x27;TotalAmount&#x27;,\n",
       "                                  &#x27;FinalAmount&#x27;, &#x27;CostPrice&#x27;, &#x27;StockQuantity&#x27;,\n",
       "                                  &#x27;ReorderLevel&#x27;, &#x27;SellingPrice&#x27;]),\n",
       "                                (&#x27;cat&#x27;,\n",
       "                                 Pipeline(steps=[(&#x27;imputer&#x27;,\n",
       "                                                  SimpleImputer(strategy=&#x27;most_frequent&#x27;))]),\n",
       "                                 [&#x27;CustomerType&#x27;, &#x27;AgeGroup&#x27;, &#x27;Gender&#x27;,\n",
       "                                  &#x27;Location&#x27;, &#x27;PaymentMethod&#x27;, &#x27;ProductName&#x27;,\n",
       "                                  &#x27;Category&#x27;, &#x27;DiscountPercent&#x27;])])</pre><b>In a Jupyter environment, please rerun this cell to show the HTML representation or trust the notebook. <br />On GitHub, the HTML representation is unable to render, please try loading this page with nbviewer.org.</b></div><div class=\"sk-container\" hidden><div class=\"sk-item sk-dashed-wrapped\"><div class=\"sk-label-container\"><div class=\"sk-label  sk-toggleable\"><input class=\"sk-toggleable__control sk-hidden--visually\" id=\"sk-estimator-id-5\" type=\"checkbox\" ><label for=\"sk-estimator-id-5\" class=\"sk-toggleable__label  sk-toggleable__label-arrow\"><div><div>ColumnTransformer</div></div><div><a class=\"sk-estimator-doc-link \" rel=\"noreferrer\" target=\"_blank\" href=\"https://scikit-learn.org/1.6/modules/generated/sklearn.compose.ColumnTransformer.html\">?<span>Documentation for ColumnTransformer</span></a><span class=\"sk-estimator-doc-link \">i<span>Not fitted</span></span></div></label><div class=\"sk-toggleable__content \"><pre>ColumnTransformer(transformers=[(&#x27;num&#x27;,\n",
       "                                 Pipeline(steps=[(&#x27;imputer&#x27;, SimpleImputer())]),\n",
       "                                 [&#x27;Quantity&#x27;, &#x27;UnitPrice&#x27;, &#x27;TotalAmount&#x27;,\n",
       "                                  &#x27;FinalAmount&#x27;, &#x27;CostPrice&#x27;, &#x27;StockQuantity&#x27;,\n",
       "                                  &#x27;ReorderLevel&#x27;, &#x27;SellingPrice&#x27;]),\n",
       "                                (&#x27;cat&#x27;,\n",
       "                                 Pipeline(steps=[(&#x27;imputer&#x27;,\n",
       "                                                  SimpleImputer(strategy=&#x27;most_frequent&#x27;))]),\n",
       "                                 [&#x27;CustomerType&#x27;, &#x27;AgeGroup&#x27;, &#x27;Gender&#x27;,\n",
       "                                  &#x27;Location&#x27;, &#x27;PaymentMethod&#x27;, &#x27;ProductName&#x27;,\n",
       "                                  &#x27;Category&#x27;, &#x27;DiscountPercent&#x27;])])</pre></div> </div></div><div class=\"sk-parallel\"><div class=\"sk-parallel-item\"><div class=\"sk-item\"><div class=\"sk-label-container\"><div class=\"sk-label  sk-toggleable\"><input class=\"sk-toggleable__control sk-hidden--visually\" id=\"sk-estimator-id-6\" type=\"checkbox\" ><label for=\"sk-estimator-id-6\" class=\"sk-toggleable__label  sk-toggleable__label-arrow\"><div><div>num</div></div></label><div class=\"sk-toggleable__content \"><pre>[&#x27;Quantity&#x27;, &#x27;UnitPrice&#x27;, &#x27;TotalAmount&#x27;, &#x27;FinalAmount&#x27;, &#x27;CostPrice&#x27;, &#x27;StockQuantity&#x27;, &#x27;ReorderLevel&#x27;, &#x27;SellingPrice&#x27;]</pre></div> </div></div><div class=\"sk-serial\"><div class=\"sk-item\"><div class=\"sk-serial\"><div class=\"sk-item\"><div class=\"sk-estimator  sk-toggleable\"><input class=\"sk-toggleable__control sk-hidden--visually\" id=\"sk-estimator-id-7\" type=\"checkbox\" ><label for=\"sk-estimator-id-7\" class=\"sk-toggleable__label  sk-toggleable__label-arrow\"><div><div>SimpleImputer</div></div><div><a class=\"sk-estimator-doc-link \" rel=\"noreferrer\" target=\"_blank\" href=\"https://scikit-learn.org/1.6/modules/generated/sklearn.impute.SimpleImputer.html\">?<span>Documentation for SimpleImputer</span></a></div></label><div class=\"sk-toggleable__content \"><pre>SimpleImputer()</pre></div> </div></div></div></div></div></div></div><div class=\"sk-parallel-item\"><div class=\"sk-item\"><div class=\"sk-label-container\"><div class=\"sk-label  sk-toggleable\"><input class=\"sk-toggleable__control sk-hidden--visually\" id=\"sk-estimator-id-8\" type=\"checkbox\" ><label for=\"sk-estimator-id-8\" class=\"sk-toggleable__label  sk-toggleable__label-arrow\"><div><div>cat</div></div></label><div class=\"sk-toggleable__content \"><pre>[&#x27;CustomerType&#x27;, &#x27;AgeGroup&#x27;, &#x27;Gender&#x27;, &#x27;Location&#x27;, &#x27;PaymentMethod&#x27;, &#x27;ProductName&#x27;, &#x27;Category&#x27;, &#x27;DiscountPercent&#x27;]</pre></div> </div></div><div class=\"sk-serial\"><div class=\"sk-item\"><div class=\"sk-serial\"><div class=\"sk-item\"><div class=\"sk-estimator  sk-toggleable\"><input class=\"sk-toggleable__control sk-hidden--visually\" id=\"sk-estimator-id-9\" type=\"checkbox\" ><label for=\"sk-estimator-id-9\" class=\"sk-toggleable__label  sk-toggleable__label-arrow\"><div><div>SimpleImputer</div></div><div><a class=\"sk-estimator-doc-link \" rel=\"noreferrer\" target=\"_blank\" href=\"https://scikit-learn.org/1.6/modules/generated/sklearn.impute.SimpleImputer.html\">?<span>Documentation for SimpleImputer</span></a></div></label><div class=\"sk-toggleable__content \"><pre>SimpleImputer(strategy=&#x27;most_frequent&#x27;)</pre></div> </div></div></div></div></div></div></div></div></div></div></div>"
      ],
      "text/plain": [
       "ColumnTransformer(transformers=[('num',\n",
       "                                 Pipeline(steps=[('imputer', SimpleImputer())]),\n",
       "                                 ['Quantity', 'UnitPrice', 'TotalAmount',\n",
       "                                  'FinalAmount', 'CostPrice', 'StockQuantity',\n",
       "                                  'ReorderLevel', 'SellingPrice']),\n",
       "                                ('cat',\n",
       "                                 Pipeline(steps=[('imputer',\n",
       "                                                  SimpleImputer(strategy='most_frequent'))]),\n",
       "                                 ['CustomerType', 'AgeGroup', 'Gender',\n",
       "                                  'Location', 'PaymentMethod', 'ProductName',\n",
       "                                  'Category', 'DiscountPercent'])])"
      ]
     },
     "execution_count": 20,
     "metadata": {},
     "output_type": "execute_result"
    }
   ],
   "source": [
    "# full column transformer\n",
    "preprocessor = ColumnTransformer(transformers=[\n",
    "    ('num', numerical_transformer, num_col),\n",
    "    ('cat', categorical_transformer, cat_col)\n",
    "])\n",
    "\n",
    "preprocessor"
   ]
  },
  {
   "cell_type": "code",
   "execution_count": 21,
   "id": "2bd86c47",
   "metadata": {},
   "outputs": [
    {
     "data": {
      "text/plain": [
       "array([[3.0, 260.28, 780.8399999999999, ..., 'Product Cohk', 'Wellness',\n",
       "        0],\n",
       "       [8.0, 510.17, 4081.36, ..., 'Product jMJW', 'Equipment', 15],\n",
       "       [10.0, 490.52, 4905.2, ..., 'Product zsBG', 'Wellness', 25],\n",
       "       ...,\n",
       "       [7.0, 477.98, 3345.86, ..., 'Product bRXD', 'Prescription', 20],\n",
       "       [6.0, 381.72, 2290.32, ..., 'Product xGOA', 'Equipment', 25],\n",
       "       [4.0, 625.4, 2501.6, ..., 'Product bKnH', 'OTC', 5]],\n",
       "      shape=(90000, 16), dtype=object)"
      ]
     },
     "execution_count": 21,
     "metadata": {},
     "output_type": "execute_result"
    }
   ],
   "source": [
    "# fit and transform the data\n",
    "processed_array = preprocessor.fit_transform(final_df)\n",
    "processed_array"
   ]
  },
  {
   "cell_type": "markdown",
   "id": "b0eb27b8",
   "metadata": {},
   "source": [
    "## **USE it for KPI**\n",
    "Basic columns: \n",
    "* 'Date' *\n",
    "* 'CostPrice' *\n",
    "* 'SellingPrice' * \n",
    "* 'Quantity' *\n",
    "* 'DiscountPercent' * \n",
    "* 'FinalAmount' \n",
    "* 'ProductName' *\n",
    "* 'Category' *\n",
    "* 'CustomerID' *\n",
    "* 'ProductID' *\n",
    "* 'TransactionID' *"
   ]
  },
  {
   "cell_type": "markdown",
   "id": "94488338",
   "metadata": {},
   "source": [
    "Created Imputed Dataframe For KPI"
   ]
  },
  {
   "cell_type": "code",
   "execution_count": 22,
   "id": "72bfe0d2",
   "metadata": {},
   "outputs": [
    {
     "data": {
      "text/html": [
       "<div>\n",
       "<style scoped>\n",
       "    .dataframe tbody tr th:only-of-type {\n",
       "        vertical-align: middle;\n",
       "    }\n",
       "\n",
       "    .dataframe tbody tr th {\n",
       "        vertical-align: top;\n",
       "    }\n",
       "\n",
       "    .dataframe thead th {\n",
       "        text-align: right;\n",
       "    }\n",
       "</style>\n",
       "<table border=\"1\" class=\"dataframe\">\n",
       "  <thead>\n",
       "    <tr style=\"text-align: right;\">\n",
       "      <th></th>\n",
       "      <th>Quantity</th>\n",
       "      <th>UnitPrice</th>\n",
       "      <th>TotalAmount</th>\n",
       "      <th>FinalAmount</th>\n",
       "      <th>CostPrice</th>\n",
       "      <th>StockQuantity</th>\n",
       "      <th>ReorderLevel</th>\n",
       "      <th>SellingPrice</th>\n",
       "      <th>CustomerType</th>\n",
       "      <th>AgeGroup</th>\n",
       "      <th>Gender</th>\n",
       "      <th>Location</th>\n",
       "      <th>PaymentMethod</th>\n",
       "      <th>ProductName</th>\n",
       "      <th>Category</th>\n",
       "      <th>DiscountPercent</th>\n",
       "    </tr>\n",
       "  </thead>\n",
       "  <tbody>\n",
       "    <tr>\n",
       "      <th>0</th>\n",
       "      <td>3.0</td>\n",
       "      <td>260.28</td>\n",
       "      <td>780.84</td>\n",
       "      <td>780.84</td>\n",
       "      <td>181.79</td>\n",
       "      <td>99.0</td>\n",
       "      <td>26.0</td>\n",
       "      <td>260.28</td>\n",
       "      <td>Returning</td>\n",
       "      <td>18-25</td>\n",
       "      <td>Male</td>\n",
       "      <td>Lake Richardberg</td>\n",
       "      <td>UPI</td>\n",
       "      <td>Product Cohk</td>\n",
       "      <td>Wellness</td>\n",
       "      <td>0</td>\n",
       "    </tr>\n",
       "    <tr>\n",
       "      <th>1</th>\n",
       "      <td>8.0</td>\n",
       "      <td>510.17</td>\n",
       "      <td>4081.36</td>\n",
       "      <td>3469.16</td>\n",
       "      <td>436.77</td>\n",
       "      <td>319.0</td>\n",
       "      <td>42.0</td>\n",
       "      <td>510.17</td>\n",
       "      <td>Returning</td>\n",
       "      <td>18-25</td>\n",
       "      <td>Other</td>\n",
       "      <td>Kellychester</td>\n",
       "      <td>Wallet</td>\n",
       "      <td>Product jMJW</td>\n",
       "      <td>Equipment</td>\n",
       "      <td>15</td>\n",
       "    </tr>\n",
       "    <tr>\n",
       "      <th>2</th>\n",
       "      <td>10.0</td>\n",
       "      <td>490.52</td>\n",
       "      <td>4905.2</td>\n",
       "      <td>3678.9</td>\n",
       "      <td>337.36</td>\n",
       "      <td>343.0</td>\n",
       "      <td>43.0</td>\n",
       "      <td>490.52</td>\n",
       "      <td>Returning</td>\n",
       "      <td>18-25</td>\n",
       "      <td>Other</td>\n",
       "      <td>Kellychester</td>\n",
       "      <td>Wallet</td>\n",
       "      <td>Product zsBG</td>\n",
       "      <td>Wellness</td>\n",
       "      <td>25</td>\n",
       "    </tr>\n",
       "    <tr>\n",
       "      <th>3</th>\n",
       "      <td>10.0</td>\n",
       "      <td>514.67</td>\n",
       "      <td>5146.7</td>\n",
       "      <td>4374.7</td>\n",
       "      <td>410.13</td>\n",
       "      <td>451.0</td>\n",
       "      <td>31.0</td>\n",
       "      <td>514.67</td>\n",
       "      <td>New</td>\n",
       "      <td>18-25</td>\n",
       "      <td>Female</td>\n",
       "      <td>Longbury</td>\n",
       "      <td>Cash</td>\n",
       "      <td>Product ipVZ</td>\n",
       "      <td>OTC</td>\n",
       "      <td>15</td>\n",
       "    </tr>\n",
       "    <tr>\n",
       "      <th>4</th>\n",
       "      <td>5.0</td>\n",
       "      <td>533.44</td>\n",
       "      <td>2667.2</td>\n",
       "      <td>2533.84</td>\n",
       "      <td>374.32</td>\n",
       "      <td>423.0</td>\n",
       "      <td>36.0</td>\n",
       "      <td>533.44</td>\n",
       "      <td>New</td>\n",
       "      <td>18-25</td>\n",
       "      <td>Female</td>\n",
       "      <td>Longbury</td>\n",
       "      <td>Wallet</td>\n",
       "      <td>Product usEA</td>\n",
       "      <td>OTC</td>\n",
       "      <td>5</td>\n",
       "    </tr>\n",
       "  </tbody>\n",
       "</table>\n",
       "</div>"
      ],
      "text/plain": [
       "  Quantity UnitPrice TotalAmount FinalAmount CostPrice StockQuantity  \\\n",
       "0      3.0    260.28      780.84      780.84    181.79          99.0   \n",
       "1      8.0    510.17     4081.36     3469.16    436.77         319.0   \n",
       "2     10.0    490.52      4905.2      3678.9    337.36         343.0   \n",
       "3     10.0    514.67      5146.7      4374.7    410.13         451.0   \n",
       "4      5.0    533.44      2667.2     2533.84    374.32         423.0   \n",
       "\n",
       "  ReorderLevel SellingPrice CustomerType AgeGroup  Gender          Location  \\\n",
       "0         26.0       260.28    Returning    18-25    Male  Lake Richardberg   \n",
       "1         42.0       510.17    Returning    18-25   Other      Kellychester   \n",
       "2         43.0       490.52    Returning    18-25   Other      Kellychester   \n",
       "3         31.0       514.67          New    18-25  Female          Longbury   \n",
       "4         36.0       533.44          New    18-25  Female          Longbury   \n",
       "\n",
       "  PaymentMethod   ProductName   Category DiscountPercent  \n",
       "0           UPI  Product Cohk   Wellness               0  \n",
       "1        Wallet  Product jMJW  Equipment              15  \n",
       "2        Wallet  Product zsBG   Wellness              25  \n",
       "3          Cash  Product ipVZ        OTC              15  \n",
       "4        Wallet  Product usEA        OTC               5  "
      ]
     },
     "execution_count": 22,
     "metadata": {},
     "output_type": "execute_result"
    }
   ],
   "source": [
    "# convert to dataframe\n",
    "processed_df = pd.DataFrame(processed_array, columns=num_col + cat_col)\n",
    "processed_df.head()"
   ]
  },
  {
   "cell_type": "code",
   "execution_count": 23,
   "id": "eb7e74d7",
   "metadata": {},
   "outputs": [
    {
     "data": {
      "text/html": [
       "<div>\n",
       "<style scoped>\n",
       "    .dataframe tbody tr th:only-of-type {\n",
       "        vertical-align: middle;\n",
       "    }\n",
       "\n",
       "    .dataframe tbody tr th {\n",
       "        vertical-align: top;\n",
       "    }\n",
       "\n",
       "    .dataframe thead th {\n",
       "        text-align: right;\n",
       "    }\n",
       "</style>\n",
       "<table border=\"1\" class=\"dataframe\">\n",
       "  <thead>\n",
       "    <tr style=\"text-align: right;\">\n",
       "      <th></th>\n",
       "      <th>CustomerID</th>\n",
       "      <th>TransactionID</th>\n",
       "      <th>ProductID</th>\n",
       "      <th>Quantity</th>\n",
       "      <th>UnitPrice</th>\n",
       "      <th>TotalAmount</th>\n",
       "      <th>FinalAmount</th>\n",
       "      <th>CostPrice</th>\n",
       "      <th>StockQuantity</th>\n",
       "      <th>ReorderLevel</th>\n",
       "      <th>...</th>\n",
       "      <th>Gender</th>\n",
       "      <th>Location</th>\n",
       "      <th>PaymentMethod</th>\n",
       "      <th>ProductName</th>\n",
       "      <th>Category</th>\n",
       "      <th>DiscountPercent</th>\n",
       "      <th>DateOfFirstPurchase</th>\n",
       "      <th>LastPurchaseDate</th>\n",
       "      <th>Date</th>\n",
       "      <th>ExpiryDate</th>\n",
       "    </tr>\n",
       "  </thead>\n",
       "  <tbody>\n",
       "    <tr>\n",
       "      <th>0</th>\n",
       "      <td>C00000</td>\n",
       "      <td>T0020173</td>\n",
       "      <td>P0064</td>\n",
       "      <td>3.0</td>\n",
       "      <td>260.28</td>\n",
       "      <td>780.84</td>\n",
       "      <td>780.84</td>\n",
       "      <td>181.79</td>\n",
       "      <td>99.0</td>\n",
       "      <td>26.0</td>\n",
       "      <td>...</td>\n",
       "      <td>Male</td>\n",
       "      <td>Lake Richardberg</td>\n",
       "      <td>UPI</td>\n",
       "      <td>Product Cohk</td>\n",
       "      <td>Wellness</td>\n",
       "      <td>0</td>\n",
       "      <td>2024-02-14</td>\n",
       "      <td>2024-06-07</td>\n",
       "      <td>2025-02-14</td>\n",
       "      <td>2026-11-20</td>\n",
       "    </tr>\n",
       "    <tr>\n",
       "      <th>1</th>\n",
       "      <td>C00001</td>\n",
       "      <td>T0022207</td>\n",
       "      <td>P0805</td>\n",
       "      <td>8.0</td>\n",
       "      <td>510.17</td>\n",
       "      <td>4081.36</td>\n",
       "      <td>3469.16</td>\n",
       "      <td>436.77</td>\n",
       "      <td>319.0</td>\n",
       "      <td>42.0</td>\n",
       "      <td>...</td>\n",
       "      <td>Other</td>\n",
       "      <td>Kellychester</td>\n",
       "      <td>Wallet</td>\n",
       "      <td>Product jMJW</td>\n",
       "      <td>Equipment</td>\n",
       "      <td>15</td>\n",
       "      <td>2023-08-02</td>\n",
       "      <td>2024-07-12</td>\n",
       "      <td>2025-05-05</td>\n",
       "      <td>2026-08-11</td>\n",
       "    </tr>\n",
       "    <tr>\n",
       "      <th>2</th>\n",
       "      <td>C00001</td>\n",
       "      <td>T0033667</td>\n",
       "      <td>P0394</td>\n",
       "      <td>10.0</td>\n",
       "      <td>490.52</td>\n",
       "      <td>4905.2</td>\n",
       "      <td>3678.9</td>\n",
       "      <td>337.36</td>\n",
       "      <td>343.0</td>\n",
       "      <td>43.0</td>\n",
       "      <td>...</td>\n",
       "      <td>Other</td>\n",
       "      <td>Kellychester</td>\n",
       "      <td>Wallet</td>\n",
       "      <td>Product zsBG</td>\n",
       "      <td>Wellness</td>\n",
       "      <td>25</td>\n",
       "      <td>2023-08-02</td>\n",
       "      <td>2024-07-12</td>\n",
       "      <td>2024-11-08</td>\n",
       "      <td>2026-06-28</td>\n",
       "    </tr>\n",
       "    <tr>\n",
       "      <th>3</th>\n",
       "      <td>C00002</td>\n",
       "      <td>T0019925</td>\n",
       "      <td>P0237</td>\n",
       "      <td>10.0</td>\n",
       "      <td>514.67</td>\n",
       "      <td>5146.7</td>\n",
       "      <td>4374.7</td>\n",
       "      <td>410.13</td>\n",
       "      <td>451.0</td>\n",
       "      <td>31.0</td>\n",
       "      <td>...</td>\n",
       "      <td>Female</td>\n",
       "      <td>Longbury</td>\n",
       "      <td>Cash</td>\n",
       "      <td>Product ipVZ</td>\n",
       "      <td>OTC</td>\n",
       "      <td>15</td>\n",
       "      <td>2024-03-29</td>\n",
       "      <td>2024-08-04</td>\n",
       "      <td>2024-12-01</td>\n",
       "      <td>2026-04-03</td>\n",
       "    </tr>\n",
       "    <tr>\n",
       "      <th>4</th>\n",
       "      <td>C00002</td>\n",
       "      <td>T0025197</td>\n",
       "      <td>P0663</td>\n",
       "      <td>5.0</td>\n",
       "      <td>533.44</td>\n",
       "      <td>2667.2</td>\n",
       "      <td>2533.84</td>\n",
       "      <td>374.32</td>\n",
       "      <td>423.0</td>\n",
       "      <td>36.0</td>\n",
       "      <td>...</td>\n",
       "      <td>Female</td>\n",
       "      <td>Longbury</td>\n",
       "      <td>Wallet</td>\n",
       "      <td>Product usEA</td>\n",
       "      <td>OTC</td>\n",
       "      <td>5</td>\n",
       "      <td>2024-03-29</td>\n",
       "      <td>2024-08-04</td>\n",
       "      <td>2024-08-04</td>\n",
       "      <td>2028-02-28</td>\n",
       "    </tr>\n",
       "  </tbody>\n",
       "</table>\n",
       "<p>5 rows × 23 columns</p>\n",
       "</div>"
      ],
      "text/plain": [
       "  CustomerID TransactionID ProductID Quantity UnitPrice TotalAmount  \\\n",
       "0     C00000      T0020173     P0064      3.0    260.28      780.84   \n",
       "1     C00001      T0022207     P0805      8.0    510.17     4081.36   \n",
       "2     C00001      T0033667     P0394     10.0    490.52      4905.2   \n",
       "3     C00002      T0019925     P0237     10.0    514.67      5146.7   \n",
       "4     C00002      T0025197     P0663      5.0    533.44      2667.2   \n",
       "\n",
       "  FinalAmount CostPrice StockQuantity ReorderLevel  ...  Gender  \\\n",
       "0      780.84    181.79          99.0         26.0  ...    Male   \n",
       "1     3469.16    436.77         319.0         42.0  ...   Other   \n",
       "2      3678.9    337.36         343.0         43.0  ...   Other   \n",
       "3      4374.7    410.13         451.0         31.0  ...  Female   \n",
       "4     2533.84    374.32         423.0         36.0  ...  Female   \n",
       "\n",
       "           Location PaymentMethod   ProductName   Category DiscountPercent  \\\n",
       "0  Lake Richardberg           UPI  Product Cohk   Wellness               0   \n",
       "1      Kellychester        Wallet  Product jMJW  Equipment              15   \n",
       "2      Kellychester        Wallet  Product zsBG   Wellness              25   \n",
       "3          Longbury          Cash  Product ipVZ        OTC              15   \n",
       "4          Longbury        Wallet  Product usEA        OTC               5   \n",
       "\n",
       "  DateOfFirstPurchase LastPurchaseDate       Date ExpiryDate  \n",
       "0          2024-02-14       2024-06-07 2025-02-14 2026-11-20  \n",
       "1          2023-08-02       2024-07-12 2025-05-05 2026-08-11  \n",
       "2          2023-08-02       2024-07-12 2024-11-08 2026-06-28  \n",
       "3          2024-03-29       2024-08-04 2024-12-01 2026-04-03  \n",
       "4          2024-03-29       2024-08-04 2024-08-04 2028-02-28  \n",
       "\n",
       "[5 rows x 23 columns]"
      ]
     },
     "execution_count": 23,
     "metadata": {},
     "output_type": "execute_result"
    }
   ],
   "source": [
    "# add the id columns\n",
    "processed_final_df = pd.concat([final_df[id_col].reset_index(drop=True), processed_df], axis=1)\n",
    "processed_final_df = pd.concat([processed_final_df, final_df[datetime_list].reset_index(drop=True)], axis=1)\n",
    "processed_final_df.head()"
   ]
  },
  {
   "cell_type": "code",
   "execution_count": 24,
   "id": "b0899c49",
   "metadata": {},
   "outputs": [
    {
     "data": {
      "text/plain": [
       "Index(['CustomerID', 'TransactionID', 'ProductID', 'Quantity', 'UnitPrice',\n",
       "       'TotalAmount', 'FinalAmount', 'CostPrice', 'StockQuantity',\n",
       "       'ReorderLevel', 'SellingPrice', 'CustomerType', 'AgeGroup', 'Gender',\n",
       "       'Location', 'PaymentMethod', 'ProductName', 'Category',\n",
       "       'DiscountPercent', 'DateOfFirstPurchase', 'LastPurchaseDate', 'Date',\n",
       "       'ExpiryDate'],\n",
       "      dtype='object')"
      ]
     },
     "execution_count": 24,
     "metadata": {},
     "output_type": "execute_result"
    }
   ],
   "source": [
    "processed_final_df.columns"
   ]
  },
  {
   "cell_type": "code",
   "execution_count": 25,
   "id": "d32da6d8",
   "metadata": {},
   "outputs": [
    {
     "data": {
      "text/html": [
       "<div>\n",
       "<style scoped>\n",
       "    .dataframe tbody tr th:only-of-type {\n",
       "        vertical-align: middle;\n",
       "    }\n",
       "\n",
       "    .dataframe tbody tr th {\n",
       "        vertical-align: top;\n",
       "    }\n",
       "\n",
       "    .dataframe thead th {\n",
       "        text-align: right;\n",
       "    }\n",
       "</style>\n",
       "<table border=\"1\" class=\"dataframe\">\n",
       "  <thead>\n",
       "    <tr style=\"text-align: right;\">\n",
       "      <th></th>\n",
       "      <th>CustomerID</th>\n",
       "      <th>TransactionID</th>\n",
       "      <th>ProductID</th>\n",
       "      <th>Quantity</th>\n",
       "      <th>UnitPrice</th>\n",
       "      <th>TotalAmount</th>\n",
       "      <th>FinalAmount</th>\n",
       "      <th>CostPrice</th>\n",
       "      <th>StockQuantity</th>\n",
       "      <th>ReorderLevel</th>\n",
       "      <th>...</th>\n",
       "      <th>Gender</th>\n",
       "      <th>Location</th>\n",
       "      <th>PaymentMethod</th>\n",
       "      <th>ProductName</th>\n",
       "      <th>Category</th>\n",
       "      <th>DiscountPercent</th>\n",
       "      <th>DateOfFirstPurchase</th>\n",
       "      <th>LastPurchaseDate</th>\n",
       "      <th>Date</th>\n",
       "      <th>ExpiryDate</th>\n",
       "    </tr>\n",
       "  </thead>\n",
       "  <tbody>\n",
       "    <tr>\n",
       "      <th>0</th>\n",
       "      <td>C00000</td>\n",
       "      <td>T0020173</td>\n",
       "      <td>P0064</td>\n",
       "      <td>3.0</td>\n",
       "      <td>260.28</td>\n",
       "      <td>780.84</td>\n",
       "      <td>780.84</td>\n",
       "      <td>181.79</td>\n",
       "      <td>99.0</td>\n",
       "      <td>26.0</td>\n",
       "      <td>...</td>\n",
       "      <td>Male</td>\n",
       "      <td>Lake Richardberg</td>\n",
       "      <td>UPI</td>\n",
       "      <td>Product Cohk</td>\n",
       "      <td>Wellness</td>\n",
       "      <td>0</td>\n",
       "      <td>2024-02-14</td>\n",
       "      <td>2024-06-07</td>\n",
       "      <td>2025-02-14</td>\n",
       "      <td>2026-11-20</td>\n",
       "    </tr>\n",
       "    <tr>\n",
       "      <th>1</th>\n",
       "      <td>C00001</td>\n",
       "      <td>T0022207</td>\n",
       "      <td>P0805</td>\n",
       "      <td>8.0</td>\n",
       "      <td>510.17</td>\n",
       "      <td>4081.36</td>\n",
       "      <td>3469.16</td>\n",
       "      <td>436.77</td>\n",
       "      <td>319.0</td>\n",
       "      <td>42.0</td>\n",
       "      <td>...</td>\n",
       "      <td>Other</td>\n",
       "      <td>Kellychester</td>\n",
       "      <td>Wallet</td>\n",
       "      <td>Product jMJW</td>\n",
       "      <td>Equipment</td>\n",
       "      <td>15</td>\n",
       "      <td>2023-08-02</td>\n",
       "      <td>2024-07-12</td>\n",
       "      <td>2025-05-05</td>\n",
       "      <td>2026-08-11</td>\n",
       "    </tr>\n",
       "    <tr>\n",
       "      <th>2</th>\n",
       "      <td>C00001</td>\n",
       "      <td>T0033667</td>\n",
       "      <td>P0394</td>\n",
       "      <td>10.0</td>\n",
       "      <td>490.52</td>\n",
       "      <td>4905.2</td>\n",
       "      <td>3678.9</td>\n",
       "      <td>337.36</td>\n",
       "      <td>343.0</td>\n",
       "      <td>43.0</td>\n",
       "      <td>...</td>\n",
       "      <td>Other</td>\n",
       "      <td>Kellychester</td>\n",
       "      <td>Wallet</td>\n",
       "      <td>Product zsBG</td>\n",
       "      <td>Wellness</td>\n",
       "      <td>25</td>\n",
       "      <td>2023-08-02</td>\n",
       "      <td>2024-07-12</td>\n",
       "      <td>2024-11-08</td>\n",
       "      <td>2026-06-28</td>\n",
       "    </tr>\n",
       "    <tr>\n",
       "      <th>3</th>\n",
       "      <td>C00002</td>\n",
       "      <td>T0019925</td>\n",
       "      <td>P0237</td>\n",
       "      <td>10.0</td>\n",
       "      <td>514.67</td>\n",
       "      <td>5146.7</td>\n",
       "      <td>4374.7</td>\n",
       "      <td>410.13</td>\n",
       "      <td>451.0</td>\n",
       "      <td>31.0</td>\n",
       "      <td>...</td>\n",
       "      <td>Female</td>\n",
       "      <td>Longbury</td>\n",
       "      <td>Cash</td>\n",
       "      <td>Product ipVZ</td>\n",
       "      <td>OTC</td>\n",
       "      <td>15</td>\n",
       "      <td>2024-03-29</td>\n",
       "      <td>2024-08-04</td>\n",
       "      <td>2024-12-01</td>\n",
       "      <td>2026-04-03</td>\n",
       "    </tr>\n",
       "    <tr>\n",
       "      <th>4</th>\n",
       "      <td>C00002</td>\n",
       "      <td>T0025197</td>\n",
       "      <td>P0663</td>\n",
       "      <td>5.0</td>\n",
       "      <td>533.44</td>\n",
       "      <td>2667.2</td>\n",
       "      <td>2533.84</td>\n",
       "      <td>374.32</td>\n",
       "      <td>423.0</td>\n",
       "      <td>36.0</td>\n",
       "      <td>...</td>\n",
       "      <td>Female</td>\n",
       "      <td>Longbury</td>\n",
       "      <td>Wallet</td>\n",
       "      <td>Product usEA</td>\n",
       "      <td>OTC</td>\n",
       "      <td>5</td>\n",
       "      <td>2024-03-29</td>\n",
       "      <td>2024-08-04</td>\n",
       "      <td>2024-08-04</td>\n",
       "      <td>2028-02-28</td>\n",
       "    </tr>\n",
       "  </tbody>\n",
       "</table>\n",
       "<p>5 rows × 23 columns</p>\n",
       "</div>"
      ],
      "text/plain": [
       "  CustomerID TransactionID ProductID Quantity UnitPrice TotalAmount  \\\n",
       "0     C00000      T0020173     P0064      3.0    260.28      780.84   \n",
       "1     C00001      T0022207     P0805      8.0    510.17     4081.36   \n",
       "2     C00001      T0033667     P0394     10.0    490.52      4905.2   \n",
       "3     C00002      T0019925     P0237     10.0    514.67      5146.7   \n",
       "4     C00002      T0025197     P0663      5.0    533.44      2667.2   \n",
       "\n",
       "  FinalAmount CostPrice StockQuantity ReorderLevel  ...  Gender  \\\n",
       "0      780.84    181.79          99.0         26.0  ...    Male   \n",
       "1     3469.16    436.77         319.0         42.0  ...   Other   \n",
       "2      3678.9    337.36         343.0         43.0  ...   Other   \n",
       "3      4374.7    410.13         451.0         31.0  ...  Female   \n",
       "4     2533.84    374.32         423.0         36.0  ...  Female   \n",
       "\n",
       "           Location PaymentMethod   ProductName   Category DiscountPercent  \\\n",
       "0  Lake Richardberg           UPI  Product Cohk   Wellness               0   \n",
       "1      Kellychester        Wallet  Product jMJW  Equipment              15   \n",
       "2      Kellychester        Wallet  Product zsBG   Wellness              25   \n",
       "3          Longbury          Cash  Product ipVZ        OTC              15   \n",
       "4          Longbury        Wallet  Product usEA        OTC               5   \n",
       "\n",
       "  DateOfFirstPurchase LastPurchaseDate       Date ExpiryDate  \n",
       "0          2024-02-14       2024-06-07 2025-02-14 2026-11-20  \n",
       "1          2023-08-02       2024-07-12 2025-05-05 2026-08-11  \n",
       "2          2023-08-02       2024-07-12 2024-11-08 2026-06-28  \n",
       "3          2024-03-29       2024-08-04 2024-12-01 2026-04-03  \n",
       "4          2024-03-29       2024-08-04 2024-08-04 2028-02-28  \n",
       "\n",
       "[5 rows x 23 columns]"
      ]
     },
     "execution_count": 25,
     "metadata": {},
     "output_type": "execute_result"
    }
   ],
   "source": [
    "processed_final_df.head()"
   ]
  },
  {
   "cell_type": "code",
   "execution_count": 26,
   "id": "d9c261ee",
   "metadata": {},
   "outputs": [
    {
     "name": "stdout",
     "output_type": "stream",
     "text": [
      "<class 'pandas.core.frame.DataFrame'>\n",
      "RangeIndex: 90000 entries, 0 to 89999\n",
      "Data columns (total 23 columns):\n",
      " #   Column               Non-Null Count  Dtype         \n",
      "---  ------               --------------  -----         \n",
      " 0   CustomerID           90000 non-null  object        \n",
      " 1   TransactionID        90000 non-null  object        \n",
      " 2   ProductID            90000 non-null  object        \n",
      " 3   Quantity             90000 non-null  object        \n",
      " 4   UnitPrice            90000 non-null  object        \n",
      " 5   TotalAmount          90000 non-null  object        \n",
      " 6   FinalAmount          90000 non-null  object        \n",
      " 7   CostPrice            90000 non-null  object        \n",
      " 8   StockQuantity        90000 non-null  object        \n",
      " 9   ReorderLevel         90000 non-null  object        \n",
      " 10  SellingPrice         90000 non-null  object        \n",
      " 11  CustomerType         90000 non-null  object        \n",
      " 12  AgeGroup             90000 non-null  object        \n",
      " 13  Gender               90000 non-null  object        \n",
      " 14  Location             90000 non-null  object        \n",
      " 15  PaymentMethod        90000 non-null  object        \n",
      " 16  ProductName          90000 non-null  object        \n",
      " 17  Category             90000 non-null  object        \n",
      " 18  DiscountPercent      90000 non-null  object        \n",
      " 19  DateOfFirstPurchase  90000 non-null  datetime64[ns]\n",
      " 20  LastPurchaseDate     90000 non-null  datetime64[ns]\n",
      " 21  Date                 90000 non-null  datetime64[ns]\n",
      " 22  ExpiryDate           90000 non-null  datetime64[ns]\n",
      "dtypes: datetime64[ns](4), object(19)\n",
      "memory usage: 15.8+ MB\n"
     ]
    }
   ],
   "source": [
    "processed_final_df.info()"
   ]
  },
  {
   "cell_type": "markdown",
   "id": "51663067",
   "metadata": {},
   "source": [
    "#### **Create Date Range**"
   ]
  },
  {
   "cell_type": "code",
   "execution_count": 27,
   "id": "54792884",
   "metadata": {},
   "outputs": [
    {
     "name": "stdout",
     "output_type": "stream",
     "text": [
      "2025-01-01 00:00:00\n",
      "2026-05-01 00:00:00\n"
     ]
    }
   ],
   "source": [
    "start_date_tuple = pd.to_datetime(\"2025-1-1\")\n",
    "end_date_tuple = pd.to_datetime(\"2026-5-1\")\n",
    "start_date = pd.to_datetime(start_date_tuple)\n",
    "end_date = pd.to_datetime(end_date_tuple)\n",
    "print(start_date)\n",
    "print(end_date)"
   ]
  },
  {
   "cell_type": "code",
   "execution_count": 28,
   "id": "d83d99b3",
   "metadata": {},
   "outputs": [],
   "source": [
    "mask = ((processed_final_df['Date'] >= start_date) & (processed_final_df['Date'] <= end_date))\n",
    "filtered_df = processed_final_df[mask]"
   ]
  },
  {
   "cell_type": "code",
   "execution_count": null,
   "id": "96cc3a22",
   "metadata": {},
   "outputs": [],
   "source": []
  },
  {
   "cell_type": "markdown",
   "id": "ed0e0b47",
   "metadata": {},
   "source": [
    "#### Total Sales"
   ]
  },
  {
   "cell_type": "code",
   "execution_count": 29,
   "id": "2ea2dc4a",
   "metadata": {},
   "outputs": [
    {
     "name": "stdout",
     "output_type": "stream",
     "text": [
      "Total Sales: 24048239.37999983\n"
     ]
    }
   ],
   "source": [
    "# 'FinalAmount', 'SellingPrice', 'Discount', 'Quantity'\n",
    "if 'FinalAmount' in filtered_df.columns:\n",
    "    total_sales = filtered_df['FinalAmount'].sum()\n",
    "    print(f\"Total Sales: {total_sales}\")\n",
    "elif 'SellingPrice' in filtered_df.columns and 'Discount' in filtered_df.columns:\n",
    "    # Calculate total sales based on SellingPrice and Discount\n",
    "    total_sales = (filtered_df['Quantity'] * filtered_df['SellingPrice']) - (filtered_df['Quantity'] * filtered_df['SellingPrice'] * filtered_df['Discount'] / 100).sum()\n",
    "    \n",
    "    print(f\"Total sales: {total_sales}\")"
   ]
  },
  {
   "cell_type": "markdown",
   "id": "d7eabc59",
   "metadata": {},
   "source": [
    "#### Gross Profit Margin"
   ]
  },
  {
   "cell_type": "code",
   "execution_count": 30,
   "id": "8554c200",
   "metadata": {},
   "outputs": [
    {
     "name": "stdout",
     "output_type": "stream",
     "text": [
      "Gross Profit: 2450689.5199997984\n",
      "Gross Profit Margin (in percentage): 10.19%\n"
     ]
    }
   ],
   "source": [
    "# 'FinalAmount', 'CostPrice', 'Quantity'\n",
    "gross_profit = filtered_df['FinalAmount'].sum() - (filtered_df['Quantity'] * filtered_df['CostPrice']).sum()\n",
    "print(f\"Gross Profit: {gross_profit}\")\n",
    "gross_profit_margin = gross_profit / filtered_df['FinalAmount'].sum() * 100\n",
    "\n",
    "print(f\"Gross Profit Margin (in percentage): {gross_profit_margin:.2f}%\")"
   ]
  },
  {
   "cell_type": "markdown",
   "id": "85aad704",
   "metadata": {},
   "source": [
    "#### Total Customers"
   ]
  },
  {
   "cell_type": "code",
   "execution_count": 31,
   "id": "ba38cecf",
   "metadata": {},
   "outputs": [
    {
     "name": "stdout",
     "output_type": "stream",
     "text": [
      "Total Customers: 13392\n"
     ]
    }
   ],
   "source": [
    "# 'CustomerID\n",
    "total_customers = filtered_df['CustomerID'].nunique()\n",
    "\n",
    "print(f\"Total Customers: {total_customers}\")"
   ]
  },
  {
   "cell_type": "markdown",
   "id": "ee1270aa",
   "metadata": {},
   "source": [
    "#### Customer Frequency"
   ]
  },
  {
   "cell_type": "code",
   "execution_count": 32,
   "id": "2e3a340d",
   "metadata": {},
   "outputs": [
    {
     "name": "stdout",
     "output_type": "stream",
     "text": [
      "Customer Frequency: 1.16 orders/customer\n"
     ]
    }
   ],
   "source": [
    "# 'TransactionID', 'CustomerID'\n",
    "# customer_frequency = Total Orders / Unique Customers\n",
    "customer_frequency = filtered_df['TransactionID'].nunique() / filtered_df['CustomerID'].nunique()\n",
    "\n",
    "print(f\"Customer Frequency: {customer_frequency:.2f} orders/customer\")"
   ]
  },
  {
   "cell_type": "markdown",
   "id": "c72d6b74",
   "metadata": {},
   "source": [
    "#### Average Order Value"
   ]
  },
  {
   "cell_type": "code",
   "execution_count": 33,
   "id": "2575decc",
   "metadata": {},
   "outputs": [
    {
     "name": "stdout",
     "output_type": "stream",
     "text": [
      "Average Order Value: 1554.96\n"
     ]
    }
   ],
   "source": [
    "# 'FinalAmount', 'TransactionID'\n",
    "average_order_value = processed_final_df['FinalAmount'].sum() / processed_final_df['TransactionID'].nunique()\n",
    "print(f\"Average Order Value: {average_order_value:.2f}\")"
   ]
  },
  {
   "cell_type": "markdown",
   "id": "f2cc4d97",
   "metadata": {},
   "source": [
    "## **GRAPHICAL ANALYTICS**"
   ]
  },
  {
   "cell_type": "markdown",
   "id": "b48479c7",
   "metadata": {},
   "source": [
    "TRENDLINE OF TOTAL SALES"
   ]
  },
  {
   "cell_type": "code",
   "execution_count": 34,
   "id": "2463a569",
   "metadata": {},
   "outputs": [],
   "source": [
    "# create filtered dataframes for different time periods\n",
    "# get today's time\n",
    "today = pd.Timestamp.today()\n",
    "\n",
    "if \"Date\" not in processed_final_df.columns:\n",
    "    print(\"Missing 'Date' column. Graphs may not render correctly.\")\n",
    "    processed_final_df[\"Date\"] = pd.NaT\n",
    "\n",
    "processed_final_df[\"Date\"] = pd.to_datetime(processed_final_df[\"Date\"], errors='coerce')\n",
    "\n",
    "# Filter for current year\n",
    "yearly_data = processed_final_df[processed_final_df[\"Date\"].dt.year == today.year]\n",
    "\n",
    "# Filter for current quarter\n",
    "quarterly_data = yearly_data[\n",
    "    yearly_data[\"Date\"].dt.quarter == today.quarter\n",
    "    ]\n",
    "\n",
    "\n",
    "# Filter for current month\n",
    "monthly_data = quarterly_data[quarterly_data[\"Date\"].dt.month == today.month]\n",
    "\n",
    "# Filter for current week (by weekday) — this line is incorrect in your version\n",
    "# Fix: Use `.dt.weekday` instead of `.dt.month` for comparison with `self.today.weekday()`\n",
    "start_of_week = today - pd.Timedelta(days=today.weekday())\n",
    "end_of_week = start_of_week + pd.Timedelta(days=6)\n",
    "\n",
    "weekly_data = processed_final_df[\n",
    "    (processed_final_df[\"Date\"] >= start_of_week) &\n",
    "    (processed_final_df[\"Date\"] <= end_of_week)\n",
    "    ]\n",
    "\n",
    "# Filter for current day\n",
    "daily_data = monthly_data[monthly_data[\"Date\"].dt.day == today.day]"
   ]
  },
  {
   "cell_type": "code",
   "execution_count": 35,
   "id": "ffd43731",
   "metadata": {},
   "outputs": [
    {
     "data": {
      "text/plain": [
       "Series([], Name: Date, dtype: datetime64[ns])"
      ]
     },
     "execution_count": 35,
     "metadata": {},
     "output_type": "execute_result"
    }
   ],
   "source": [
    "daily_data['Date']"
   ]
  },
  {
   "cell_type": "code",
   "execution_count": 36,
   "id": "21201dbc",
   "metadata": {},
   "outputs": [
    {
     "data": {
      "text/plain": [
       "Series([], Name: Date, dtype: datetime64[ns])"
      ]
     },
     "execution_count": 36,
     "metadata": {},
     "output_type": "execute_result"
    }
   ],
   "source": [
    "weekly_data['Date']"
   ]
  },
  {
   "cell_type": "code",
   "execution_count": 37,
   "id": "8731044e",
   "metadata": {},
   "outputs": [
    {
     "data": {
      "text/plain": [
       "1       2025-05-05\n",
       "352     2025-05-04\n",
       "472     2025-05-01\n",
       "565     2025-05-02\n",
       "598     2025-05-01\n",
       "           ...    \n",
       "89832   2025-05-06\n",
       "89858   2025-05-01\n",
       "89903   2025-05-04\n",
       "89932   2025-05-04\n",
       "89980   2025-05-06\n",
       "Name: Date, Length: 877, dtype: datetime64[ns]"
      ]
     },
     "execution_count": 37,
     "metadata": {},
     "output_type": "execute_result"
    }
   ],
   "source": [
    "monthly_data['Date']"
   ]
  },
  {
   "cell_type": "code",
   "execution_count": 38,
   "id": "e44c5e6c",
   "metadata": {},
   "outputs": [
    {
     "data": {
      "text/plain": [
       "1       2025-05-05\n",
       "20      2025-04-27\n",
       "31      2025-04-19\n",
       "67      2025-04-25\n",
       "83      2025-04-08\n",
       "           ...    \n",
       "89967   2025-04-25\n",
       "89972   2025-04-06\n",
       "89980   2025-05-06\n",
       "89990   2025-04-12\n",
       "89995   2025-04-14\n",
       "Name: Date, Length: 4578, dtype: datetime64[ns]"
      ]
     },
     "execution_count": 38,
     "metadata": {},
     "output_type": "execute_result"
    }
   ],
   "source": [
    "quarterly_data['Date']"
   ]
  },
  {
   "cell_type": "code",
   "execution_count": 39,
   "id": "bc3cf22a",
   "metadata": {},
   "outputs": [
    {
     "data": {
      "text/plain": [
       "0       2025-02-14\n",
       "1       2025-05-05\n",
       "7       2025-03-18\n",
       "9       2025-03-20\n",
       "17      2025-01-02\n",
       "           ...    \n",
       "89974   2025-01-21\n",
       "89979   2025-03-23\n",
       "89980   2025-05-06\n",
       "89990   2025-04-12\n",
       "89995   2025-04-14\n",
       "Name: Date, Length: 15539, dtype: datetime64[ns]"
      ]
     },
     "execution_count": 39,
     "metadata": {},
     "output_type": "execute_result"
    }
   ],
   "source": [
    "yearly_data['Date']"
   ]
  },
  {
   "cell_type": "code",
   "execution_count": 40,
   "id": "43224d7b",
   "metadata": {},
   "outputs": [
    {
     "data": {
      "application/vnd.plotly.v1+json": {
       "config": {
        "plotlyServerURL": "https://plot.ly"
       },
       "data": [
        {
         "hovertemplate": "Date=%{x}<br>Total Sales=%{y}<extra></extra>",
         "legendgroup": "",
         "line": {
          "color": "#636efa",
          "dash": "solid"
         },
         "marker": {
          "symbol": "circle"
         },
         "mode": "lines+markers",
         "name": "",
         "orientation": "v",
         "showlegend": false,
         "type": "scatter",
         "x": [
          "2025-01-01T00:00:00.000000000",
          "2025-02-01T00:00:00.000000000",
          "2025-03-01T00:00:00.000000000",
          "2025-04-01T00:00:00.000000000",
          "2025-05-01T00:00:00.000000000"
         ],
         "xaxis": "x",
         "y": [
          5718705.220000003,
          5340487.050000003,
          5918970.550000005,
          5676848.179999997,
          1393228.379999999
         ],
         "yaxis": "y"
        }
       ],
       "layout": {
        "legend": {
         "tracegroupgap": 0
        },
        "template": {
         "data": {
          "bar": [
           {
            "error_x": {
             "color": "#2a3f5f"
            },
            "error_y": {
             "color": "#2a3f5f"
            },
            "marker": {
             "line": {
              "color": "#E5ECF6",
              "width": 0.5
             },
             "pattern": {
              "fillmode": "overlay",
              "size": 10,
              "solidity": 0.2
             }
            },
            "type": "bar"
           }
          ],
          "barpolar": [
           {
            "marker": {
             "line": {
              "color": "#E5ECF6",
              "width": 0.5
             },
             "pattern": {
              "fillmode": "overlay",
              "size": 10,
              "solidity": 0.2
             }
            },
            "type": "barpolar"
           }
          ],
          "carpet": [
           {
            "aaxis": {
             "endlinecolor": "#2a3f5f",
             "gridcolor": "white",
             "linecolor": "white",
             "minorgridcolor": "white",
             "startlinecolor": "#2a3f5f"
            },
            "baxis": {
             "endlinecolor": "#2a3f5f",
             "gridcolor": "white",
             "linecolor": "white",
             "minorgridcolor": "white",
             "startlinecolor": "#2a3f5f"
            },
            "type": "carpet"
           }
          ],
          "choropleth": [
           {
            "colorbar": {
             "outlinewidth": 0,
             "ticks": ""
            },
            "type": "choropleth"
           }
          ],
          "contour": [
           {
            "colorbar": {
             "outlinewidth": 0,
             "ticks": ""
            },
            "colorscale": [
             [
              0,
              "#0d0887"
             ],
             [
              0.1111111111111111,
              "#46039f"
             ],
             [
              0.2222222222222222,
              "#7201a8"
             ],
             [
              0.3333333333333333,
              "#9c179e"
             ],
             [
              0.4444444444444444,
              "#bd3786"
             ],
             [
              0.5555555555555556,
              "#d8576b"
             ],
             [
              0.6666666666666666,
              "#ed7953"
             ],
             [
              0.7777777777777778,
              "#fb9f3a"
             ],
             [
              0.8888888888888888,
              "#fdca26"
             ],
             [
              1,
              "#f0f921"
             ]
            ],
            "type": "contour"
           }
          ],
          "contourcarpet": [
           {
            "colorbar": {
             "outlinewidth": 0,
             "ticks": ""
            },
            "type": "contourcarpet"
           }
          ],
          "heatmap": [
           {
            "colorbar": {
             "outlinewidth": 0,
             "ticks": ""
            },
            "colorscale": [
             [
              0,
              "#0d0887"
             ],
             [
              0.1111111111111111,
              "#46039f"
             ],
             [
              0.2222222222222222,
              "#7201a8"
             ],
             [
              0.3333333333333333,
              "#9c179e"
             ],
             [
              0.4444444444444444,
              "#bd3786"
             ],
             [
              0.5555555555555556,
              "#d8576b"
             ],
             [
              0.6666666666666666,
              "#ed7953"
             ],
             [
              0.7777777777777778,
              "#fb9f3a"
             ],
             [
              0.8888888888888888,
              "#fdca26"
             ],
             [
              1,
              "#f0f921"
             ]
            ],
            "type": "heatmap"
           }
          ],
          "histogram": [
           {
            "marker": {
             "pattern": {
              "fillmode": "overlay",
              "size": 10,
              "solidity": 0.2
             }
            },
            "type": "histogram"
           }
          ],
          "histogram2d": [
           {
            "colorbar": {
             "outlinewidth": 0,
             "ticks": ""
            },
            "colorscale": [
             [
              0,
              "#0d0887"
             ],
             [
              0.1111111111111111,
              "#46039f"
             ],
             [
              0.2222222222222222,
              "#7201a8"
             ],
             [
              0.3333333333333333,
              "#9c179e"
             ],
             [
              0.4444444444444444,
              "#bd3786"
             ],
             [
              0.5555555555555556,
              "#d8576b"
             ],
             [
              0.6666666666666666,
              "#ed7953"
             ],
             [
              0.7777777777777778,
              "#fb9f3a"
             ],
             [
              0.8888888888888888,
              "#fdca26"
             ],
             [
              1,
              "#f0f921"
             ]
            ],
            "type": "histogram2d"
           }
          ],
          "histogram2dcontour": [
           {
            "colorbar": {
             "outlinewidth": 0,
             "ticks": ""
            },
            "colorscale": [
             [
              0,
              "#0d0887"
             ],
             [
              0.1111111111111111,
              "#46039f"
             ],
             [
              0.2222222222222222,
              "#7201a8"
             ],
             [
              0.3333333333333333,
              "#9c179e"
             ],
             [
              0.4444444444444444,
              "#bd3786"
             ],
             [
              0.5555555555555556,
              "#d8576b"
             ],
             [
              0.6666666666666666,
              "#ed7953"
             ],
             [
              0.7777777777777778,
              "#fb9f3a"
             ],
             [
              0.8888888888888888,
              "#fdca26"
             ],
             [
              1,
              "#f0f921"
             ]
            ],
            "type": "histogram2dcontour"
           }
          ],
          "mesh3d": [
           {
            "colorbar": {
             "outlinewidth": 0,
             "ticks": ""
            },
            "type": "mesh3d"
           }
          ],
          "parcoords": [
           {
            "line": {
             "colorbar": {
              "outlinewidth": 0,
              "ticks": ""
             }
            },
            "type": "parcoords"
           }
          ],
          "pie": [
           {
            "automargin": true,
            "type": "pie"
           }
          ],
          "scatter": [
           {
            "fillpattern": {
             "fillmode": "overlay",
             "size": 10,
             "solidity": 0.2
            },
            "type": "scatter"
           }
          ],
          "scatter3d": [
           {
            "line": {
             "colorbar": {
              "outlinewidth": 0,
              "ticks": ""
             }
            },
            "marker": {
             "colorbar": {
              "outlinewidth": 0,
              "ticks": ""
             }
            },
            "type": "scatter3d"
           }
          ],
          "scattercarpet": [
           {
            "marker": {
             "colorbar": {
              "outlinewidth": 0,
              "ticks": ""
             }
            },
            "type": "scattercarpet"
           }
          ],
          "scattergeo": [
           {
            "marker": {
             "colorbar": {
              "outlinewidth": 0,
              "ticks": ""
             }
            },
            "type": "scattergeo"
           }
          ],
          "scattergl": [
           {
            "marker": {
             "colorbar": {
              "outlinewidth": 0,
              "ticks": ""
             }
            },
            "type": "scattergl"
           }
          ],
          "scattermap": [
           {
            "marker": {
             "colorbar": {
              "outlinewidth": 0,
              "ticks": ""
             }
            },
            "type": "scattermap"
           }
          ],
          "scattermapbox": [
           {
            "marker": {
             "colorbar": {
              "outlinewidth": 0,
              "ticks": ""
             }
            },
            "type": "scattermapbox"
           }
          ],
          "scatterpolar": [
           {
            "marker": {
             "colorbar": {
              "outlinewidth": 0,
              "ticks": ""
             }
            },
            "type": "scatterpolar"
           }
          ],
          "scatterpolargl": [
           {
            "marker": {
             "colorbar": {
              "outlinewidth": 0,
              "ticks": ""
             }
            },
            "type": "scatterpolargl"
           }
          ],
          "scatterternary": [
           {
            "marker": {
             "colorbar": {
              "outlinewidth": 0,
              "ticks": ""
             }
            },
            "type": "scatterternary"
           }
          ],
          "surface": [
           {
            "colorbar": {
             "outlinewidth": 0,
             "ticks": ""
            },
            "colorscale": [
             [
              0,
              "#0d0887"
             ],
             [
              0.1111111111111111,
              "#46039f"
             ],
             [
              0.2222222222222222,
              "#7201a8"
             ],
             [
              0.3333333333333333,
              "#9c179e"
             ],
             [
              0.4444444444444444,
              "#bd3786"
             ],
             [
              0.5555555555555556,
              "#d8576b"
             ],
             [
              0.6666666666666666,
              "#ed7953"
             ],
             [
              0.7777777777777778,
              "#fb9f3a"
             ],
             [
              0.8888888888888888,
              "#fdca26"
             ],
             [
              1,
              "#f0f921"
             ]
            ],
            "type": "surface"
           }
          ],
          "table": [
           {
            "cells": {
             "fill": {
              "color": "#EBF0F8"
             },
             "line": {
              "color": "white"
             }
            },
            "header": {
             "fill": {
              "color": "#C8D4E3"
             },
             "line": {
              "color": "white"
             }
            },
            "type": "table"
           }
          ]
         },
         "layout": {
          "annotationdefaults": {
           "arrowcolor": "#2a3f5f",
           "arrowhead": 0,
           "arrowwidth": 1
          },
          "autotypenumbers": "strict",
          "coloraxis": {
           "colorbar": {
            "outlinewidth": 0,
            "ticks": ""
           }
          },
          "colorscale": {
           "diverging": [
            [
             0,
             "#8e0152"
            ],
            [
             0.1,
             "#c51b7d"
            ],
            [
             0.2,
             "#de77ae"
            ],
            [
             0.3,
             "#f1b6da"
            ],
            [
             0.4,
             "#fde0ef"
            ],
            [
             0.5,
             "#f7f7f7"
            ],
            [
             0.6,
             "#e6f5d0"
            ],
            [
             0.7,
             "#b8e186"
            ],
            [
             0.8,
             "#7fbc41"
            ],
            [
             0.9,
             "#4d9221"
            ],
            [
             1,
             "#276419"
            ]
           ],
           "sequential": [
            [
             0,
             "#0d0887"
            ],
            [
             0.1111111111111111,
             "#46039f"
            ],
            [
             0.2222222222222222,
             "#7201a8"
            ],
            [
             0.3333333333333333,
             "#9c179e"
            ],
            [
             0.4444444444444444,
             "#bd3786"
            ],
            [
             0.5555555555555556,
             "#d8576b"
            ],
            [
             0.6666666666666666,
             "#ed7953"
            ],
            [
             0.7777777777777778,
             "#fb9f3a"
            ],
            [
             0.8888888888888888,
             "#fdca26"
            ],
            [
             1,
             "#f0f921"
            ]
           ],
           "sequentialminus": [
            [
             0,
             "#0d0887"
            ],
            [
             0.1111111111111111,
             "#46039f"
            ],
            [
             0.2222222222222222,
             "#7201a8"
            ],
            [
             0.3333333333333333,
             "#9c179e"
            ],
            [
             0.4444444444444444,
             "#bd3786"
            ],
            [
             0.5555555555555556,
             "#d8576b"
            ],
            [
             0.6666666666666666,
             "#ed7953"
            ],
            [
             0.7777777777777778,
             "#fb9f3a"
            ],
            [
             0.8888888888888888,
             "#fdca26"
            ],
            [
             1,
             "#f0f921"
            ]
           ]
          },
          "colorway": [
           "#636efa",
           "#EF553B",
           "#00cc96",
           "#ab63fa",
           "#FFA15A",
           "#19d3f3",
           "#FF6692",
           "#B6E880",
           "#FF97FF",
           "#FECB52"
          ],
          "font": {
           "color": "#2a3f5f"
          },
          "geo": {
           "bgcolor": "white",
           "lakecolor": "white",
           "landcolor": "#E5ECF6",
           "showlakes": true,
           "showland": true,
           "subunitcolor": "white"
          },
          "hoverlabel": {
           "align": "left"
          },
          "hovermode": "closest",
          "mapbox": {
           "style": "light"
          },
          "paper_bgcolor": "white",
          "plot_bgcolor": "#E5ECF6",
          "polar": {
           "angularaxis": {
            "gridcolor": "white",
            "linecolor": "white",
            "ticks": ""
           },
           "bgcolor": "#E5ECF6",
           "radialaxis": {
            "gridcolor": "white",
            "linecolor": "white",
            "ticks": ""
           }
          },
          "scene": {
           "xaxis": {
            "backgroundcolor": "#E5ECF6",
            "gridcolor": "white",
            "gridwidth": 2,
            "linecolor": "white",
            "showbackground": true,
            "ticks": "",
            "zerolinecolor": "white"
           },
           "yaxis": {
            "backgroundcolor": "#E5ECF6",
            "gridcolor": "white",
            "gridwidth": 2,
            "linecolor": "white",
            "showbackground": true,
            "ticks": "",
            "zerolinecolor": "white"
           },
           "zaxis": {
            "backgroundcolor": "#E5ECF6",
            "gridcolor": "white",
            "gridwidth": 2,
            "linecolor": "white",
            "showbackground": true,
            "ticks": "",
            "zerolinecolor": "white"
           }
          },
          "shapedefaults": {
           "line": {
            "color": "#2a3f5f"
           }
          },
          "ternary": {
           "aaxis": {
            "gridcolor": "white",
            "linecolor": "white",
            "ticks": ""
           },
           "baxis": {
            "gridcolor": "white",
            "linecolor": "white",
            "ticks": ""
           },
           "bgcolor": "#E5ECF6",
           "caxis": {
            "gridcolor": "white",
            "linecolor": "white",
            "ticks": ""
           }
          },
          "title": {
           "x": 0.05
          },
          "xaxis": {
           "automargin": true,
           "gridcolor": "white",
           "linecolor": "white",
           "ticks": "",
           "title": {
            "standoff": 15
           },
           "zerolinecolor": "white",
           "zerolinewidth": 2
          },
          "yaxis": {
           "automargin": true,
           "gridcolor": "white",
           "linecolor": "white",
           "ticks": "",
           "title": {
            "standoff": 15
           },
           "zerolinecolor": "white",
           "zerolinewidth": 2
          }
         }
        },
        "title": {
         "text": "This Year's Monthly Sales"
        },
        "xaxis": {
         "anchor": "y",
         "domain": [
          0,
          1
         ],
         "title": {
          "text": "Date"
         }
        },
        "yaxis": {
         "anchor": "x",
         "domain": [
          0,
          1
         ],
         "title": {
          "text": "Total Sales"
         }
        }
       }
      }
     },
     "metadata": {},
     "output_type": "display_data"
    }
   ],
   "source": [
    "# trend analysis\n",
    "monthly_totals = yearly_data.groupby(yearly_data['Date'].dt.to_period('M'))['FinalAmount'].sum().reset_index()\n",
    "\n",
    "monthly_totals['Date'] = monthly_totals['Date'].dt.to_timestamp()\n",
    "\n",
    "fig = px.line(\n",
    "    monthly_totals, \n",
    "    x='Date', \n",
    "    y='FinalAmount', \n",
    "    title=\"This Year's Monthly Sales\",\n",
    "    labels={'FinalAmount': 'Total Sales'},\n",
    "    markers=True\n",
    ")\n",
    "fig.show()"
   ]
  },
  {
   "cell_type": "code",
   "execution_count": 41,
   "id": "42988785",
   "metadata": {},
   "outputs": [
    {
     "data": {
      "application/vnd.plotly.v1+json": {
       "config": {
        "plotlyServerURL": "https://plot.ly"
       },
       "data": [
        {
         "hovertemplate": "ProductName=%{x}<br>SalesCount=%{y}<extra></extra>",
         "legendgroup": "Product PowH",
         "marker": {
          "color": "#636EFA",
          "pattern": {
           "shape": ""
          }
         },
         "name": "Product PowH",
         "orientation": "v",
         "showlegend": true,
         "textposition": "auto",
         "type": "bar",
         "x": [
          "Product PowH"
         ],
         "xaxis": "x",
         "y": {
          "bdata": "Gw==",
          "dtype": "i1"
         },
         "yaxis": "y"
        },
        {
         "hovertemplate": "ProductName=%{x}<br>SalesCount=%{y}<extra></extra>",
         "legendgroup": "Product QieR",
         "marker": {
          "color": "#EF553B",
          "pattern": {
           "shape": ""
          }
         },
         "name": "Product QieR",
         "orientation": "v",
         "showlegend": true,
         "textposition": "auto",
         "type": "bar",
         "x": [
          "Product QieR"
         ],
         "xaxis": "x",
         "y": {
          "bdata": "Gw==",
          "dtype": "i1"
         },
         "yaxis": "y"
        },
        {
         "hovertemplate": "ProductName=%{x}<br>SalesCount=%{y}<extra></extra>",
         "legendgroup": "Product CFlG",
         "marker": {
          "color": "#00CC96",
          "pattern": {
           "shape": ""
          }
         },
         "name": "Product CFlG",
         "orientation": "v",
         "showlegend": true,
         "textposition": "auto",
         "type": "bar",
         "x": [
          "Product CFlG"
         ],
         "xaxis": "x",
         "y": {
          "bdata": "Gw==",
          "dtype": "i1"
         },
         "yaxis": "y"
        },
        {
         "hovertemplate": "ProductName=%{x}<br>SalesCount=%{y}<extra></extra>",
         "legendgroup": "Product TPHS",
         "marker": {
          "color": "#AB63FA",
          "pattern": {
           "shape": ""
          }
         },
         "name": "Product TPHS",
         "orientation": "v",
         "showlegend": true,
         "textposition": "auto",
         "type": "bar",
         "x": [
          "Product TPHS"
         ],
         "xaxis": "x",
         "y": {
          "bdata": "Gw==",
          "dtype": "i1"
         },
         "yaxis": "y"
        },
        {
         "hovertemplate": "ProductName=%{x}<br>SalesCount=%{y}<extra></extra>",
         "legendgroup": "Product RBZK",
         "marker": {
          "color": "#FFA15A",
          "pattern": {
           "shape": ""
          }
         },
         "name": "Product RBZK",
         "orientation": "v",
         "showlegend": true,
         "textposition": "auto",
         "type": "bar",
         "x": [
          "Product RBZK"
         ],
         "xaxis": "x",
         "y": {
          "bdata": "Gg==",
          "dtype": "i1"
         },
         "yaxis": "y"
        },
        {
         "hovertemplate": "ProductName=%{x}<br>SalesCount=%{y}<extra></extra>",
         "legendgroup": "Product uDMi",
         "marker": {
          "color": "#19D3F3",
          "pattern": {
           "shape": ""
          }
         },
         "name": "Product uDMi",
         "orientation": "v",
         "showlegend": true,
         "textposition": "auto",
         "type": "bar",
         "x": [
          "Product uDMi"
         ],
         "xaxis": "x",
         "y": {
          "bdata": "Gg==",
          "dtype": "i1"
         },
         "yaxis": "y"
        },
        {
         "hovertemplate": "ProductName=%{x}<br>SalesCount=%{y}<extra></extra>",
         "legendgroup": "Product SDqV",
         "marker": {
          "color": "#FF6692",
          "pattern": {
           "shape": ""
          }
         },
         "name": "Product SDqV",
         "orientation": "v",
         "showlegend": true,
         "textposition": "auto",
         "type": "bar",
         "x": [
          "Product SDqV"
         ],
         "xaxis": "x",
         "y": {
          "bdata": "Gg==",
          "dtype": "i1"
         },
         "yaxis": "y"
        },
        {
         "hovertemplate": "ProductName=%{x}<br>SalesCount=%{y}<extra></extra>",
         "legendgroup": "Product uYXk",
         "marker": {
          "color": "#B6E880",
          "pattern": {
           "shape": ""
          }
         },
         "name": "Product uYXk",
         "orientation": "v",
         "showlegend": true,
         "textposition": "auto",
         "type": "bar",
         "x": [
          "Product uYXk"
         ],
         "xaxis": "x",
         "y": {
          "bdata": "Gg==",
          "dtype": "i1"
         },
         "yaxis": "y"
        },
        {
         "hovertemplate": "ProductName=%{x}<br>SalesCount=%{y}<extra></extra>",
         "legendgroup": "Product Ojpq",
         "marker": {
          "color": "#FF97FF",
          "pattern": {
           "shape": ""
          }
         },
         "name": "Product Ojpq",
         "orientation": "v",
         "showlegend": true,
         "textposition": "auto",
         "type": "bar",
         "x": [
          "Product Ojpq"
         ],
         "xaxis": "x",
         "y": {
          "bdata": "Gg==",
          "dtype": "i1"
         },
         "yaxis": "y"
        },
        {
         "hovertemplate": "ProductName=%{x}<br>SalesCount=%{y}<extra></extra>",
         "legendgroup": "Product ixKd",
         "marker": {
          "color": "#FECB52",
          "pattern": {
           "shape": ""
          }
         },
         "name": "Product ixKd",
         "orientation": "v",
         "showlegend": true,
         "textposition": "auto",
         "type": "bar",
         "x": [
          "Product ixKd"
         ],
         "xaxis": "x",
         "y": {
          "bdata": "Gg==",
          "dtype": "i1"
         },
         "yaxis": "y"
        },
        {
         "hovertemplate": "ProductName=%{x}<br>SalesCount=%{y}<extra></extra>",
         "legendgroup": "Product lkss",
         "marker": {
          "color": "#636EFA",
          "pattern": {
           "shape": ""
          }
         },
         "name": "Product lkss",
         "orientation": "v",
         "showlegend": true,
         "textposition": "auto",
         "type": "bar",
         "x": [
          "Product lkss"
         ],
         "xaxis": "x",
         "y": {
          "bdata": "GQ==",
          "dtype": "i1"
         },
         "yaxis": "y"
        },
        {
         "hovertemplate": "ProductName=%{x}<br>SalesCount=%{y}<extra></extra>",
         "legendgroup": "Product gAAz",
         "marker": {
          "color": "#EF553B",
          "pattern": {
           "shape": ""
          }
         },
         "name": "Product gAAz",
         "orientation": "v",
         "showlegend": true,
         "textposition": "auto",
         "type": "bar",
         "x": [
          "Product gAAz"
         ],
         "xaxis": "x",
         "y": {
          "bdata": "GQ==",
          "dtype": "i1"
         },
         "yaxis": "y"
        },
        {
         "hovertemplate": "ProductName=%{x}<br>SalesCount=%{y}<extra></extra>",
         "legendgroup": "Product MgAy",
         "marker": {
          "color": "#00CC96",
          "pattern": {
           "shape": ""
          }
         },
         "name": "Product MgAy",
         "orientation": "v",
         "showlegend": true,
         "textposition": "auto",
         "type": "bar",
         "x": [
          "Product MgAy"
         ],
         "xaxis": "x",
         "y": {
          "bdata": "GQ==",
          "dtype": "i1"
         },
         "yaxis": "y"
        },
        {
         "hovertemplate": "ProductName=%{x}<br>SalesCount=%{y}<extra></extra>",
         "legendgroup": "Product swCp",
         "marker": {
          "color": "#AB63FA",
          "pattern": {
           "shape": ""
          }
         },
         "name": "Product swCp",
         "orientation": "v",
         "showlegend": true,
         "textposition": "auto",
         "type": "bar",
         "x": [
          "Product swCp"
         ],
         "xaxis": "x",
         "y": {
          "bdata": "GQ==",
          "dtype": "i1"
         },
         "yaxis": "y"
        },
        {
         "hovertemplate": "ProductName=%{x}<br>SalesCount=%{y}<extra></extra>",
         "legendgroup": "Product xAjD",
         "marker": {
          "color": "#FFA15A",
          "pattern": {
           "shape": ""
          }
         },
         "name": "Product xAjD",
         "orientation": "v",
         "showlegend": true,
         "textposition": "auto",
         "type": "bar",
         "x": [
          "Product xAjD"
         ],
         "xaxis": "x",
         "y": {
          "bdata": "GQ==",
          "dtype": "i1"
         },
         "yaxis": "y"
        },
        {
         "hovertemplate": "ProductName=%{x}<br>SalesCount=%{y}<extra></extra>",
         "legendgroup": "Product izNL",
         "marker": {
          "color": "#19D3F3",
          "pattern": {
           "shape": ""
          }
         },
         "name": "Product izNL",
         "orientation": "v",
         "showlegend": true,
         "textposition": "auto",
         "type": "bar",
         "x": [
          "Product izNL"
         ],
         "xaxis": "x",
         "y": {
          "bdata": "GQ==",
          "dtype": "i1"
         },
         "yaxis": "y"
        },
        {
         "hovertemplate": "ProductName=%{x}<br>SalesCount=%{y}<extra></extra>",
         "legendgroup": "Product DmtF",
         "marker": {
          "color": "#FF6692",
          "pattern": {
           "shape": ""
          }
         },
         "name": "Product DmtF",
         "orientation": "v",
         "showlegend": true,
         "textposition": "auto",
         "type": "bar",
         "x": [
          "Product DmtF"
         ],
         "xaxis": "x",
         "y": {
          "bdata": "GQ==",
          "dtype": "i1"
         },
         "yaxis": "y"
        },
        {
         "hovertemplate": "ProductName=%{x}<br>SalesCount=%{y}<extra></extra>",
         "legendgroup": "Product hXJr",
         "marker": {
          "color": "#B6E880",
          "pattern": {
           "shape": ""
          }
         },
         "name": "Product hXJr",
         "orientation": "v",
         "showlegend": true,
         "textposition": "auto",
         "type": "bar",
         "x": [
          "Product hXJr"
         ],
         "xaxis": "x",
         "y": {
          "bdata": "GQ==",
          "dtype": "i1"
         },
         "yaxis": "y"
        },
        {
         "hovertemplate": "ProductName=%{x}<br>SalesCount=%{y}<extra></extra>",
         "legendgroup": "Product XduR",
         "marker": {
          "color": "#FF97FF",
          "pattern": {
           "shape": ""
          }
         },
         "name": "Product XduR",
         "orientation": "v",
         "showlegend": true,
         "textposition": "auto",
         "type": "bar",
         "x": [
          "Product XduR"
         ],
         "xaxis": "x",
         "y": {
          "bdata": "GQ==",
          "dtype": "i1"
         },
         "yaxis": "y"
        },
        {
         "hovertemplate": "ProductName=%{x}<br>SalesCount=%{y}<extra></extra>",
         "legendgroup": "Product dxzm",
         "marker": {
          "color": "#FECB52",
          "pattern": {
           "shape": ""
          }
         },
         "name": "Product dxzm",
         "orientation": "v",
         "showlegend": true,
         "textposition": "auto",
         "type": "bar",
         "x": [
          "Product dxzm"
         ],
         "xaxis": "x",
         "y": {
          "bdata": "GA==",
          "dtype": "i1"
         },
         "yaxis": "y"
        }
       ],
       "layout": {
        "barmode": "relative",
        "legend": {
         "title": {
          "text": "ProductName"
         },
         "tracegroupgap": 0
        },
        "template": {
         "data": {
          "bar": [
           {
            "error_x": {
             "color": "#2a3f5f"
            },
            "error_y": {
             "color": "#2a3f5f"
            },
            "marker": {
             "line": {
              "color": "#E5ECF6",
              "width": 0.5
             },
             "pattern": {
              "fillmode": "overlay",
              "size": 10,
              "solidity": 0.2
             }
            },
            "type": "bar"
           }
          ],
          "barpolar": [
           {
            "marker": {
             "line": {
              "color": "#E5ECF6",
              "width": 0.5
             },
             "pattern": {
              "fillmode": "overlay",
              "size": 10,
              "solidity": 0.2
             }
            },
            "type": "barpolar"
           }
          ],
          "carpet": [
           {
            "aaxis": {
             "endlinecolor": "#2a3f5f",
             "gridcolor": "white",
             "linecolor": "white",
             "minorgridcolor": "white",
             "startlinecolor": "#2a3f5f"
            },
            "baxis": {
             "endlinecolor": "#2a3f5f",
             "gridcolor": "white",
             "linecolor": "white",
             "minorgridcolor": "white",
             "startlinecolor": "#2a3f5f"
            },
            "type": "carpet"
           }
          ],
          "choropleth": [
           {
            "colorbar": {
             "outlinewidth": 0,
             "ticks": ""
            },
            "type": "choropleth"
           }
          ],
          "contour": [
           {
            "colorbar": {
             "outlinewidth": 0,
             "ticks": ""
            },
            "colorscale": [
             [
              0,
              "#0d0887"
             ],
             [
              0.1111111111111111,
              "#46039f"
             ],
             [
              0.2222222222222222,
              "#7201a8"
             ],
             [
              0.3333333333333333,
              "#9c179e"
             ],
             [
              0.4444444444444444,
              "#bd3786"
             ],
             [
              0.5555555555555556,
              "#d8576b"
             ],
             [
              0.6666666666666666,
              "#ed7953"
             ],
             [
              0.7777777777777778,
              "#fb9f3a"
             ],
             [
              0.8888888888888888,
              "#fdca26"
             ],
             [
              1,
              "#f0f921"
             ]
            ],
            "type": "contour"
           }
          ],
          "contourcarpet": [
           {
            "colorbar": {
             "outlinewidth": 0,
             "ticks": ""
            },
            "type": "contourcarpet"
           }
          ],
          "heatmap": [
           {
            "colorbar": {
             "outlinewidth": 0,
             "ticks": ""
            },
            "colorscale": [
             [
              0,
              "#0d0887"
             ],
             [
              0.1111111111111111,
              "#46039f"
             ],
             [
              0.2222222222222222,
              "#7201a8"
             ],
             [
              0.3333333333333333,
              "#9c179e"
             ],
             [
              0.4444444444444444,
              "#bd3786"
             ],
             [
              0.5555555555555556,
              "#d8576b"
             ],
             [
              0.6666666666666666,
              "#ed7953"
             ],
             [
              0.7777777777777778,
              "#fb9f3a"
             ],
             [
              0.8888888888888888,
              "#fdca26"
             ],
             [
              1,
              "#f0f921"
             ]
            ],
            "type": "heatmap"
           }
          ],
          "histogram": [
           {
            "marker": {
             "pattern": {
              "fillmode": "overlay",
              "size": 10,
              "solidity": 0.2
             }
            },
            "type": "histogram"
           }
          ],
          "histogram2d": [
           {
            "colorbar": {
             "outlinewidth": 0,
             "ticks": ""
            },
            "colorscale": [
             [
              0,
              "#0d0887"
             ],
             [
              0.1111111111111111,
              "#46039f"
             ],
             [
              0.2222222222222222,
              "#7201a8"
             ],
             [
              0.3333333333333333,
              "#9c179e"
             ],
             [
              0.4444444444444444,
              "#bd3786"
             ],
             [
              0.5555555555555556,
              "#d8576b"
             ],
             [
              0.6666666666666666,
              "#ed7953"
             ],
             [
              0.7777777777777778,
              "#fb9f3a"
             ],
             [
              0.8888888888888888,
              "#fdca26"
             ],
             [
              1,
              "#f0f921"
             ]
            ],
            "type": "histogram2d"
           }
          ],
          "histogram2dcontour": [
           {
            "colorbar": {
             "outlinewidth": 0,
             "ticks": ""
            },
            "colorscale": [
             [
              0,
              "#0d0887"
             ],
             [
              0.1111111111111111,
              "#46039f"
             ],
             [
              0.2222222222222222,
              "#7201a8"
             ],
             [
              0.3333333333333333,
              "#9c179e"
             ],
             [
              0.4444444444444444,
              "#bd3786"
             ],
             [
              0.5555555555555556,
              "#d8576b"
             ],
             [
              0.6666666666666666,
              "#ed7953"
             ],
             [
              0.7777777777777778,
              "#fb9f3a"
             ],
             [
              0.8888888888888888,
              "#fdca26"
             ],
             [
              1,
              "#f0f921"
             ]
            ],
            "type": "histogram2dcontour"
           }
          ],
          "mesh3d": [
           {
            "colorbar": {
             "outlinewidth": 0,
             "ticks": ""
            },
            "type": "mesh3d"
           }
          ],
          "parcoords": [
           {
            "line": {
             "colorbar": {
              "outlinewidth": 0,
              "ticks": ""
             }
            },
            "type": "parcoords"
           }
          ],
          "pie": [
           {
            "automargin": true,
            "type": "pie"
           }
          ],
          "scatter": [
           {
            "fillpattern": {
             "fillmode": "overlay",
             "size": 10,
             "solidity": 0.2
            },
            "type": "scatter"
           }
          ],
          "scatter3d": [
           {
            "line": {
             "colorbar": {
              "outlinewidth": 0,
              "ticks": ""
             }
            },
            "marker": {
             "colorbar": {
              "outlinewidth": 0,
              "ticks": ""
             }
            },
            "type": "scatter3d"
           }
          ],
          "scattercarpet": [
           {
            "marker": {
             "colorbar": {
              "outlinewidth": 0,
              "ticks": ""
             }
            },
            "type": "scattercarpet"
           }
          ],
          "scattergeo": [
           {
            "marker": {
             "colorbar": {
              "outlinewidth": 0,
              "ticks": ""
             }
            },
            "type": "scattergeo"
           }
          ],
          "scattergl": [
           {
            "marker": {
             "colorbar": {
              "outlinewidth": 0,
              "ticks": ""
             }
            },
            "type": "scattergl"
           }
          ],
          "scattermap": [
           {
            "marker": {
             "colorbar": {
              "outlinewidth": 0,
              "ticks": ""
             }
            },
            "type": "scattermap"
           }
          ],
          "scattermapbox": [
           {
            "marker": {
             "colorbar": {
              "outlinewidth": 0,
              "ticks": ""
             }
            },
            "type": "scattermapbox"
           }
          ],
          "scatterpolar": [
           {
            "marker": {
             "colorbar": {
              "outlinewidth": 0,
              "ticks": ""
             }
            },
            "type": "scatterpolar"
           }
          ],
          "scatterpolargl": [
           {
            "marker": {
             "colorbar": {
              "outlinewidth": 0,
              "ticks": ""
             }
            },
            "type": "scatterpolargl"
           }
          ],
          "scatterternary": [
           {
            "marker": {
             "colorbar": {
              "outlinewidth": 0,
              "ticks": ""
             }
            },
            "type": "scatterternary"
           }
          ],
          "surface": [
           {
            "colorbar": {
             "outlinewidth": 0,
             "ticks": ""
            },
            "colorscale": [
             [
              0,
              "#0d0887"
             ],
             [
              0.1111111111111111,
              "#46039f"
             ],
             [
              0.2222222222222222,
              "#7201a8"
             ],
             [
              0.3333333333333333,
              "#9c179e"
             ],
             [
              0.4444444444444444,
              "#bd3786"
             ],
             [
              0.5555555555555556,
              "#d8576b"
             ],
             [
              0.6666666666666666,
              "#ed7953"
             ],
             [
              0.7777777777777778,
              "#fb9f3a"
             ],
             [
              0.8888888888888888,
              "#fdca26"
             ],
             [
              1,
              "#f0f921"
             ]
            ],
            "type": "surface"
           }
          ],
          "table": [
           {
            "cells": {
             "fill": {
              "color": "#EBF0F8"
             },
             "line": {
              "color": "white"
             }
            },
            "header": {
             "fill": {
              "color": "#C8D4E3"
             },
             "line": {
              "color": "white"
             }
            },
            "type": "table"
           }
          ]
         },
         "layout": {
          "annotationdefaults": {
           "arrowcolor": "#2a3f5f",
           "arrowhead": 0,
           "arrowwidth": 1
          },
          "autotypenumbers": "strict",
          "coloraxis": {
           "colorbar": {
            "outlinewidth": 0,
            "ticks": ""
           }
          },
          "colorscale": {
           "diverging": [
            [
             0,
             "#8e0152"
            ],
            [
             0.1,
             "#c51b7d"
            ],
            [
             0.2,
             "#de77ae"
            ],
            [
             0.3,
             "#f1b6da"
            ],
            [
             0.4,
             "#fde0ef"
            ],
            [
             0.5,
             "#f7f7f7"
            ],
            [
             0.6,
             "#e6f5d0"
            ],
            [
             0.7,
             "#b8e186"
            ],
            [
             0.8,
             "#7fbc41"
            ],
            [
             0.9,
             "#4d9221"
            ],
            [
             1,
             "#276419"
            ]
           ],
           "sequential": [
            [
             0,
             "#0d0887"
            ],
            [
             0.1111111111111111,
             "#46039f"
            ],
            [
             0.2222222222222222,
             "#7201a8"
            ],
            [
             0.3333333333333333,
             "#9c179e"
            ],
            [
             0.4444444444444444,
             "#bd3786"
            ],
            [
             0.5555555555555556,
             "#d8576b"
            ],
            [
             0.6666666666666666,
             "#ed7953"
            ],
            [
             0.7777777777777778,
             "#fb9f3a"
            ],
            [
             0.8888888888888888,
             "#fdca26"
            ],
            [
             1,
             "#f0f921"
            ]
           ],
           "sequentialminus": [
            [
             0,
             "#0d0887"
            ],
            [
             0.1111111111111111,
             "#46039f"
            ],
            [
             0.2222222222222222,
             "#7201a8"
            ],
            [
             0.3333333333333333,
             "#9c179e"
            ],
            [
             0.4444444444444444,
             "#bd3786"
            ],
            [
             0.5555555555555556,
             "#d8576b"
            ],
            [
             0.6666666666666666,
             "#ed7953"
            ],
            [
             0.7777777777777778,
             "#fb9f3a"
            ],
            [
             0.8888888888888888,
             "#fdca26"
            ],
            [
             1,
             "#f0f921"
            ]
           ]
          },
          "colorway": [
           "#636efa",
           "#EF553B",
           "#00cc96",
           "#ab63fa",
           "#FFA15A",
           "#19d3f3",
           "#FF6692",
           "#B6E880",
           "#FF97FF",
           "#FECB52"
          ],
          "font": {
           "color": "#2a3f5f"
          },
          "geo": {
           "bgcolor": "white",
           "lakecolor": "white",
           "landcolor": "#E5ECF6",
           "showlakes": true,
           "showland": true,
           "subunitcolor": "white"
          },
          "hoverlabel": {
           "align": "left"
          },
          "hovermode": "closest",
          "mapbox": {
           "style": "light"
          },
          "paper_bgcolor": "white",
          "plot_bgcolor": "#E5ECF6",
          "polar": {
           "angularaxis": {
            "gridcolor": "white",
            "linecolor": "white",
            "ticks": ""
           },
           "bgcolor": "#E5ECF6",
           "radialaxis": {
            "gridcolor": "white",
            "linecolor": "white",
            "ticks": ""
           }
          },
          "scene": {
           "xaxis": {
            "backgroundcolor": "#E5ECF6",
            "gridcolor": "white",
            "gridwidth": 2,
            "linecolor": "white",
            "showbackground": true,
            "ticks": "",
            "zerolinecolor": "white"
           },
           "yaxis": {
            "backgroundcolor": "#E5ECF6",
            "gridcolor": "white",
            "gridwidth": 2,
            "linecolor": "white",
            "showbackground": true,
            "ticks": "",
            "zerolinecolor": "white"
           },
           "zaxis": {
            "backgroundcolor": "#E5ECF6",
            "gridcolor": "white",
            "gridwidth": 2,
            "linecolor": "white",
            "showbackground": true,
            "ticks": "",
            "zerolinecolor": "white"
           }
          },
          "shapedefaults": {
           "line": {
            "color": "#2a3f5f"
           }
          },
          "ternary": {
           "aaxis": {
            "gridcolor": "white",
            "linecolor": "white",
            "ticks": ""
           },
           "baxis": {
            "gridcolor": "white",
            "linecolor": "white",
            "ticks": ""
           },
           "bgcolor": "#E5ECF6",
           "caxis": {
            "gridcolor": "white",
            "linecolor": "white",
            "ticks": ""
           }
          },
          "title": {
           "x": 0.05
          },
          "xaxis": {
           "automargin": true,
           "gridcolor": "white",
           "linecolor": "white",
           "ticks": "",
           "title": {
            "standoff": 15
           },
           "zerolinecolor": "white",
           "zerolinewidth": 2
          },
          "yaxis": {
           "automargin": true,
           "gridcolor": "white",
           "linecolor": "white",
           "ticks": "",
           "title": {
            "standoff": 15
           },
           "zerolinecolor": "white",
           "zerolinewidth": 2
          }
         }
        },
        "title": {
         "text": "THIS YEAR'S TOP 20 BEST SELLING PRODUCTS"
        },
        "xaxis": {
         "anchor": "y",
         "categoryarray": [
          "Product PowH",
          "Product QieR",
          "Product CFlG",
          "Product TPHS",
          "Product RBZK",
          "Product uDMi",
          "Product SDqV",
          "Product uYXk",
          "Product Ojpq",
          "Product ixKd",
          "Product lkss",
          "Product gAAz",
          "Product MgAy",
          "Product swCp",
          "Product xAjD",
          "Product izNL",
          "Product DmtF",
          "Product hXJr",
          "Product XduR",
          "Product dxzm"
         ],
         "categoryorder": "array",
         "domain": [
          0,
          1
         ],
         "title": {
          "text": "ProductName"
         }
        },
        "yaxis": {
         "anchor": "x",
         "domain": [
          0,
          1
         ],
         "title": {
          "text": "SalesCount"
         }
        }
       }
      }
     },
     "metadata": {},
     "output_type": "display_data"
    }
   ],
   "source": [
    "# top 10 best selling products\n",
    "\n",
    "if yearly_data is None or \"ProductName\" not in yearly_data.columns:\n",
    "    print(\"Missing 'ProductName' column for bar graph.\")\n",
    "\n",
    "\n",
    "top_products = yearly_data[\"ProductName\"].value_counts().sort_values(ascending=False).head(20)\n",
    "df_top = top_products.reset_index()\n",
    "df_top.columns = [\"ProductName\", \"SalesCount\"]\n",
    "\n",
    "fig = px.bar(\n",
    "    df_top,\n",
    "    x=\"ProductName\",\n",
    "    y=\"SalesCount\",\n",
    "    color=\"ProductName\",  # Categorical coloring\n",
    "    title=\"THIS YEAR'S TOP 20 BEST SELLING PRODUCTS\",\n",
    "    color_discrete_sequence=px.colors.qualitative.Plotly  # Use a vibrant palette\n",
    ")\n",
    "\n",
    "fig.show()"
   ]
  },
  {
   "cell_type": "code",
   "execution_count": 42,
   "id": "831e8639",
   "metadata": {},
   "outputs": [
    {
     "name": "stderr",
     "output_type": "stream",
     "text": [
      "C:\\Users\\Dell\\AppData\\Local\\Temp\\ipykernel_2816\\278046671.py:13: SettingWithCopyWarning:\n",
      "\n",
      "\n",
      "A value is trying to be set on a copy of a slice from a DataFrame.\n",
      "Try using .loc[row_indexer,col_indexer] = value instead\n",
      "\n",
      "See the caveats in the documentation: https://pandas.pydata.org/pandas-docs/stable/user_guide/indexing.html#returning-a-view-versus-a-copy\n",
      "\n",
      "C:\\Users\\Dell\\AppData\\Local\\Temp\\ipykernel_2816\\278046671.py:15: SettingWithCopyWarning:\n",
      "\n",
      "\n",
      "A value is trying to be set on a copy of a slice from a DataFrame.\n",
      "Try using .loc[row_indexer,col_indexer] = value instead\n",
      "\n",
      "See the caveats in the documentation: https://pandas.pydata.org/pandas-docs/stable/user_guide/indexing.html#returning-a-view-versus-a-copy\n",
      "\n"
     ]
    },
    {
     "data": {
      "application/vnd.plotly.v1+json": {
       "config": {
        "plotlyServerURL": "https://plot.ly"
       },
       "data": [
        {
         "hovertemplate": "Profit_Margin (%)=%{y}<br>Category=%{x}<extra></extra>",
         "legendgroup": "11.076168982787307",
         "marker": {
          "color": "#636efa",
          "pattern": {
           "shape": ""
          }
         },
         "name": "11.076168982787307",
         "orientation": "v",
         "showlegend": true,
         "textposition": "auto",
         "type": "bar",
         "x": [
          "Wellness"
         ],
         "xaxis": "x",
         "y": [
          11.076168982787307
         ],
         "yaxis": "y"
        },
        {
         "hovertemplate": "Profit_Margin (%)=%{y}<br>Category=%{x}<extra></extra>",
         "legendgroup": "10.18273064564641",
         "marker": {
          "color": "#EF553B",
          "pattern": {
           "shape": ""
          }
         },
         "name": "10.18273064564641",
         "orientation": "v",
         "showlegend": true,
         "textposition": "auto",
         "type": "bar",
         "x": [
          "Equipment"
         ],
         "xaxis": "x",
         "y": [
          10.18273064564641
         ],
         "yaxis": "y"
        },
        {
         "hovertemplate": "Profit_Margin (%)=%{y}<br>Category=%{x}<extra></extra>",
         "legendgroup": "10.053495264282395",
         "marker": {
          "color": "#00cc96",
          "pattern": {
           "shape": ""
          }
         },
         "name": "10.053495264282395",
         "orientation": "v",
         "showlegend": true,
         "textposition": "auto",
         "type": "bar",
         "x": [
          "OTC"
         ],
         "xaxis": "x",
         "y": [
          10.053495264282395
         ],
         "yaxis": "y"
        },
        {
         "hovertemplate": "Profit_Margin (%)=%{y}<br>Category=%{x}<extra></extra>",
         "legendgroup": "9.48515143648649",
         "marker": {
          "color": "#ab63fa",
          "pattern": {
           "shape": ""
          }
         },
         "name": "9.48515143648649",
         "orientation": "v",
         "showlegend": true,
         "textposition": "auto",
         "type": "bar",
         "x": [
          "Prescription"
         ],
         "xaxis": "x",
         "y": [
          9.48515143648649
         ],
         "yaxis": "y"
        }
       ],
       "layout": {
        "barmode": "relative",
        "legend": {
         "title": {
          "text": "Profit_Margin (%)"
         },
         "tracegroupgap": 0
        },
        "template": {
         "data": {
          "bar": [
           {
            "error_x": {
             "color": "#2a3f5f"
            },
            "error_y": {
             "color": "#2a3f5f"
            },
            "marker": {
             "line": {
              "color": "#E5ECF6",
              "width": 0.5
             },
             "pattern": {
              "fillmode": "overlay",
              "size": 10,
              "solidity": 0.2
             }
            },
            "type": "bar"
           }
          ],
          "barpolar": [
           {
            "marker": {
             "line": {
              "color": "#E5ECF6",
              "width": 0.5
             },
             "pattern": {
              "fillmode": "overlay",
              "size": 10,
              "solidity": 0.2
             }
            },
            "type": "barpolar"
           }
          ],
          "carpet": [
           {
            "aaxis": {
             "endlinecolor": "#2a3f5f",
             "gridcolor": "white",
             "linecolor": "white",
             "minorgridcolor": "white",
             "startlinecolor": "#2a3f5f"
            },
            "baxis": {
             "endlinecolor": "#2a3f5f",
             "gridcolor": "white",
             "linecolor": "white",
             "minorgridcolor": "white",
             "startlinecolor": "#2a3f5f"
            },
            "type": "carpet"
           }
          ],
          "choropleth": [
           {
            "colorbar": {
             "outlinewidth": 0,
             "ticks": ""
            },
            "type": "choropleth"
           }
          ],
          "contour": [
           {
            "colorbar": {
             "outlinewidth": 0,
             "ticks": ""
            },
            "colorscale": [
             [
              0,
              "#0d0887"
             ],
             [
              0.1111111111111111,
              "#46039f"
             ],
             [
              0.2222222222222222,
              "#7201a8"
             ],
             [
              0.3333333333333333,
              "#9c179e"
             ],
             [
              0.4444444444444444,
              "#bd3786"
             ],
             [
              0.5555555555555556,
              "#d8576b"
             ],
             [
              0.6666666666666666,
              "#ed7953"
             ],
             [
              0.7777777777777778,
              "#fb9f3a"
             ],
             [
              0.8888888888888888,
              "#fdca26"
             ],
             [
              1,
              "#f0f921"
             ]
            ],
            "type": "contour"
           }
          ],
          "contourcarpet": [
           {
            "colorbar": {
             "outlinewidth": 0,
             "ticks": ""
            },
            "type": "contourcarpet"
           }
          ],
          "heatmap": [
           {
            "colorbar": {
             "outlinewidth": 0,
             "ticks": ""
            },
            "colorscale": [
             [
              0,
              "#0d0887"
             ],
             [
              0.1111111111111111,
              "#46039f"
             ],
             [
              0.2222222222222222,
              "#7201a8"
             ],
             [
              0.3333333333333333,
              "#9c179e"
             ],
             [
              0.4444444444444444,
              "#bd3786"
             ],
             [
              0.5555555555555556,
              "#d8576b"
             ],
             [
              0.6666666666666666,
              "#ed7953"
             ],
             [
              0.7777777777777778,
              "#fb9f3a"
             ],
             [
              0.8888888888888888,
              "#fdca26"
             ],
             [
              1,
              "#f0f921"
             ]
            ],
            "type": "heatmap"
           }
          ],
          "histogram": [
           {
            "marker": {
             "pattern": {
              "fillmode": "overlay",
              "size": 10,
              "solidity": 0.2
             }
            },
            "type": "histogram"
           }
          ],
          "histogram2d": [
           {
            "colorbar": {
             "outlinewidth": 0,
             "ticks": ""
            },
            "colorscale": [
             [
              0,
              "#0d0887"
             ],
             [
              0.1111111111111111,
              "#46039f"
             ],
             [
              0.2222222222222222,
              "#7201a8"
             ],
             [
              0.3333333333333333,
              "#9c179e"
             ],
             [
              0.4444444444444444,
              "#bd3786"
             ],
             [
              0.5555555555555556,
              "#d8576b"
             ],
             [
              0.6666666666666666,
              "#ed7953"
             ],
             [
              0.7777777777777778,
              "#fb9f3a"
             ],
             [
              0.8888888888888888,
              "#fdca26"
             ],
             [
              1,
              "#f0f921"
             ]
            ],
            "type": "histogram2d"
           }
          ],
          "histogram2dcontour": [
           {
            "colorbar": {
             "outlinewidth": 0,
             "ticks": ""
            },
            "colorscale": [
             [
              0,
              "#0d0887"
             ],
             [
              0.1111111111111111,
              "#46039f"
             ],
             [
              0.2222222222222222,
              "#7201a8"
             ],
             [
              0.3333333333333333,
              "#9c179e"
             ],
             [
              0.4444444444444444,
              "#bd3786"
             ],
             [
              0.5555555555555556,
              "#d8576b"
             ],
             [
              0.6666666666666666,
              "#ed7953"
             ],
             [
              0.7777777777777778,
              "#fb9f3a"
             ],
             [
              0.8888888888888888,
              "#fdca26"
             ],
             [
              1,
              "#f0f921"
             ]
            ],
            "type": "histogram2dcontour"
           }
          ],
          "mesh3d": [
           {
            "colorbar": {
             "outlinewidth": 0,
             "ticks": ""
            },
            "type": "mesh3d"
           }
          ],
          "parcoords": [
           {
            "line": {
             "colorbar": {
              "outlinewidth": 0,
              "ticks": ""
             }
            },
            "type": "parcoords"
           }
          ],
          "pie": [
           {
            "automargin": true,
            "type": "pie"
           }
          ],
          "scatter": [
           {
            "fillpattern": {
             "fillmode": "overlay",
             "size": 10,
             "solidity": 0.2
            },
            "type": "scatter"
           }
          ],
          "scatter3d": [
           {
            "line": {
             "colorbar": {
              "outlinewidth": 0,
              "ticks": ""
             }
            },
            "marker": {
             "colorbar": {
              "outlinewidth": 0,
              "ticks": ""
             }
            },
            "type": "scatter3d"
           }
          ],
          "scattercarpet": [
           {
            "marker": {
             "colorbar": {
              "outlinewidth": 0,
              "ticks": ""
             }
            },
            "type": "scattercarpet"
           }
          ],
          "scattergeo": [
           {
            "marker": {
             "colorbar": {
              "outlinewidth": 0,
              "ticks": ""
             }
            },
            "type": "scattergeo"
           }
          ],
          "scattergl": [
           {
            "marker": {
             "colorbar": {
              "outlinewidth": 0,
              "ticks": ""
             }
            },
            "type": "scattergl"
           }
          ],
          "scattermap": [
           {
            "marker": {
             "colorbar": {
              "outlinewidth": 0,
              "ticks": ""
             }
            },
            "type": "scattermap"
           }
          ],
          "scattermapbox": [
           {
            "marker": {
             "colorbar": {
              "outlinewidth": 0,
              "ticks": ""
             }
            },
            "type": "scattermapbox"
           }
          ],
          "scatterpolar": [
           {
            "marker": {
             "colorbar": {
              "outlinewidth": 0,
              "ticks": ""
             }
            },
            "type": "scatterpolar"
           }
          ],
          "scatterpolargl": [
           {
            "marker": {
             "colorbar": {
              "outlinewidth": 0,
              "ticks": ""
             }
            },
            "type": "scatterpolargl"
           }
          ],
          "scatterternary": [
           {
            "marker": {
             "colorbar": {
              "outlinewidth": 0,
              "ticks": ""
             }
            },
            "type": "scatterternary"
           }
          ],
          "surface": [
           {
            "colorbar": {
             "outlinewidth": 0,
             "ticks": ""
            },
            "colorscale": [
             [
              0,
              "#0d0887"
             ],
             [
              0.1111111111111111,
              "#46039f"
             ],
             [
              0.2222222222222222,
              "#7201a8"
             ],
             [
              0.3333333333333333,
              "#9c179e"
             ],
             [
              0.4444444444444444,
              "#bd3786"
             ],
             [
              0.5555555555555556,
              "#d8576b"
             ],
             [
              0.6666666666666666,
              "#ed7953"
             ],
             [
              0.7777777777777778,
              "#fb9f3a"
             ],
             [
              0.8888888888888888,
              "#fdca26"
             ],
             [
              1,
              "#f0f921"
             ]
            ],
            "type": "surface"
           }
          ],
          "table": [
           {
            "cells": {
             "fill": {
              "color": "#EBF0F8"
             },
             "line": {
              "color": "white"
             }
            },
            "header": {
             "fill": {
              "color": "#C8D4E3"
             },
             "line": {
              "color": "white"
             }
            },
            "type": "table"
           }
          ]
         },
         "layout": {
          "annotationdefaults": {
           "arrowcolor": "#2a3f5f",
           "arrowhead": 0,
           "arrowwidth": 1
          },
          "autotypenumbers": "strict",
          "coloraxis": {
           "colorbar": {
            "outlinewidth": 0,
            "ticks": ""
           }
          },
          "colorscale": {
           "diverging": [
            [
             0,
             "#8e0152"
            ],
            [
             0.1,
             "#c51b7d"
            ],
            [
             0.2,
             "#de77ae"
            ],
            [
             0.3,
             "#f1b6da"
            ],
            [
             0.4,
             "#fde0ef"
            ],
            [
             0.5,
             "#f7f7f7"
            ],
            [
             0.6,
             "#e6f5d0"
            ],
            [
             0.7,
             "#b8e186"
            ],
            [
             0.8,
             "#7fbc41"
            ],
            [
             0.9,
             "#4d9221"
            ],
            [
             1,
             "#276419"
            ]
           ],
           "sequential": [
            [
             0,
             "#0d0887"
            ],
            [
             0.1111111111111111,
             "#46039f"
            ],
            [
             0.2222222222222222,
             "#7201a8"
            ],
            [
             0.3333333333333333,
             "#9c179e"
            ],
            [
             0.4444444444444444,
             "#bd3786"
            ],
            [
             0.5555555555555556,
             "#d8576b"
            ],
            [
             0.6666666666666666,
             "#ed7953"
            ],
            [
             0.7777777777777778,
             "#fb9f3a"
            ],
            [
             0.8888888888888888,
             "#fdca26"
            ],
            [
             1,
             "#f0f921"
            ]
           ],
           "sequentialminus": [
            [
             0,
             "#0d0887"
            ],
            [
             0.1111111111111111,
             "#46039f"
            ],
            [
             0.2222222222222222,
             "#7201a8"
            ],
            [
             0.3333333333333333,
             "#9c179e"
            ],
            [
             0.4444444444444444,
             "#bd3786"
            ],
            [
             0.5555555555555556,
             "#d8576b"
            ],
            [
             0.6666666666666666,
             "#ed7953"
            ],
            [
             0.7777777777777778,
             "#fb9f3a"
            ],
            [
             0.8888888888888888,
             "#fdca26"
            ],
            [
             1,
             "#f0f921"
            ]
           ]
          },
          "colorway": [
           "#636efa",
           "#EF553B",
           "#00cc96",
           "#ab63fa",
           "#FFA15A",
           "#19d3f3",
           "#FF6692",
           "#B6E880",
           "#FF97FF",
           "#FECB52"
          ],
          "font": {
           "color": "#2a3f5f"
          },
          "geo": {
           "bgcolor": "white",
           "lakecolor": "white",
           "landcolor": "#E5ECF6",
           "showlakes": true,
           "showland": true,
           "subunitcolor": "white"
          },
          "hoverlabel": {
           "align": "left"
          },
          "hovermode": "closest",
          "mapbox": {
           "style": "light"
          },
          "paper_bgcolor": "white",
          "plot_bgcolor": "#E5ECF6",
          "polar": {
           "angularaxis": {
            "gridcolor": "white",
            "linecolor": "white",
            "ticks": ""
           },
           "bgcolor": "#E5ECF6",
           "radialaxis": {
            "gridcolor": "white",
            "linecolor": "white",
            "ticks": ""
           }
          },
          "scene": {
           "xaxis": {
            "backgroundcolor": "#E5ECF6",
            "gridcolor": "white",
            "gridwidth": 2,
            "linecolor": "white",
            "showbackground": true,
            "ticks": "",
            "zerolinecolor": "white"
           },
           "yaxis": {
            "backgroundcolor": "#E5ECF6",
            "gridcolor": "white",
            "gridwidth": 2,
            "linecolor": "white",
            "showbackground": true,
            "ticks": "",
            "zerolinecolor": "white"
           },
           "zaxis": {
            "backgroundcolor": "#E5ECF6",
            "gridcolor": "white",
            "gridwidth": 2,
            "linecolor": "white",
            "showbackground": true,
            "ticks": "",
            "zerolinecolor": "white"
           }
          },
          "shapedefaults": {
           "line": {
            "color": "#2a3f5f"
           }
          },
          "ternary": {
           "aaxis": {
            "gridcolor": "white",
            "linecolor": "white",
            "ticks": ""
           },
           "baxis": {
            "gridcolor": "white",
            "linecolor": "white",
            "ticks": ""
           },
           "bgcolor": "#E5ECF6",
           "caxis": {
            "gridcolor": "white",
            "linecolor": "white",
            "ticks": ""
           }
          },
          "title": {
           "x": 0.05
          },
          "xaxis": {
           "automargin": true,
           "gridcolor": "white",
           "linecolor": "white",
           "ticks": "",
           "title": {
            "standoff": 15
           },
           "zerolinecolor": "white",
           "zerolinewidth": 2
          },
          "yaxis": {
           "automargin": true,
           "gridcolor": "white",
           "linecolor": "white",
           "ticks": "",
           "title": {
            "standoff": 15
           },
           "zerolinecolor": "white",
           "zerolinewidth": 2
          }
         }
        },
        "title": {
         "text": "YEAR'S PROFIT MARGIN BY CATEGORY"
        },
        "xaxis": {
         "anchor": "y",
         "domain": [
          0,
          1
         ],
         "title": {
          "text": "Category"
         }
        },
        "yaxis": {
         "anchor": "x",
         "categoryarray": [
          9.48515143648649,
          10.053495264282395,
          10.18273064564641,
          11.076168982787307
         ],
         "categoryorder": "array",
         "domain": [
          0,
          1
         ],
         "title": {
          "text": "Profit_Margin (%)"
         }
        }
       }
      }
     },
     "metadata": {},
     "output_type": "display_data"
    }
   ],
   "source": [
    "# profit margin by category\n",
    "category_col = \"Category\"\n",
    "revenue_col = \"FinalAmount\"\n",
    "cost_price_col = \"CostPrice\"\n",
    "quantity_col = \"Quantity\"\n",
    "\n",
    "required_cols = [category_col, revenue_col, cost_price_col, quantity_col]\n",
    "missing = [col for col in required_cols if col not in yearly_data.columns]\n",
    "if missing:\n",
    "    print(f\"Missing columns for profit margin chart: {', '.join(missing)}\")\n",
    "\n",
    "\n",
    "yearly_data.loc[:, \"Cost\"] = yearly_data[cost_price_col] * yearly_data[quantity_col]\n",
    "if \"FinalAmount\" in yearly_data.columns:\n",
    "    yearly_data.loc[:, \"Profit\"] = yearly_data[revenue_col] - yearly_data[cost_price_col] * yearly_data[quantity_col]\n",
    "elif (\"SellingPrice\" in yearly_data.columns) and (\"Quantity\" in yearly_data.columns):\n",
    "    yearly_data.loc[:, \"Profit\"] = (yearly_data[\"SellingPrice\"] * yearly_data[\"Quantity\"]) - yearly_data[\"Cost\"]\n",
    "\n",
    "grouped = yearly_data.groupby(category_col).agg(\n",
    "    Total_Profit=(\"Profit\", \"sum\"),\n",
    "    Total_Revenue=(revenue_col, \"sum\")\n",
    ").reset_index()\n",
    "\n",
    "grouped[\"Profit_Margin (%)\"] = round((grouped[\"Total_Profit\"] / grouped[\"Total_Revenue\"]) * 100, 2)\n",
    "grouped = grouped.sort_values(\"Profit_Margin (%)\", ascending=False)\n",
    "\n",
    "fig = px.bar(\n",
    "    grouped,\n",
    "    x=category_col,\n",
    "    y=\"Profit_Margin (%)\",\n",
    "    color=\"Profit_Margin (%)\",\n",
    "    title=\"YEAR'S PROFIT MARGIN BY CATEGORY\",\n",
    "    color_continuous_scale=\"Viridis\"\n",
    ")\n",
    "\n",
    "fig.show()"
   ]
  },
  {
   "cell_type": "markdown",
   "id": "0b48275c",
   "metadata": {},
   "source": [
    "## **INVENTORY AGING TABLE (TOP10)**"
   ]
  },
  {
   "cell_type": "code",
   "execution_count": 43,
   "id": "8d139518",
   "metadata": {},
   "outputs": [
    {
     "data": {
      "text/html": [
       "<div>\n",
       "<style scoped>\n",
       "    .dataframe tbody tr th:only-of-type {\n",
       "        vertical-align: middle;\n",
       "    }\n",
       "\n",
       "    .dataframe tbody tr th {\n",
       "        vertical-align: top;\n",
       "    }\n",
       "\n",
       "    .dataframe thead th {\n",
       "        text-align: right;\n",
       "    }\n",
       "</style>\n",
       "<table border=\"1\" class=\"dataframe\">\n",
       "  <thead>\n",
       "    <tr style=\"text-align: right;\">\n",
       "      <th></th>\n",
       "      <th>ProductID</th>\n",
       "      <th>ProductName</th>\n",
       "      <th>LastTransactionDate</th>\n",
       "      <th>InventoryAge (days)</th>\n",
       "    </tr>\n",
       "  </thead>\n",
       "  <tbody>\n",
       "    <tr>\n",
       "      <th>509</th>\n",
       "      <td>P0509</td>\n",
       "      <td>Product dZNm</td>\n",
       "      <td>2025-03-19</td>\n",
       "      <td>68</td>\n",
       "    </tr>\n",
       "    <tr>\n",
       "      <th>996</th>\n",
       "      <td>P0996</td>\n",
       "      <td>Product HuRr</td>\n",
       "      <td>2025-03-23</td>\n",
       "      <td>64</td>\n",
       "    </tr>\n",
       "    <tr>\n",
       "      <th>836</th>\n",
       "      <td>P0836</td>\n",
       "      <td>Product uYUO</td>\n",
       "      <td>2025-03-25</td>\n",
       "      <td>62</td>\n",
       "    </tr>\n",
       "    <tr>\n",
       "      <th>39</th>\n",
       "      <td>P0039</td>\n",
       "      <td>Product MPjf</td>\n",
       "      <td>2025-03-26</td>\n",
       "      <td>61</td>\n",
       "    </tr>\n",
       "    <tr>\n",
       "      <th>978</th>\n",
       "      <td>P0978</td>\n",
       "      <td>Product idgD</td>\n",
       "      <td>2025-03-27</td>\n",
       "      <td>60</td>\n",
       "    </tr>\n",
       "    <tr>\n",
       "      <th>...</th>\n",
       "      <td>...</td>\n",
       "      <td>...</td>\n",
       "      <td>...</td>\n",
       "      <td>...</td>\n",
       "    </tr>\n",
       "    <tr>\n",
       "      <th>45</th>\n",
       "      <td>P0045</td>\n",
       "      <td>Product trKr</td>\n",
       "      <td>2025-05-07</td>\n",
       "      <td>19</td>\n",
       "    </tr>\n",
       "    <tr>\n",
       "      <th>961</th>\n",
       "      <td>P0961</td>\n",
       "      <td>Product kQSQ</td>\n",
       "      <td>2025-05-07</td>\n",
       "      <td>19</td>\n",
       "    </tr>\n",
       "    <tr>\n",
       "      <th>25</th>\n",
       "      <td>P0025</td>\n",
       "      <td>Product IcAd</td>\n",
       "      <td>2025-05-07</td>\n",
       "      <td>19</td>\n",
       "    </tr>\n",
       "    <tr>\n",
       "      <th>12</th>\n",
       "      <td>P0012</td>\n",
       "      <td>Product nDek</td>\n",
       "      <td>2025-05-07</td>\n",
       "      <td>19</td>\n",
       "    </tr>\n",
       "    <tr>\n",
       "      <th>999</th>\n",
       "      <td>P0999</td>\n",
       "      <td>Product jqof</td>\n",
       "      <td>2025-05-07</td>\n",
       "      <td>19</td>\n",
       "    </tr>\n",
       "  </tbody>\n",
       "</table>\n",
       "<p>1000 rows × 4 columns</p>\n",
       "</div>"
      ],
      "text/plain": [
       "    ProductID   ProductName LastTransactionDate  InventoryAge (days)\n",
       "509     P0509  Product dZNm          2025-03-19                   68\n",
       "996     P0996  Product HuRr          2025-03-23                   64\n",
       "836     P0836  Product uYUO          2025-03-25                   62\n",
       "39      P0039  Product MPjf          2025-03-26                   61\n",
       "978     P0978  Product idgD          2025-03-27                   60\n",
       "..        ...           ...                 ...                  ...\n",
       "45      P0045  Product trKr          2025-05-07                   19\n",
       "961     P0961  Product kQSQ          2025-05-07                   19\n",
       "25      P0025  Product IcAd          2025-05-07                   19\n",
       "12      P0012  Product nDek          2025-05-07                   19\n",
       "999     P0999  Product jqof          2025-05-07                   19\n",
       "\n",
       "[1000 rows x 4 columns]"
      ]
     },
     "execution_count": 43,
     "metadata": {},
     "output_type": "execute_result"
    }
   ],
   "source": [
    "if \"ProductID\" not in processed_final_df.columns or \"Date\" not in processed_final_df.columns:\n",
    "    print(\"Missing 'ProductID' or 'Date' column for inventory aging.\")\n",
    "\n",
    "\n",
    "# Step 1: Get latest transaction date per ProductID\n",
    "last_transaction = processed_final_df.groupby('ProductID')['Date'].max().reset_index()\n",
    "last_transaction.columns = ['ProductID', 'LastTransactionDate']\n",
    "\n",
    "# Step 2: Calculate inventory age\n",
    "last_transaction['InventoryAge (days)'] = (today - last_transaction['LastTransactionDate']).dt.days\n",
    "\n",
    "# Step 3: Get product names (unique)\n",
    "product_names = processed_final_df[['ProductID', 'ProductName']].drop_duplicates()\n",
    "\n",
    "# Step 4: Merge to bring in ProductName\n",
    "last_transaction = pd.merge(last_transaction, product_names, on='ProductID', how='left')\n",
    "\n",
    "# Step 5: Sort by age\n",
    "last_transaction = last_transaction.sort_values(by='InventoryAge (days)', ascending=False)\n",
    "\n",
    "last_transaction[['ProductID', 'ProductName', 'LastTransactionDate', 'InventoryAge (days)']]"
   ]
  },
  {
   "cell_type": "markdown",
   "id": "fd22f6d6",
   "metadata": {},
   "source": [
    "## **MACHINE LEARNING**"
   ]
  },
  {
   "cell_type": "code",
   "execution_count": 44,
   "id": "aab0b493",
   "metadata": {},
   "outputs": [
    {
     "data": {
      "text/plain": [
       "['DateOfFirstPurchase', 'LastPurchaseDate', 'Date', 'ExpiryDate']"
      ]
     },
     "execution_count": 44,
     "metadata": {},
     "output_type": "execute_result"
    }
   ],
   "source": [
    "# for ml_df\n",
    "# GET datetime columns\n",
    "datetime_list = []\n",
    "\n",
    "# take each column\n",
    "for col in ml_df.columns:\n",
    "    # Drop nulls and convert to string\n",
    "    non_null_data = ml_df[col].dropna().astype(str)\n",
    "\n",
    "    # Sample min(20, available rows)\n",
    "    sample_size = min(20, len(non_null_data))\n",
    "    sample_rows = non_null_data.sample(sample_size)\n",
    "    \n",
    "    count = 0\n",
    "\n",
    "    if pd.api.types.is_object_dtype(ml_df[col]):\n",
    "        for item in sample_rows:\n",
    "            try:\n",
    "                pd.to_datetime(item)\n",
    "                count += 1\n",
    "            except Exception:\n",
    "                continue\n",
    "\n",
    "        if count / sample_size >= 0.8:\n",
    "            datetime_list.append(col)\n",
    "\n",
    "datetime_list\n"
   ]
  },
  {
   "cell_type": "code",
   "execution_count": 45,
   "id": "5c48808b",
   "metadata": {},
   "outputs": [
    {
     "name": "stdout",
     "output_type": "stream",
     "text": [
      "<class 'pandas.core.frame.DataFrame'>\n",
      "RangeIndex: 90000 entries, 0 to 89999\n",
      "Data columns (total 23 columns):\n",
      " #   Column               Non-Null Count  Dtype         \n",
      "---  ------               --------------  -----         \n",
      " 0   CustomerID           90000 non-null  object        \n",
      " 1   CustomerType         90000 non-null  object        \n",
      " 2   AgeGroup             90000 non-null  object        \n",
      " 3   Gender               90000 non-null  object        \n",
      " 4   Location             90000 non-null  object        \n",
      " 5   DateOfFirstPurchase  90000 non-null  datetime64[ns]\n",
      " 6   LastPurchaseDate     90000 non-null  datetime64[ns]\n",
      " 7   TransactionID        90000 non-null  object        \n",
      " 8   Date                 90000 non-null  datetime64[ns]\n",
      " 9   ProductID            90000 non-null  object        \n",
      " 10  Quantity             90000 non-null  int64         \n",
      " 11  DiscountPercent      90000 non-null  int64         \n",
      " 12  PaymentMethod        90000 non-null  object        \n",
      " 13  UnitPrice            90000 non-null  float64       \n",
      " 14  TotalAmount          90000 non-null  float64       \n",
      " 15  FinalAmount          90000 non-null  float64       \n",
      " 16  ProductName          90000 non-null  object        \n",
      " 17  Category             90000 non-null  object        \n",
      " 18  CostPrice            90000 non-null  float64       \n",
      " 19  StockQuantity        90000 non-null  int64         \n",
      " 20  ReorderLevel         90000 non-null  int64         \n",
      " 21  ExpiryDate           90000 non-null  datetime64[ns]\n",
      " 22  SellingPrice         90000 non-null  float64       \n",
      "dtypes: datetime64[ns](4), float64(5), int64(4), object(10)\n",
      "memory usage: 15.8+ MB\n"
     ]
    }
   ],
   "source": [
    "# convert to datetime\n",
    "for dt in datetime_list:\n",
    "    ml_df[dt] = pd.to_datetime(ml_df[dt])\n",
    "ml_df.info()"
   ]
  },
  {
   "cell_type": "code",
   "execution_count": 46,
   "id": "f438f220",
   "metadata": {},
   "outputs": [
    {
     "name": "stdout",
     "output_type": "stream",
     "text": [
      "['CustomerID', 'TransactionID', 'ProductID']\n",
      "['CustomerType', 'AgeGroup', 'Gender', 'Location', 'PaymentMethod', 'ProductName', 'Category', 'DiscountPercent']\n",
      "['Quantity', 'UnitPrice', 'TotalAmount', 'FinalAmount', 'CostPrice', 'StockQuantity', 'ReorderLevel', 'SellingPrice']\n",
      "<class 'pandas.core.frame.DataFrame'>\n",
      "RangeIndex: 90000 entries, 0 to 89999\n",
      "Data columns (total 8 columns):\n",
      " #   Column         Non-Null Count  Dtype  \n",
      "---  ------         --------------  -----  \n",
      " 0   Quantity       90000 non-null  int64  \n",
      " 1   UnitPrice      90000 non-null  float64\n",
      " 2   TotalAmount    90000 non-null  float64\n",
      " 3   FinalAmount    90000 non-null  float64\n",
      " 4   CostPrice      90000 non-null  float64\n",
      " 5   StockQuantity  90000 non-null  int64  \n",
      " 6   ReorderLevel   90000 non-null  int64  \n",
      " 7   SellingPrice   90000 non-null  float64\n",
      "dtypes: float64(5), int64(3)\n",
      "memory usage: 5.5 MB\n"
     ]
    }
   ],
   "source": [
    "# now to prepare the data for machine learning using simple imputer, one hot encoder and standard scaler\n",
    "# removing the id columns\n",
    "print(id_col)\n",
    "print(cat_col)\n",
    "print(num_col)\n",
    "\n",
    "# remove id columns from the list\n",
    "ml_cleaned_df = ml_df.drop(columns=id_col).copy()\n",
    "# remove datetime columns from the list\n",
    "ml_final_df = ml_cleaned_df.drop(columns=datetime_list).copy()\n",
    "\n",
    "ml_model_df = ml_final_df[num_col].copy()\n",
    "ml_model_df.info()"
   ]
  },
  {
   "cell_type": "markdown",
   "id": "cf40f104",
   "metadata": {},
   "source": [
    "# IMPORTANT STEP FOR **SALES FORECASTING** - 'FinalAmount' is the target."
   ]
  },
  {
   "cell_type": "code",
   "execution_count": 47,
   "id": "0c0717d9",
   "metadata": {},
   "outputs": [],
   "source": [
    "X = ml_model_df.drop('FinalAmount', axis=1).copy()\n",
    "y = ml_model_df['FinalAmount'].copy()\n",
    "\n",
    "# create a pipeline for preprocessing\n",
    "X_train, X_test, y_train, y_test = train_test_split(X, y, test_size=0.2, random_state=17)\n",
    "\n",
    "# impute for ml columns\n",
    "pipeline = Pipeline(steps=[\n",
    "    ('imputer', SimpleImputer(strategy='median', add_indicator=True)),\n",
    "    ('scaler', StandardScaler()),\n",
    "    ('model', LinearRegression())\n",
    "])"
   ]
  },
  {
   "cell_type": "code",
   "execution_count": 48,
   "id": "3903508e",
   "metadata": {},
   "outputs": [
    {
     "name": "stdout",
     "output_type": "stream",
     "text": [
      "Model R^2 Score: 0.97\n"
     ]
    }
   ],
   "source": [
    "# fit the model\n",
    "pipeline.fit(X_train, y_train)\n",
    "# evaluate the model\n",
    "score = pipeline.score(X_test, y_test)\n",
    "print(f\"Model R^2 Score: {score:.2f}\")"
   ]
  },
  {
   "cell_type": "code",
   "execution_count": 49,
   "id": "72234cf6",
   "metadata": {},
   "outputs": [
    {
     "data": {
      "text/html": [
       "<div>\n",
       "<style scoped>\n",
       "    .dataframe tbody tr th:only-of-type {\n",
       "        vertical-align: middle;\n",
       "    }\n",
       "\n",
       "    .dataframe tbody tr th {\n",
       "        vertical-align: top;\n",
       "    }\n",
       "\n",
       "    .dataframe thead th {\n",
       "        text-align: right;\n",
       "    }\n",
       "</style>\n",
       "<table border=\"1\" class=\"dataframe\">\n",
       "  <thead>\n",
       "    <tr style=\"text-align: right;\">\n",
       "      <th></th>\n",
       "      <th>Actual</th>\n",
       "      <th>Predicted</th>\n",
       "    </tr>\n",
       "  </thead>\n",
       "  <tbody>\n",
       "    <tr>\n",
       "      <th>58417</th>\n",
       "      <td>2686.59</td>\n",
       "      <td>2537.933307</td>\n",
       "    </tr>\n",
       "    <tr>\n",
       "      <th>12119</th>\n",
       "      <td>641.15</td>\n",
       "      <td>778.203668</td>\n",
       "    </tr>\n",
       "    <tr>\n",
       "      <th>15450</th>\n",
       "      <td>1169.09</td>\n",
       "      <td>1104.425089</td>\n",
       "    </tr>\n",
       "    <tr>\n",
       "      <th>53294</th>\n",
       "      <td>365.28</td>\n",
       "      <td>440.241077</td>\n",
       "    </tr>\n",
       "    <tr>\n",
       "      <th>49366</th>\n",
       "      <td>276.57</td>\n",
       "      <td>313.870812</td>\n",
       "    </tr>\n",
       "  </tbody>\n",
       "</table>\n",
       "</div>"
      ],
      "text/plain": [
       "        Actual    Predicted\n",
       "58417  2686.59  2537.933307\n",
       "12119   641.15   778.203668\n",
       "15450  1169.09  1104.425089\n",
       "53294   365.28   440.241077\n",
       "49366   276.57   313.870812"
      ]
     },
     "execution_count": 49,
     "metadata": {},
     "output_type": "execute_result"
    }
   ],
   "source": [
    "# predict on the test set\n",
    "y_pred = pipeline.predict(X_test)\n",
    "\n",
    "# create a dataframe for predictions\n",
    "predictions_df = pd.DataFrame({\n",
    "    'Actual': y_test,\n",
    "    'Predicted': y_pred\n",
    "})\n",
    "predictions_df.head()"
   ]
  },
  {
   "cell_type": "code",
   "execution_count": 50,
   "id": "19574705",
   "metadata": {},
   "outputs": [
    {
     "name": "stdout",
     "output_type": "stream",
     "text": [
      "Mean Absolute Error: 154.37\n",
      "Mean Squared Error: 55497.65\n",
      "Root Mean Squared Error: 235.58\n",
      "R^2 Score: 0.97\n"
     ]
    }
   ],
   "source": [
    "# scores \n",
    "from sklearn.metrics import mean_absolute_error, mean_squared_error, r2_score\n",
    "mae = mean_absolute_error(y_test, y_pred)\n",
    "mse = mean_squared_error(y_test, y_pred)\n",
    "rmse = np.sqrt(mse)\n",
    "print(f\"Mean Absolute Error: {mae:.2f}\")\n",
    "print(f\"Mean Squared Error: {mse:.2f}\")\n",
    "print(f\"Root Mean Squared Error: {rmse:.2f}\")\n",
    "print(f\"R^2 Score: {r2_score(y_test, y_pred):.2f}\")\n"
   ]
  },
  {
   "cell_type": "markdown",
   "id": "7d4ce221",
   "metadata": {},
   "source": [
    "# CUSTOMER SEGMENTATION\n"
   ]
  },
  {
   "cell_type": "code",
   "execution_count": 51,
   "id": "66b659d8",
   "metadata": {},
   "outputs": [
    {
     "data": {
      "text/html": [
       "<div>\n",
       "<style scoped>\n",
       "    .dataframe tbody tr th:only-of-type {\n",
       "        vertical-align: middle;\n",
       "    }\n",
       "\n",
       "    .dataframe tbody tr th {\n",
       "        vertical-align: top;\n",
       "    }\n",
       "\n",
       "    .dataframe thead th {\n",
       "        text-align: right;\n",
       "    }\n",
       "</style>\n",
       "<table border=\"1\" class=\"dataframe\">\n",
       "  <thead>\n",
       "    <tr style=\"text-align: right;\">\n",
       "      <th></th>\n",
       "      <th>CustomerID</th>\n",
       "      <th>CustomerType</th>\n",
       "      <th>AgeGroup</th>\n",
       "      <th>Gender</th>\n",
       "      <th>Location</th>\n",
       "      <th>DateOfFirstPurchase</th>\n",
       "      <th>LastPurchaseDate</th>\n",
       "      <th>TransactionID</th>\n",
       "      <th>Date</th>\n",
       "      <th>ProductID</th>\n",
       "      <th>...</th>\n",
       "      <th>UnitPrice</th>\n",
       "      <th>TotalAmount</th>\n",
       "      <th>FinalAmount</th>\n",
       "      <th>ProductName</th>\n",
       "      <th>Category</th>\n",
       "      <th>CostPrice</th>\n",
       "      <th>StockQuantity</th>\n",
       "      <th>ReorderLevel</th>\n",
       "      <th>ExpiryDate</th>\n",
       "      <th>SellingPrice</th>\n",
       "    </tr>\n",
       "  </thead>\n",
       "  <tbody>\n",
       "    <tr>\n",
       "      <th>0</th>\n",
       "      <td>C00000</td>\n",
       "      <td>Returning</td>\n",
       "      <td>18-25</td>\n",
       "      <td>Male</td>\n",
       "      <td>Lake Richardberg</td>\n",
       "      <td>2024-02-14</td>\n",
       "      <td>2024-06-07</td>\n",
       "      <td>T0020173</td>\n",
       "      <td>2025-02-14</td>\n",
       "      <td>P0064</td>\n",
       "      <td>...</td>\n",
       "      <td>260.28</td>\n",
       "      <td>780.84</td>\n",
       "      <td>780.84</td>\n",
       "      <td>Product Cohk</td>\n",
       "      <td>Wellness</td>\n",
       "      <td>181.79</td>\n",
       "      <td>99</td>\n",
       "      <td>26</td>\n",
       "      <td>2026-11-20</td>\n",
       "      <td>260.28</td>\n",
       "    </tr>\n",
       "    <tr>\n",
       "      <th>1</th>\n",
       "      <td>C00001</td>\n",
       "      <td>Returning</td>\n",
       "      <td>18-25</td>\n",
       "      <td>Other</td>\n",
       "      <td>Kellychester</td>\n",
       "      <td>2023-08-02</td>\n",
       "      <td>2024-07-12</td>\n",
       "      <td>T0022207</td>\n",
       "      <td>2025-05-05</td>\n",
       "      <td>P0805</td>\n",
       "      <td>...</td>\n",
       "      <td>510.17</td>\n",
       "      <td>4081.36</td>\n",
       "      <td>3469.16</td>\n",
       "      <td>Product jMJW</td>\n",
       "      <td>Equipment</td>\n",
       "      <td>436.77</td>\n",
       "      <td>319</td>\n",
       "      <td>42</td>\n",
       "      <td>2026-08-11</td>\n",
       "      <td>510.17</td>\n",
       "    </tr>\n",
       "    <tr>\n",
       "      <th>2</th>\n",
       "      <td>C00001</td>\n",
       "      <td>Returning</td>\n",
       "      <td>18-25</td>\n",
       "      <td>Other</td>\n",
       "      <td>Kellychester</td>\n",
       "      <td>2023-08-02</td>\n",
       "      <td>2024-07-12</td>\n",
       "      <td>T0033667</td>\n",
       "      <td>2024-11-08</td>\n",
       "      <td>P0394</td>\n",
       "      <td>...</td>\n",
       "      <td>490.52</td>\n",
       "      <td>4905.20</td>\n",
       "      <td>3678.90</td>\n",
       "      <td>Product zsBG</td>\n",
       "      <td>Wellness</td>\n",
       "      <td>337.36</td>\n",
       "      <td>343</td>\n",
       "      <td>43</td>\n",
       "      <td>2026-06-28</td>\n",
       "      <td>490.52</td>\n",
       "    </tr>\n",
       "    <tr>\n",
       "      <th>3</th>\n",
       "      <td>C00002</td>\n",
       "      <td>New</td>\n",
       "      <td>18-25</td>\n",
       "      <td>Female</td>\n",
       "      <td>Longbury</td>\n",
       "      <td>2024-03-29</td>\n",
       "      <td>2024-08-04</td>\n",
       "      <td>T0019925</td>\n",
       "      <td>2024-12-01</td>\n",
       "      <td>P0237</td>\n",
       "      <td>...</td>\n",
       "      <td>514.67</td>\n",
       "      <td>5146.70</td>\n",
       "      <td>4374.70</td>\n",
       "      <td>Product ipVZ</td>\n",
       "      <td>OTC</td>\n",
       "      <td>410.13</td>\n",
       "      <td>451</td>\n",
       "      <td>31</td>\n",
       "      <td>2026-04-03</td>\n",
       "      <td>514.67</td>\n",
       "    </tr>\n",
       "    <tr>\n",
       "      <th>4</th>\n",
       "      <td>C00002</td>\n",
       "      <td>New</td>\n",
       "      <td>18-25</td>\n",
       "      <td>Female</td>\n",
       "      <td>Longbury</td>\n",
       "      <td>2024-03-29</td>\n",
       "      <td>2024-08-04</td>\n",
       "      <td>T0025197</td>\n",
       "      <td>2024-08-04</td>\n",
       "      <td>P0663</td>\n",
       "      <td>...</td>\n",
       "      <td>533.44</td>\n",
       "      <td>2667.20</td>\n",
       "      <td>2533.84</td>\n",
       "      <td>Product usEA</td>\n",
       "      <td>OTC</td>\n",
       "      <td>374.32</td>\n",
       "      <td>423</td>\n",
       "      <td>36</td>\n",
       "      <td>2028-02-28</td>\n",
       "      <td>533.44</td>\n",
       "    </tr>\n",
       "  </tbody>\n",
       "</table>\n",
       "<p>5 rows × 23 columns</p>\n",
       "</div>"
      ],
      "text/plain": [
       "  CustomerID CustomerType AgeGroup  Gender          Location  \\\n",
       "0     C00000    Returning    18-25    Male  Lake Richardberg   \n",
       "1     C00001    Returning    18-25   Other      Kellychester   \n",
       "2     C00001    Returning    18-25   Other      Kellychester   \n",
       "3     C00002          New    18-25  Female          Longbury   \n",
       "4     C00002          New    18-25  Female          Longbury   \n",
       "\n",
       "  DateOfFirstPurchase LastPurchaseDate TransactionID       Date ProductID  \\\n",
       "0          2024-02-14       2024-06-07      T0020173 2025-02-14     P0064   \n",
       "1          2023-08-02       2024-07-12      T0022207 2025-05-05     P0805   \n",
       "2          2023-08-02       2024-07-12      T0033667 2024-11-08     P0394   \n",
       "3          2024-03-29       2024-08-04      T0019925 2024-12-01     P0237   \n",
       "4          2024-03-29       2024-08-04      T0025197 2024-08-04     P0663   \n",
       "\n",
       "   ...  UnitPrice  TotalAmount FinalAmount   ProductName   Category  \\\n",
       "0  ...     260.28       780.84      780.84  Product Cohk   Wellness   \n",
       "1  ...     510.17      4081.36     3469.16  Product jMJW  Equipment   \n",
       "2  ...     490.52      4905.20     3678.90  Product zsBG   Wellness   \n",
       "3  ...     514.67      5146.70     4374.70  Product ipVZ        OTC   \n",
       "4  ...     533.44      2667.20     2533.84  Product usEA        OTC   \n",
       "\n",
       "   CostPrice StockQuantity ReorderLevel  ExpiryDate  SellingPrice  \n",
       "0     181.79            99           26  2026-11-20        260.28  \n",
       "1     436.77           319           42  2026-08-11        510.17  \n",
       "2     337.36           343           43  2026-06-28        490.52  \n",
       "3     410.13           451           31  2026-04-03        514.67  \n",
       "4     374.32           423           36  2028-02-28        533.44  \n",
       "\n",
       "[5 rows x 23 columns]"
      ]
     },
     "execution_count": 51,
     "metadata": {},
     "output_type": "execute_result"
    }
   ],
   "source": [
    "ml_df.head()"
   ]
  },
  {
   "cell_type": "markdown",
   "id": "19ce93e3",
   "metadata": {},
   "source": [
    "#### Necessary columns (we will use recency, frequency and monitary to find out about the customer segments):\n",
    "* **CustomerID**\tUnique identifier to group purchases\n",
    "* **Date**\tDate of each transaction (used to find recency + frequency)\n",
    "* **TransactionID**\tTo count number of distinct purchases\n",
    "* **FinalAmount**\tTo sum how much the customer spent\n",
    "* **(Optional) LastPurchaseDate**\tCan be used directly for recency if available"
   ]
  },
  {
   "cell_type": "code",
   "execution_count": 52,
   "id": "e566a515",
   "metadata": {},
   "outputs": [
    {
     "data": {
      "text/plain": [
       "Index(['CustomerID', 'CustomerType', 'AgeGroup', 'Gender', 'Location',\n",
       "       'DateOfFirstPurchase', 'LastPurchaseDate', 'TransactionID', 'Date',\n",
       "       'ProductID', 'Quantity', 'DiscountPercent', 'PaymentMethod',\n",
       "       'UnitPrice', 'TotalAmount', 'FinalAmount', 'ProductName', 'Category',\n",
       "       'CostPrice', 'StockQuantity', 'ReorderLevel', 'ExpiryDate',\n",
       "       'SellingPrice'],\n",
       "      dtype='object')"
      ]
     },
     "execution_count": 52,
     "metadata": {},
     "output_type": "execute_result"
    }
   ],
   "source": [
    "ml_df.columns"
   ]
  },
  {
   "cell_type": "code",
   "execution_count": null,
   "id": "85393fae",
   "metadata": {},
   "outputs": [],
   "source": []
  }
 ],
 "metadata": {
  "kernelspec": {
   "display_name": "Python 3",
   "language": "python",
   "name": "python3"
  },
  "language_info": {
   "codemirror_mode": {
    "name": "ipython",
    "version": 3
   },
   "file_extension": ".py",
   "mimetype": "text/x-python",
   "name": "python",
   "nbconvert_exporter": "python",
   "pygments_lexer": "ipython3",
   "version": "3.13.2"
  }
 },
 "nbformat": 4,
 "nbformat_minor": 5
}
